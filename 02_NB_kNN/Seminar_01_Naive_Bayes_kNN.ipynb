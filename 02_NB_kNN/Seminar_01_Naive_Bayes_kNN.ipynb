{
 "cells": [
  {
   "cell_type": "markdown",
   "metadata": {
    "id": "Hfi_y3t3TXHw"
   },
   "source": [
    "# Семинар № 1 - kNN, Bayes\n",
    "---\n",
    "Урок основан на открытых материалах [Evgeny Sokolov](https://github.com/esokolov) и [YSDA](https://github.com/yandexdataschool)."
   ]
  },
  {
   "cell_type": "markdown",
   "metadata": {
    "id": "pUmzcExmHpUN"
   },
   "source": [
    "# Загрузка данных"
   ]
  },
  {
   "cell_type": "code",
   "execution_count": null,
   "metadata": {
    "ExecuteTime": {
     "end_time": "2020-02-11T07:08:51.904850Z",
     "start_time": "2020-02-11T07:08:50.413258Z"
    },
    "executionInfo": {
     "elapsed": 972,
     "status": "ok",
     "timestamp": 1631624356789,
     "user": {
      "displayName": "Даниил Русланович Махоткин",
      "photoUrl": "https://lh3.googleusercontent.com/a/default-user=s64",
      "userId": "18336248573599285046"
     },
     "user_tz": -180
    },
    "id": "FjOE8YGIHpUO"
   },
   "outputs": [],
   "source": [
    "# базовый набор для обработки даннных\n",
    "import numpy as np\n",
    "import pandas as pd\n",
    "\n",
    "# отображение данных\n",
    "import matplotlib.pyplot as plt\n",
    "import seaborn as sns\n",
    "\n",
    "# данные и алгоритмы ML\n",
    "from sklearn import datasets\n",
    "\n",
    "%matplotlib inline\n",
    "%load_ext autoreload\n",
    "%autoreload 2\n",
    "\n",
    "matplotlib.rcParams['font.size'] = 11\n",
    "matplotlib.style = 'seaborn'"
   ]
  },
  {
   "cell_type": "markdown",
   "metadata": {
    "id": "6pm2w2NVHpUQ"
   },
   "source": [
    "Сначала для загрузки набора данных мы будем использовать пакет [`sklearn`](https://scikit-learn.org/stable/), который будем активно использовать на протяжении всего курса.\n",
    "\n",
    "sklearn реализует большинство классических и часто используемых алгоритмов машинного обучения. Также он предоставляет [Руководство пользователя] (https://scikit-learn.org/stable/user_guide.html), описывающее принципы каждой группы реализованных алгоритмов.\n",
    "\n",
    "В качестве отправной точки для основных концепций sklearn мы рекомендуем [руководство по началу работы] (https://scikit-learn.org/stable/getting_started.html) (проверьте сами). [Дополнительные руководства] (https://scikit-learn.org/stable/tutorial/index.html) также могут быть полезны для развития ваших навыков."
   ]
  },
  {
   "cell_type": "markdown",
   "metadata": {
    "id": "HnlLAnDYHpUQ"
   },
   "source": [
    "Первая функциональность, которую мы используем, — удобная загрузка [общих наборов данных] (https://scikit-learn.org/stable/modules/classes.html#module-sklearn.datasets). Все, что нам нужно сделать, это всего лишь один вызов функции.\n",
    "\n",
    "Объект, сгенерированный [`load_iris`](https://scikit-learn.org/stable/modules/generated/sklearn.datasets.load_iris.html), описывается как:\n",
    "\n",
    "> Объект, похожий на словарь, интересные атрибуты:\n",
    ">\n",
    "> «данные», данные для изучения,\n",
    ">\n",
    "> «цель», классификационные метки,\n",
    ">\n",
    ">‘target_names’, значение меток,\n",
    ">\n",
    ">‘feature_names’, значение функций,\n",
    ">\n",
    "> «DESCR», полное описание набора данных,\n",
    ">\n",
    "> «имя файла», физическое расположение набора данных CSV радужной оболочки (добавлено в версии 0.20)\n",
    "\n",
    "Посмотрим, что у нас есть"
   ]
  },
  {
   "cell_type": "code",
   "execution_count": null,
   "metadata": {
    "ExecuteTime": {
     "end_time": "2020-02-11T07:08:51.918857Z",
     "start_time": "2020-02-11T07:08:51.910566Z"
    },
    "colab": {
     "base_uri": "https://localhost:8080/"
    },
    "executionInfo": {
     "elapsed": 5,
     "status": "ok",
     "timestamp": 1631624360053,
     "user": {
      "displayName": "Даниил Русланович Махоткин",
      "photoUrl": "https://lh3.googleusercontent.com/a/default-user=s64",
      "userId": "18336248573599285046"
     },
     "user_tz": -180
    },
    "id": "WMsQpZwgHpUS",
    "outputId": "992c7708-8232-4c21-d7bf-d935e567b0e3"
   },
   "outputs": [],
   "source": [
    "dataset = datasets.load_iris()\n",
    "\n",
    "print(dataset.DESCR)"
   ]
  },
  {
   "cell_type": "markdown",
   "metadata": {
    "id": "BDR3ke4jHpUT"
   },
   "source": [
    "Если вы не знакомы с набором данных Iris - найдите минутку, чтобы прочитать описание выше =) (как всегда [подробнее об этом в Википедии](https://en.wikipedia.org/wiki/Iris_flower_data_set))\n",
    "\n",
    "__TL;DR__ 150 объектов, равномерно распределенных по 3 классам, каждый из которых описан 4 непрерывными функциями."
   ]
  },
  {
   "cell_type": "code",
   "execution_count": null,
   "metadata": {
    "ExecuteTime": {
     "end_time": "2020-02-11T07:08:51.940271Z",
     "start_time": "2020-02-11T07:08:51.921326Z"
    },
    "colab": {
     "base_uri": "https://localhost:8080/",
     "height": 419
    },
    "executionInfo": {
     "elapsed": 350,
     "status": "ok",
     "timestamp": 1631624370924,
     "user": {
      "displayName": "Даниил Русланович Махоткин",
      "photoUrl": "https://lh3.googleusercontent.com/a/default-user=s64",
      "userId": "18336248573599285046"
     },
     "user_tz": -180
    },
    "id": "IbveXVELHpUU",
    "outputId": "f0878e77-f46f-4be9-cd32-6e2c7d187496"
   },
   "outputs": [],
   "source": [
    "# пока не нужно разбираться, что происходит в этом коде - просто посмотрите на таблицу\n",
    "\n",
    "ext_target = dataset.target[:, None]\n",
    "pd.DataFrame(\n",
    "    np.concatenate((dataset.data, ext_target, dataset.target_names[ext_target]), axis=1),\n",
    "    columns=dataset.feature_names + ['target label', 'target name'],\n",
    ")"
   ]
  },
  {
   "cell_type": "markdown",
   "metadata": {
    "id": "4BfFzHh7HpUV"
   },
   "source": [
    "Теперь дайте разные имена данным, которые мы будем использовать."
   ]
  },
  {
   "cell_type": "code",
   "execution_count": null,
   "metadata": {
    "ExecuteTime": {
     "end_time": "2020-02-11T07:08:52.604007Z",
     "start_time": "2020-02-11T07:08:52.599704Z"
    },
    "colab": {
     "base_uri": "https://localhost:8080/"
    },
    "executionInfo": {
     "elapsed": 324,
     "status": "ok",
     "timestamp": 1631625757450,
     "user": {
      "displayName": "Даниил Русланович Махоткин",
      "photoUrl": "https://lh3.googleusercontent.com/a/default-user=s64",
      "userId": "18336248573599285046"
     },
     "user_tz": -180
    },
    "id": "q1t7IXluHpUV",
    "outputId": "a762773e-4847-4f5c-9384-51fbbbd301ac"
   },
   "outputs": [],
   "source": [
    "features = dataset.data\n",
    "target = dataset.target\n",
    "\n",
    "features.shape, target.shape"
   ]
  },
  {
   "cell_type": "markdown",
   "metadata": {
    "id": "hPWlUPO0HpUV"
   },
   "source": [
    "__Пожалуйста, помните!!!__\n",
    "\n",
    "В любом месте нашего курса у нас есть соглашение формировать матрицу дизайна (названную «функциями» в приведенном выше коде) как\n",
    "\n",
    "`(#number_of_items, #number_of_features) - (#кол-во данных, #кол-во характеристик)`"
   ]
  },
  {
   "cell_type": "markdown",
   "metadata": {
    "id": "gQ8wbkbsHpUW"
   },
   "source": [
    "## Визуализация данных\n",
    "\n",
    "Наш набор данных имеет 4 измерения, однако люди чаще используют трехмерные или даже двухмерные данные, поэтому давайте нанесем первые 3 функции, окрашенные значениями меток."
   ]
  },
  {
   "cell_type": "code",
   "execution_count": null,
   "metadata": {
    "ExecuteTime": {
     "end_time": "2020-02-11T07:09:01.519543Z",
     "start_time": "2020-02-11T07:09:01.508622Z"
    },
    "executionInfo": {
     "elapsed": 523,
     "status": "ok",
     "timestamp": 1631624383946,
     "user": {
      "displayName": "Даниил Русланович Махоткин",
      "photoUrl": "https://lh3.googleusercontent.com/a/default-user=s64",
      "userId": "18336248573599285046"
     },
     "user_tz": -180
    },
    "id": "1a9SQV2rHpUW"
   },
   "outputs": [],
   "source": [
    "from mpl_toolkits.mplot3d import Axes3D"
   ]
  },
  {
   "cell_type": "code",
   "execution_count": null,
   "metadata": {
    "ExecuteTime": {
     "end_time": "2020-02-11T07:09:02.191167Z",
     "start_time": "2020-02-11T07:09:01.870454Z"
    },
    "colab": {
     "base_uri": "https://localhost:8080/",
     "height": 607
    },
    "executionInfo": {
     "elapsed": 4,
     "status": "ok",
     "timestamp": 1631624385390,
     "user": {
      "displayName": "Даниил Русланович Махоткин",
      "photoUrl": "https://lh3.googleusercontent.com/a/default-user=s64",
      "userId": "18336248573599285046"
     },
     "user_tz": -180
    },
    "id": "jYIfPnymHpUY",
    "outputId": "c25b10e6-f4c1-4654-fe9f-5f70b3c13a6c"
   },
   "outputs": [],
   "source": [
    "fig = plt.figure(figsize=(8, 8))\n",
    "\n",
    "ax = Axes3D(fig)\n",
    "\n",
    "ax.scatter(features[:, 0], features[:, 1], features[:, 3], c=target, marker='o')\n",
    "ax.set_xlabel(dataset.feature_names[0])\n",
    "ax.set_ylabel(dataset.feature_names[1])\n",
    "ax.set_zlabel(dataset.feature_names[2])\n",
    "\n",
    "plt.show()"
   ]
  },
  {
   "cell_type": "code",
   "execution_count": null,
   "metadata": {
    "colab": {
     "base_uri": "https://localhost:8080/",
     "height": 204
    },
    "executionInfo": {
     "elapsed": 337,
     "status": "ok",
     "timestamp": 1631624779846,
     "user": {
      "displayName": "Даниил Русланович Махоткин",
      "photoUrl": "https://lh3.googleusercontent.com/a/default-user=s64",
      "userId": "18336248573599285046"
     },
     "user_tz": -180
    },
    "id": "ZjKoI2yDTXJm",
    "outputId": "121b4e53-8029-4917-c777-77ed76232eb6"
   },
   "outputs": [],
   "source": [
    "# сформируем датасет\n",
    "X = pd.DataFrame(features, columns=dataset['feature_names'])\n",
    "\n",
    "X.head()"
   ]
  },
  {
   "cell_type": "code",
   "execution_count": null,
   "metadata": {
    "colab": {
     "base_uri": "https://localhost:8080/"
    },
    "executionInfo": {
     "elapsed": 323,
     "status": "ok",
     "timestamp": 1631624858363,
     "user": {
      "displayName": "Даниил Русланович Махоткин",
      "photoUrl": "https://lh3.googleusercontent.com/a/default-user=s64",
      "userId": "18336248573599285046"
     },
     "user_tz": -180
    },
    "id": "rfwAaj0rTXJo",
    "outputId": "a21d8431-5bfa-4b02-c98d-ac78e072660c"
   },
   "outputs": [],
   "source": [
    "print(dataset['target_names'])\n",
    "y = target\n",
    "y"
   ]
  },
  {
   "cell_type": "code",
   "execution_count": null,
   "metadata": {},
   "outputs": [],
   "source": [
    "df = X.copy()\n",
    "df['target'] = y"
   ]
  },
  {
   "cell_type": "code",
   "execution_count": null,
   "metadata": {},
   "outputs": [],
   "source": [
    "# нарисуем распределение меток\n",
    "\n",
    "sns.histplot(x='target', data=df, bins=50, kde=True)\n",
    "plt.xlabel('target')\n",
    "plt.grid()\n",
    "plt.show()"
   ]
  },
  {
   "cell_type": "code",
   "execution_count": null,
   "metadata": {},
   "outputs": [],
   "source": [
    "sns.scatterplot(x='sepal length (cm)', y='petal length (cm)', hue='target', data=df)\n",
    "plt.grid()\n",
    "plt.show()"
   ]
  },
  {
   "cell_type": "code",
   "execution_count": null,
   "metadata": {},
   "outputs": [],
   "source": [
    "sns.lineplot(data=df, x=\"sepal length (cm)\", y=\"petal length (cm)\")\n",
    "plt.grid()\n",
    "plt.show()"
   ]
  },
  {
   "cell_type": "markdown",
   "metadata": {
    "id": "pAuijXY1HpUY"
   },
   "source": [
    "Затем посмотрите на распределения функций"
   ]
  },
  {
   "cell_type": "code",
   "execution_count": null,
   "metadata": {},
   "outputs": [],
   "source": [
    "sns.pairplot(data=df, hue='target')\n",
    "plt.show()"
   ]
  },
  {
   "cell_type": "code",
   "execution_count": null,
   "metadata": {},
   "outputs": [],
   "source": [
    "sns.heatmap(df.corr())\n",
    "plt.show()"
   ]
  },
  {
   "cell_type": "markdown",
   "metadata": {
    "id": "fWfZzocwHpUZ"
   },
   "source": [
    "Обратите внимание, что каждый график выше имеет собственный масштаб"
   ]
  },
  {
   "cell_type": "code",
   "execution_count": null,
   "metadata": {},
   "outputs": [],
   "source": [
    "plt.figure(figsize=(20 , 8))\n",
    "\n",
    "for i, col in enumerate(X.columns):\n",
    "    plt.subplot(1, len(X.columns), i + 1)\n",
    "    sns.boxplot(y=col, x='target', data=df)\n",
    "    plt.grid()\n",
    "    \n",
    "plt.show()"
   ]
  },
  {
   "cell_type": "markdown",
   "metadata": {
    "id": "XFARK34gHpUZ"
   },
   "source": [
    "# Naive Bayes Classifier"
   ]
  },
  {
   "cell_type": "markdown",
   "metadata": {
    "id": "msEPiYLdHpUZ"
   },
   "source": [
    "Поскольку мы стремимся сначала реализовать алгоритм наивного Байеса, нам нужно определить некоторое предварительное распределение.\n",
    "\n",
    "Наиболее распространенное распределение (конечно) гауссово, и его параметры - среднее значение и стандартное отклонение. Давайте реализуем класс, принимающий список значений признаков, оценивающий параметры распределения и способный дать плотность вероятности любого заданного значения признака."
   ]
  },
  {
   "cell_type": "markdown",
   "metadata": {
    "id": "41qX4kG5HpUa"
   },
   "source": [
    "Обозначим нормальное распределение $\\mathcal{N}(\\mu, \\sigma^2)$ PDF:\n",
    "$$\n",
    "f(x|\\mu, \\sigma^2) = \\frac{1}{\\sigma\\sqrt{2\\pi}}\\exp(-\\frac{(x - \\mu)^2}{2\\sigma^ 2})\n",
    "$$\n",
    "Давайте реализуем класс GaussianDistribution. (Конечно, на практике всегда можно использовать что-то вроде `scipy.stats.norm`).\n",
    "\n",
    "Обратите внимание, что выполнение вычислений с логарифмическими вероятностями более стабильно."
   ]
  },
  {
   "cell_type": "code",
   "execution_count": null,
   "metadata": {
    "ExecuteTime": {
     "end_time": "2020-02-11T07:09:05.944368Z",
     "start_time": "2020-02-11T07:09:05.938558Z"
    },
    "executionInfo": {
     "elapsed": 337,
     "status": "ok",
     "timestamp": 1631624938232,
     "user": {
      "displayName": "Даниил Русланович Махоткин",
      "photoUrl": "https://lh3.googleusercontent.com/a/default-user=s64",
      "userId": "18336248573599285046"
     },
     "user_tz": -180
    },
    "id": "QniIGOrAHpUa"
   },
   "outputs": [],
   "source": [
    "class GaussianDistribution:\n",
    "    def __init__(self, feature):\n",
    "        '''\n",
    "        Args:\n",
    "            feature: column of design matrix, represents all available values\n",
    "                of feature to model.\n",
    "                axis=0 stays for samples.\n",
    "        '''\n",
    "        self.mean = feature.mean(axis=0)\n",
    "        self.std = feature.std(axis=0)\n",
    "\n",
    "    def logpdf(self, value):\n",
    "        '''Logarithm of probability density at value'''\n",
    "        return # <YOUR CODE HERE>\n",
    "    \n",
    "    def pdf(self, value):\n",
    "        return # <YOUR CODE HERE>\n",
    "    \n",
    "    def __repr__(self):\n",
    "        return f'GaussianDistribution, mu={self.mean:.4f}, std={self.std:.4f}'"
   ]
  },
  {
   "cell_type": "markdown",
   "metadata": {
    "id": "9EOIdlxNHpUa"
   },
   "source": [
    "Проверяем результат:"
   ]
  },
  {
   "cell_type": "code",
   "execution_count": null,
   "metadata": {},
   "outputs": [],
   "source": [
    "import scipy"
   ]
  },
  {
   "cell_type": "code",
   "execution_count": null,
   "metadata": {
    "colab": {
     "base_uri": "https://localhost:8080/"
    },
    "executionInfo": {
     "elapsed": 325,
     "status": "ok",
     "timestamp": 1631624952079,
     "user": {
      "displayName": "Даниил Русланович Махоткин",
      "photoUrl": "https://lh3.googleusercontent.com/a/default-user=s64",
      "userId": "18336248573599285046"
     },
     "user_tz": -180
    },
    "id": "2IHj6eypHpUb",
    "outputId": "c1be7d81-fba1-4562-c1a8-58a41c9f59e5"
   },
   "outputs": [],
   "source": [
    "_test = scipy.stats.norm(loc=features[:, :2].mean(axis=0), scale=features[:, :2].std(axis=0))\n",
    "\n",
    "assert np.allclose(\n",
    "    GaussianDistribution(features[:, :2]).logpdf(features[:5, :2]),\n",
    "    _test.logpdf(features[:5, :2])\n",
    ")\n",
    "print('Seems fine!')"
   ]
  },
  {
   "cell_type": "markdown",
   "metadata": {
    "ExecuteTime": {
     "end_time": "2020-02-11T00:09:57.874598Z",
     "start_time": "2020-02-11T00:09:57.740553Z"
    },
    "id": "fhuh0JfpHpUb"
   },
   "source": [
    "Давайте теперь сосредоточимся на проблеме классификации. Для класса $K$ пометьте $y_i \\in \\{C_1, \\ldots, C_k\\}$. Задача классификации радужной оболочки имеет 3 класса, поэтому $K=3$. Теорема Байеса принимает следующий вид:\n",
    "\n",
    "$$\n",
    "P(y_i = C_k|\\mathbf{x}_i) = \\frac{P(\\mathbf{x}_i|y_i = C_k) P(y_i = C_k)}{P(\\mathbf{x}_i)}\n",
    "$$\n",
    "\n",
    "Обратите внимание, что здесь мы также предпочитаем работать с логарифмическими вероятностями. Таким образом, приведенное выше уравнение примет следующий вид:\n",
    "$$\n",
    "\\log P(y_i = C_k|\\mathbf{x}_i) = \\log P(\\mathbf{x}_i|y_i = C_k) + \\log P(y_i = C_k) - \\log P(\\mathbf{x} _я)\n",
    "$$\n",
    "\n",
    "Как можно заметить, для нахождения метки класса с наибольшей вероятностью нам даже не нужен последний член $P(\\mathbf{x}_i)$. Однако это необходимо для получения правильной оценки вероятности $P(y_i = C_k|\\mathbf{x}_i)$. Член $P(\\mathbf{x}_i)$ можно вычислить, используя следующее свойство:\n",
    "$$\n",
    "P(\\mathbf{x}_i) = \\sum_{k=1}^K P(\\mathbf{x}_i|y_i=C_k).\n",
    "$$\n",
    "Его можно вычислить из значений $\\log P(\\mathbf{x}_i|y_i=C_k)$ с помощью функции `logsumexp`, расположенной в `scipy.special`.\n",
    "\n",
    "Теперь давайте реализуем сам классификатор Naive Bayes. Приведенный ниже класс унаследован от базовых классов ```sklearn``` и предоставляет все основные методы."
   ]
  },
  {
   "cell_type": "code",
   "execution_count": null,
   "metadata": {},
   "outputs": [],
   "source": [
    "from sklearn.base import BaseEstimator, ClassifierMixin\n",
    "from scipy.special import logsumexp"
   ]
  },
  {
   "cell_type": "code",
   "execution_count": null,
   "metadata": {
    "ExecuteTime": {
     "end_time": "2020-02-11T07:30:45.357053Z",
     "start_time": "2020-02-11T07:30:45.346489Z"
    },
    "executionInfo": {
     "elapsed": 474,
     "status": "ok",
     "timestamp": 1631625309101,
     "user": {
      "displayName": "Даниил Русланович Махоткин",
      "photoUrl": "https://lh3.googleusercontent.com/a/default-user=s64",
      "userId": "18336248573599285046"
     },
     "user_tz": -180
    },
    "id": "Hu_f04pNHpUc"
   },
   "outputs": [],
   "source": [
    "class NaiveBayes(BaseEstimator, ClassifierMixin):\n",
    "    '''\n",
    "    Обратите внимание, что использование `X` и `y` для матрицы дизайна и меток в целом не является хорошим выбором,\n",
    "    лучше придерживаться более информативных соглашений об именах.\n",
    "    Однако, чтобы сделать код совместимым с реализацией sklearn, мы используем здесь переменные `X` и `y`.\n",
    "    '''\n",
    "    def fit(self, X, y, sample_weight=None, distributions=None):\n",
    "        '''\n",
    "        sample_weight \n",
    "            The argument is ignored. For comatibility only.\n",
    "        '''\n",
    "        self.unique_labels = np.unique(y)\n",
    "        \n",
    "        # If distributions of features are not specified, they a treated Gaussian\n",
    "        if distributions is None:\n",
    "            distributions = [GaussianDistribution] * X.shape[1]\n",
    "        else:\n",
    "            # Check whether distributions are passed for all features\n",
    "            assert len(distributions) == X.shape[1]        \n",
    "\n",
    "        # Здесь мы находим параметры распределения для каждой функции в каждом подмножестве классов\n",
    "        # поэтому P(x^i|y=C_k) будет оцениваться только с использованием информации из i-го признака значений класса C_k\n",
    "        self.conditional_feature_distributions = {} # label: [distribution for feature 1, ...]\n",
    "        for label in self.unique_labels:\n",
    "            feature_distribution = []\n",
    "            for column_index in range(X.shape[1]):\n",
    "                # `column_index` feature values for objects from `label` class\n",
    "                feature_column = X[y == label, column_index]\n",
    "                fitted_distr = distributions[column_index](feature_column)\n",
    "                feature_distribution.append(fitted_distr)\n",
    "            self.conditional_feature_distributions[label] = feature_distribution\n",
    "\n",
    "        # Prior label distributions (unconditional probability of each class)\n",
    "        self.prior_label_distibution = {\n",
    "            # <YOUR CODE HERE>\n",
    "        }\n",
    "\n",
    "    def predict_log_proba(self, X):\n",
    "        # Matrix of shape (n_objects : n_classes)\n",
    "        class_log_probas = np.zeros((X.shape[0], len(self.unique_labels)), dtype=float)\n",
    "        \n",
    "        # Здесь мы вычисляем логарифмические вероятности класса для каждого класса последовательно\n",
    "        for label_idx, label in enumerate(self.unique_labels):\n",
    "            for idx in range(X.shape[1]):\n",
    "                # Вся логарифмическая вероятность для каждого признака -- фиксированная метка\n",
    "                class_log_probas[:, label_idx] += self.conditional_feature_distributions[label][idx].logpdf(X[:, idx]) # <YOUR CODE HERE>\n",
    "\n",
    "            # Add log proba of label prior\n",
    "            class_log_probas[:, label_idx] += np.log(self.prior_label_distibution[label]) # <YOUR CODE HERE>\n",
    "\n",
    "        for idx in range(X.shape[1]):\n",
    "            # Если вы хотите получить вероятности, вам нужно вычесть логарифмическую вероятность для каждой функции\n",
    "            class_log_probas -= logsumexp(class_log_probas, axis=1)[:, None] # <YOUR CODE HERE>\n",
    "        return class_log_probas\n",
    "    \n",
    "    def predict_proba(self, X):\n",
    "        return np.exp(self.predict_log_proba(X))\n",
    "    \n",
    "    def predict(self, X):\n",
    "        log_probas = self.predict_log_proba(X)\n",
    "        # нам нужно привести метки к их первоначальному виду (они могут начинаться с числа, отличного от 0)\n",
    "        return np.array([self.unique_labels[idx] for idx in log_probas.argmax(axis=1)])\n",
    "    "
   ]
  },
  {
   "cell_type": "code",
   "execution_count": null,
   "metadata": {
    "colab": {
     "base_uri": "https://localhost:8080/"
    },
    "executionInfo": {
     "elapsed": 4,
     "status": "ok",
     "timestamp": 1631625309600,
     "user": {
      "displayName": "Даниил Русланович Махоткин",
      "photoUrl": "https://lh3.googleusercontent.com/a/default-user=s64",
      "userId": "18336248573599285046"
     },
     "user_tz": -180
    },
    "id": "xPu6F9ntHpUc",
    "outputId": "ced9da36-c5f2-4677-be24-052dcf012df8"
   },
   "outputs": [],
   "source": [
    "nb = NaiveBayes()\n",
    "nb.fit(features, target)\n",
    "\n",
    "print('log probas:\\n{}'.format(nb.predict_log_proba(features[:2])))\n",
    "print('predicted labels:\\n{}'.format(nb.predict(features[:2])))\n",
    "print('\\nIt`s alive! More tests coming.')"
   ]
  },
  {
   "cell_type": "code",
   "execution_count": null,
   "metadata": {},
   "outputs": [],
   "source": [
    "nb.conditional_feature_distributions"
   ]
  },
  {
   "cell_type": "code",
   "execution_count": null,
   "metadata": {},
   "outputs": [],
   "source": [
    "nb.prior_label_distibution"
   ]
  },
  {
   "cell_type": "markdown",
   "metadata": {
    "id": "jzUcl0wdHpUd"
   },
   "source": [
    "Теперь давайте проверим наш наивный байесовский классификатор на необработанных данных. Для этого мы будем использовать `train_test_split` из `sklearn`."
   ]
  },
  {
   "cell_type": "code",
   "execution_count": null,
   "metadata": {},
   "outputs": [],
   "source": [
    "from sklearn.model_selection import train_test_split"
   ]
  },
  {
   "cell_type": "code",
   "execution_count": null,
   "metadata": {
    "colab": {
     "base_uri": "https://localhost:8080/"
    },
    "executionInfo": {
     "elapsed": 7,
     "status": "ok",
     "timestamp": 1631625313918,
     "user": {
      "displayName": "Даниил Русланович Махоткин",
      "photoUrl": "https://lh3.googleusercontent.com/a/default-user=s64",
      "userId": "18336248573599285046"
     },
     "user_tz": -180
    },
    "id": "eYRQ-WXkHpUd",
    "outputId": "e59364ca-9d8c-4e8e-bef7-1674969a5b78"
   },
   "outputs": [],
   "source": [
    "features_train, features_test, target_train, target_test = train_test_split(features, target, test_size=0.25)\n",
    "\n",
    "print(features_train.shape, features_test.shape)"
   ]
  },
  {
   "cell_type": "code",
   "execution_count": null,
   "metadata": {
    "ExecuteTime": {
     "end_time": "2020-02-11T07:30:45.713112Z",
     "start_time": "2020-02-11T07:30:45.709195Z"
    },
    "executionInfo": {
     "elapsed": 6,
     "status": "ok",
     "timestamp": 1631625314266,
     "user": {
      "displayName": "Даниил Русланович Махоткин",
      "photoUrl": "https://lh3.googleusercontent.com/a/default-user=s64",
      "userId": "18336248573599285046"
     },
     "user_tz": -180
    },
    "id": "7HpAdcIbHpUe"
   },
   "outputs": [],
   "source": [
    "nb = NaiveBayes()\n",
    "nb.fit(features_train, target_train, distributions=[GaussianDistribution]*4)\n",
    "nb_test_log_proba = nb.predict_log_proba(features_test)"
   ]
  },
  {
   "cell_type": "code",
   "execution_count": null,
   "metadata": {
    "colab": {
     "base_uri": "https://localhost:8080/"
    },
    "executionInfo": {
     "elapsed": 5,
     "status": "ok",
     "timestamp": 1631625314266,
     "user": {
      "displayName": "Даниил Русланович Махоткин",
      "photoUrl": "https://lh3.googleusercontent.com/a/default-user=s64",
      "userId": "18336248573599285046"
     },
     "user_tz": -180
    },
    "id": "TSNQTDpSHpUf",
    "outputId": "0fcea23e-4373-4db6-8720-079bf6e5af69"
   },
   "outputs": [],
   "source": [
    "print('Naive Bayes classifier accuracy on the train set: {}'.format(nb.score(features_train, target_train)))"
   ]
  },
  {
   "cell_type": "code",
   "execution_count": null,
   "metadata": {
    "colab": {
     "base_uri": "https://localhost:8080/"
    },
    "executionInfo": {
     "elapsed": 3,
     "status": "ok",
     "timestamp": 1631625314590,
     "user": {
      "displayName": "Даниил Русланович Махоткин",
      "photoUrl": "https://lh3.googleusercontent.com/a/default-user=s64",
      "userId": "18336248573599285046"
     },
     "user_tz": -180
    },
    "id": "mF6fyS6DHpUf",
    "outputId": "2dbd6f7b-129c-40f2-c543-a1c3cf9d0dfb"
   },
   "outputs": [],
   "source": [
    "print('Naive Bayes classifier accuracy on the test set: {}'.format(nb.score(features_test, target_test)))"
   ]
  },
  {
   "cell_type": "markdown",
   "metadata": {
    "id": "kfYLd09xHpUf"
   },
   "source": [
    "Наконец, давайте сравним наивный байесовский классификатор с реализациями ```sklearn```."
   ]
  },
  {
   "cell_type": "code",
   "execution_count": null,
   "metadata": {},
   "outputs": [],
   "source": [
    "from sklearn import naive_bayes"
   ]
  },
  {
   "cell_type": "code",
   "execution_count": null,
   "metadata": {
    "ExecuteTime": {
     "end_time": "2020-02-11T07:30:47.513267Z",
     "start_time": "2020-02-11T07:30:47.498843Z"
    },
    "executionInfo": {
     "elapsed": 4,
     "status": "ok",
     "timestamp": 1631625316212,
     "user": {
      "displayName": "Даниил Русланович Махоткин",
      "photoUrl": "https://lh3.googleusercontent.com/a/default-user=s64",
      "userId": "18336248573599285046"
     },
     "user_tz": -180
    },
    "id": "B9y4LL5LHpUf"
   },
   "outputs": [],
   "source": [
    "sklearn_nb = naive_bayes.GaussianNB()\n",
    "sklearn_nb.fit(features_train, target_train)\n",
    "sklearn_nb_test_log_proba = sklearn_nb.predict_log_proba(features_test)"
   ]
  },
  {
   "cell_type": "code",
   "execution_count": null,
   "metadata": {
    "colab": {
     "base_uri": "https://localhost:8080/"
    },
    "executionInfo": {
     "elapsed": 4,
     "status": "ok",
     "timestamp": 1631625316566,
     "user": {
      "displayName": "Даниил Русланович Махоткин",
      "photoUrl": "https://lh3.googleusercontent.com/a/default-user=s64",
      "userId": "18336248573599285046"
     },
     "user_tz": -180
    },
    "id": "IHLDpK4rHpUf",
    "outputId": "d255f183-510f-4398-ef97-1b7e562b0ba8"
   },
   "outputs": [],
   "source": [
    "print('sklearn implementation accuracy on the train set: {}'.format(sklearn_nb.score(features_train, target_train)))"
   ]
  },
  {
   "cell_type": "code",
   "execution_count": null,
   "metadata": {
    "colab": {
     "base_uri": "https://localhost:8080/"
    },
    "executionInfo": {
     "elapsed": 3,
     "status": "ok",
     "timestamp": 1631625316894,
     "user": {
      "displayName": "Даниил Русланович Махоткин",
      "photoUrl": "https://lh3.googleusercontent.com/a/default-user=s64",
      "userId": "18336248573599285046"
     },
     "user_tz": -180
    },
    "id": "xSBBFkvRHpUg",
    "outputId": "b48e8bac-8300-42a7-8916-d26e909b6d0b"
   },
   "outputs": [],
   "source": [
    "print('sklearn implementation accuracy on the test set: {}'.format(sklearn_nb.score(features_test, target_test)))"
   ]
  },
  {
   "cell_type": "markdown",
   "metadata": {
    "id": "-_BkHw77HpUg"
   },
   "source": [
    "Проверим прогнозы. Если вы использовали распределение Гаусса и все сделали правильно, логарифмические вероятности должны быть одинаковыми."
   ]
  },
  {
   "cell_type": "code",
   "execution_count": null,
   "metadata": {
    "ExecuteTime": {
     "end_time": "2020-02-11T07:30:47.853360Z",
     "start_time": "2020-02-11T07:30:47.841855Z"
    },
    "colab": {
     "base_uri": "https://localhost:8080/"
    },
    "executionInfo": {
     "elapsed": 376,
     "status": "ok",
     "timestamp": 1631625323897,
     "user": {
      "displayName": "Даниил Русланович Махоткин",
      "photoUrl": "https://lh3.googleusercontent.com/a/default-user=s64",
      "userId": "18336248573599285046"
     },
     "user_tz": -180
    },
    "id": "lS41GmHUHpUg",
    "outputId": "a3b9d541-00bb-4bdc-bc48-ea7b327532d2"
   },
   "outputs": [],
   "source": [
    "assert np.allclose(nb_test_log_proba, sklearn_nb_test_log_proba), 'log probabilities do not match'\n",
    "print('Seems alright!')"
   ]
  },
  {
   "cell_type": "markdown",
   "metadata": {
    "id": "ObtsdJSkTXJj"
   },
   "source": [
    "# kNN - метод ближайших соседей"
   ]
  },
  {
   "cell_type": "code",
   "execution_count": null,
   "metadata": {
    "executionInfo": {
     "elapsed": 318,
     "status": "ok",
     "timestamp": 1631625332911,
     "user": {
      "displayName": "Даниил Русланович Махоткин",
      "photoUrl": "https://lh3.googleusercontent.com/a/default-user=s64",
      "userId": "18336248573599285046"
     },
     "user_tz": -180
    },
    "id": "IryPAcybTXJs"
   },
   "outputs": [],
   "source": [
    "from sklearn.model_selection import train_test_split\n",
    "from sklearn.metrics import accuracy_score\n",
    "from sklearn.neighbors import KNeighborsClassifier"
   ]
  },
  {
   "cell_type": "code",
   "execution_count": null,
   "metadata": {
    "executionInfo": {
     "elapsed": 5,
     "status": "ok",
     "timestamp": 1631625334214,
     "user": {
      "displayName": "Даниил Русланович Махоткин",
      "photoUrl": "https://lh3.googleusercontent.com/a/default-user=s64",
      "userId": "18336248573599285046"
     },
     "user_tz": -180
    },
    "id": "PfEVdN4nTXJt"
   },
   "outputs": [],
   "source": [
    "X_train, X_test, y_train, y_test = train_test_split(X[['sepal length (cm)', 'petal length (cm)']], y,\n",
    "                                                    train_size=0.8, test_size=0.2,\n",
    "                                                    shuffle=True, random_state=42)"
   ]
  },
  {
   "cell_type": "code",
   "execution_count": null,
   "metadata": {
    "colab": {
     "base_uri": "https://localhost:8080/"
    },
    "executionInfo": {
     "elapsed": 334,
     "status": "ok",
     "timestamp": 1631625347146,
     "user": {
      "displayName": "Даниил Русланович Махоткин",
      "photoUrl": "https://lh3.googleusercontent.com/a/default-user=s64",
      "userId": "18336248573599285046"
     },
     "user_tz": -180
    },
    "id": "pQeKFT_iTXJv",
    "outputId": "8c030ec3-4423-4ac0-c396-8342f3192e0a"
   },
   "outputs": [],
   "source": [
    "X_train.shape, X_test.shape"
   ]
  },
  {
   "cell_type": "code",
   "execution_count": null,
   "metadata": {
    "executionInfo": {
     "elapsed": 326,
     "status": "ok",
     "timestamp": 1631625349179,
     "user": {
      "displayName": "Даниил Русланович Махоткин",
      "photoUrl": "https://lh3.googleusercontent.com/a/default-user=s64",
      "userId": "18336248573599285046"
     },
     "user_tz": -180
    },
    "id": "dDg2imYwTXJx"
   },
   "outputs": [],
   "source": [
    "knn = KNeighborsClassifier() # По умочанию - 5 соседей и Евклидова метрика"
   ]
  },
  {
   "cell_type": "code",
   "execution_count": null,
   "metadata": {
    "colab": {
     "base_uri": "https://localhost:8080/"
    },
    "executionInfo": {
     "elapsed": 4,
     "status": "ok",
     "timestamp": 1631625349522,
     "user": {
      "displayName": "Даниил Русланович Махоткин",
      "photoUrl": "https://lh3.googleusercontent.com/a/default-user=s64",
      "userId": "18336248573599285046"
     },
     "user_tz": -180
    },
    "id": "h97CM2OuTXJz",
    "outputId": "de2e2e25-9422-44b3-e474-45a046a0f23f"
   },
   "outputs": [],
   "source": [
    "knn.fit(X_train, y_train)"
   ]
  },
  {
   "cell_type": "code",
   "execution_count": null,
   "metadata": {
    "executionInfo": {
     "elapsed": 2,
     "status": "ok",
     "timestamp": 1631625349931,
     "user": {
      "displayName": "Даниил Русланович Махоткин",
      "photoUrl": "https://lh3.googleusercontent.com/a/default-user=s64",
      "userId": "18336248573599285046"
     },
     "user_tz": -180
    },
    "id": "BSzKS5uCTXJ0"
   },
   "outputs": [],
   "source": [
    "pred = pd.DataFrame(knn.predict(X_test), columns=['predict'])\n",
    "pred['test'] = y_test"
   ]
  },
  {
   "cell_type": "code",
   "execution_count": null,
   "metadata": {
    "colab": {
     "base_uri": "https://localhost:8080/",
     "height": 979
    },
    "executionInfo": {
     "elapsed": 10,
     "status": "ok",
     "timestamp": 1631625350360,
     "user": {
      "displayName": "Даниил Русланович Махоткин",
      "photoUrl": "https://lh3.googleusercontent.com/a/default-user=s64",
      "userId": "18336248573599285046"
     },
     "user_tz": -180
    },
    "id": "6uf2caHOTXJ2",
    "outputId": "49ec7b9f-a485-48fb-f8de-c0ed95153739"
   },
   "outputs": [],
   "source": [
    "pred.head()"
   ]
  },
  {
   "cell_type": "code",
   "execution_count": null,
   "metadata": {
    "colab": {
     "base_uri": "https://localhost:8080/"
    },
    "executionInfo": {
     "elapsed": 4,
     "status": "ok",
     "timestamp": 1631625352228,
     "user": {
      "displayName": "Даниил Русланович Махоткин",
      "photoUrl": "https://lh3.googleusercontent.com/a/default-user=s64",
      "userId": "18336248573599285046"
     },
     "user_tz": -180
    },
    "id": "EwFHy09XTXJ3",
    "outputId": "50979e3b-c299-459f-956d-638ebe99c9e8"
   },
   "outputs": [],
   "source": [
    "accuracy_score(knn.predict(X_test), y_test)"
   ]
  },
  {
   "cell_type": "code",
   "execution_count": null,
   "metadata": {
    "colab": {
     "base_uri": "https://localhost:8080/"
    },
    "executionInfo": {
     "elapsed": 357,
     "status": "ok",
     "timestamp": 1631625355080,
     "user": {
      "displayName": "Даниил Русланович Махоткин",
      "photoUrl": "https://lh3.googleusercontent.com/a/default-user=s64",
      "userId": "18336248573599285046"
     },
     "user_tz": -180
    },
    "id": "9AD93OepTXJ4",
    "outputId": "262d1c9b-db45-4e3b-9391-58c54f26fe6c"
   },
   "outputs": [],
   "source": [
    "knn = KNeighborsClassifier(1)\n",
    "knn.fit(X_train, y_train)\n",
    "accuracy_score(knn.predict(X_test), y_test)"
   ]
  },
  {
   "cell_type": "code",
   "execution_count": null,
   "metadata": {
    "colab": {
     "base_uri": "https://localhost:8080/"
    },
    "executionInfo": {
     "elapsed": 3,
     "status": "ok",
     "timestamp": 1631625355080,
     "user": {
      "displayName": "Даниил Русланович Махоткин",
      "photoUrl": "https://lh3.googleusercontent.com/a/default-user=s64",
      "userId": "18336248573599285046"
     },
     "user_tz": -180
    },
    "id": "63okWQcpTXJ6",
    "outputId": "7a944869-3b35-4a93-8edb-cba86c6e7454"
   },
   "outputs": [],
   "source": [
    "knn = KNeighborsClassifier(80)\n",
    "knn.fit(X_train, y_train)\n",
    "accuracy_score(knn.predict(X_test), y_test)"
   ]
  },
  {
   "cell_type": "markdown",
   "metadata": {
    "id": "Zh9Vml7xTXJ7"
   },
   "source": [
    "#### Ваш ход..."
   ]
  },
  {
   "cell_type": "code",
   "execution_count": null,
   "metadata": {},
   "outputs": [],
   "source": [
    "from sklearn.model_selection import GridSearchCV"
   ]
  },
  {
   "cell_type": "code",
   "execution_count": null,
   "metadata": {
    "id": "6Mo-o5wJTXJ7"
   },
   "outputs": [],
   "source": [
    "# Примените kNN для данных по всем признакам, какую метрику качества на тесте вы достигаете? \n",
    "\n",
    "# <YOUR CODE HERE>"
   ]
  },
  {
   "cell_type": "markdown",
   "metadata": {
    "id": "ysZ79LaHQHHr"
   },
   "source": [
    "## kNN from scratch\n",
    "\n",
    "В первом задании вы реализуете один из простейших алгоритмов машинного обучения - классификатор на основе метода K-ближайших соседей.\n",
    "Мы применим его к задачам\n",
    "- бинарной классификации (то есть, только двум классам)\n",
    "- многоклассовой классификации (то есть, нескольким классам)\n",
    "\n",
    "Так как методу необходим гиперпараметр (hyperparameter) - количество соседей, мы выберем его на основе кросс-валидации (cross-validation)."
   ]
  },
  {
   "cell_type": "code",
   "execution_count": null,
   "metadata": {
    "executionInfo": {
     "elapsed": 522,
     "status": "ok",
     "timestamp": 1631625716126,
     "user": {
      "displayName": "Даниил Русланович Махоткин",
      "photoUrl": "https://lh3.googleusercontent.com/a/default-user=s64",
      "userId": "18336248573599285046"
     },
     "user_tz": -180
    },
    "id": "fBeacNuiQHHy"
   },
   "outputs": [],
   "source": [
    "from sklearn.datasets import load_digits"
   ]
  },
  {
   "cell_type": "markdown",
   "metadata": {
    "id": "kRjhhZvFQHH1"
   },
   "source": [
    "## Загрузим и визуализируем данные"
   ]
  },
  {
   "cell_type": "code",
   "execution_count": null,
   "metadata": {
    "colab": {
     "base_uri": "https://localhost:8080/"
    },
    "executionInfo": {
     "elapsed": 325,
     "status": "ok",
     "timestamp": 1631625843895,
     "user": {
      "displayName": "Даниил Русланович Махоткин",
      "photoUrl": "https://lh3.googleusercontent.com/a/default-user=s64",
      "userId": "18336248573599285046"
     },
     "user_tz": -180
    },
    "id": "WhZZPi0DeO0K",
    "outputId": "f33ce89d-974e-493b-9aca-74118e5ff819"
   },
   "outputs": [],
   "source": [
    "dataset = datasets.load_digits()\n",
    "\n",
    "print(dataset.DESCR)"
   ]
  },
  {
   "cell_type": "code",
   "execution_count": null,
   "metadata": {},
   "outputs": [],
   "source": [
    "features = dataset.data\n",
    "target = dataset.target\n",
    "\n",
    "features.shape, target.shape"
   ]
  },
  {
   "cell_type": "code",
   "execution_count": null,
   "metadata": {
    "colab": {
     "base_uri": "https://localhost:8080/"
    },
    "executionInfo": {
     "elapsed": 347,
     "status": "ok",
     "timestamp": 1631626064203,
     "user": {
      "displayName": "Даниил Русланович Махоткин",
      "photoUrl": "https://lh3.googleusercontent.com/a/default-user=s64",
      "userId": "18336248573599285046"
     },
     "user_tz": -180
    },
    "id": "p3cfBHp9ekXK",
    "outputId": "3e80140e-26bc-47a6-e637-d9d7beb1aa5f"
   },
   "outputs": [],
   "source": [
    "train_X, test_X, train_y, test_y = train_test_split(features, target, test_size=0.25)\n",
    "\n",
    "print(train_X.shape, train_y.shape)"
   ]
  },
  {
   "cell_type": "code",
   "execution_count": null,
   "metadata": {
    "colab": {
     "base_uri": "https://localhost:8080/"
    },
    "executionInfo": {
     "elapsed": 331,
     "status": "ok",
     "timestamp": 1631626066229,
     "user": {
      "displayName": "Даниил Русланович Махоткин",
      "photoUrl": "https://lh3.googleusercontent.com/a/default-user=s64",
      "userId": "18336248573599285046"
     },
     "user_tz": -180
    },
    "id": "aSyNNEjofRPC",
    "outputId": "e9dc965a-1f6c-4649-c212-dfb66892bcef"
   },
   "outputs": [],
   "source": [
    "test_X"
   ]
  },
  {
   "cell_type": "code",
   "execution_count": null,
   "metadata": {
    "colab": {
     "base_uri": "https://localhost:8080/",
     "height": 239
    },
    "executionInfo": {
     "elapsed": 1553,
     "status": "ok",
     "timestamp": 1631626095383,
     "user": {
      "displayName": "Даниил Русланович Махоткин",
      "photoUrl": "https://lh3.googleusercontent.com/a/default-user=s64",
      "userId": "18336248573599285046"
     },
     "user_tz": -180
    },
    "id": "XbTTwD05QHH5",
    "outputId": "52d6f057-a7b5-4609-8e5a-e812edbbae93"
   },
   "outputs": [],
   "source": [
    "samples_per_class = 5  # Number of samples per class to visualize\n",
    "plot_index = 1\n",
    "\n",
    "for example_index in range(samples_per_class):\n",
    "    for class_index in range(10):\n",
    "        plt.subplot(5, 10, plot_index)\n",
    "        image = train_X[train_y == class_index][example_index].reshape((8,8))\n",
    "        plt.imshow(image.astype(np.uint8))\n",
    "        plt.axis('off')\n",
    "        plot_index += 1"
   ]
  },
  {
   "cell_type": "markdown",
   "metadata": {
    "id": "-9rae3PyQHH-"
   },
   "source": [
    "## Сначала реализуем KNN для бинарной классификации\n",
    "\n",
    "В качестве задачи бинарной классификации мы натренируем модель, которая будет отличать цифру 0 от цифры 9."
   ]
  },
  {
   "cell_type": "code",
   "execution_count": null,
   "metadata": {
    "executionInfo": {
     "elapsed": 322,
     "status": "ok",
     "timestamp": 1631626107032,
     "user": {
      "displayName": "Даниил Русланович Махоткин",
      "photoUrl": "https://lh3.googleusercontent.com/a/default-user=s64",
      "userId": "18336248573599285046"
     },
     "user_tz": -180
    },
    "id": "mjtY3TOBQHH-"
   },
   "outputs": [],
   "source": [
    "# Сначала подготовим метки и исходные данные\n",
    "\n",
    "# Выберите только 0 и 9\n",
    "binary_train_mask = (train_y == 0) | (train_y == 9)\n",
    "binary_train_X = train_X[binary_train_mask]\n",
    "binary_train_y = train_y[binary_train_mask] == 0\n",
    "\n",
    "binary_test_mask = (test_y == 0) | (test_y == 9)\n",
    "binary_test_X = test_X[binary_test_mask]\n",
    "binary_test_y = test_y[binary_test_mask] == 0\n",
    "\n",
    "# Преобразование в одномерный массив [num_samples, 32*32*3]\n",
    "binary_train_X = binary_train_X.reshape(binary_train_X.shape[0], -1)\n",
    "binary_test_X = binary_test_X.reshape(binary_test_X.shape[0], -1)"
   ]
  },
  {
   "cell_type": "code",
   "execution_count": null,
   "metadata": {},
   "outputs": [],
   "source": [
    "binary_train_X.shape, binary_train_y.shape"
   ]
  },
  {
   "cell_type": "code",
   "execution_count": null,
   "metadata": {},
   "outputs": [],
   "source": [
    "binary_test_X.shape, binary_test_y.shape"
   ]
  },
  {
   "cell_type": "code",
   "execution_count": null,
   "metadata": {},
   "outputs": [],
   "source": [
    "import numpy as np\n",
    "\n",
    "\n",
    "class KNN:\n",
    "    \"\"\"\n",
    "    K-neariest-neighbor classifier using L1 loss\n",
    "    \"\"\"\n",
    "    def __init__(self, k=1):\n",
    "        self.k = k\n",
    "\n",
    "    def fit(self, X, y):\n",
    "        self.train_X = X\n",
    "        self.train_y = y\n",
    "\n",
    "    def predict(self, X, num_loops=2):\n",
    "        '''\n",
    "        Uses the KNN model to predict clases for the data samples provided\n",
    "        \n",
    "        Arguments:\n",
    "        X, np array (num_samples, num_features) - samples to run\n",
    "           through the model\n",
    "        num_loops, int - which implementation to use\n",
    "\n",
    "        Returns:\n",
    "        predictions, np array of ints (num_samples) - predicted class\n",
    "           for each sample\n",
    "        '''\n",
    "        if num_loops == 0:\n",
    "            dists = self.compute_distances_no_loops(X)\n",
    "        elif num_loops == 1:\n",
    "            dists = self.compute_distances_one_loop(X)\n",
    "        else:\n",
    "            dists = self.compute_distances_two_loops(X)\n",
    "\n",
    "        if self.train_y.dtype == bool:\n",
    "            return self.predict_labels_binary(dists)\n",
    "        else:\n",
    "            return self.predict_labels_multiclass(dists)\n",
    "\n",
    "    def compute_distances_two_loops(self, X):\n",
    "        '''\n",
    "        Computes L1 distance from every sample of X to every training sample\n",
    "        Uses simplest implementation with 2 Python loops\n",
    "\n",
    "        Arguments:\n",
    "        X, np array (num_test_samples, num_features) - samples to run\n",
    "        \n",
    "        Returns:\n",
    "        dists, np array (num_test_samples, num_train_samples) - array\n",
    "           with distances between each test and each train sample\n",
    "        '''\n",
    "        num_train = self.train_X.shape[0]\n",
    "        num_test = X.shape[0]\n",
    "        dists = np.zeros((num_test, num_train), np.float32)\n",
    "        \n",
    "        for i_test in range(num_test):\n",
    "            for i_train in range(num_train):\n",
    "                # <YOUR CODE HERE>\n",
    "                \n",
    "        return dists\n",
    "    \n",
    "    def compute_distances_one_loop(self, X):\n",
    "        '''\n",
    "        Computes L1 distance from every sample of X to every training sample\n",
    "        Vectorizes some of the calculations, so only 1 loop is used\n",
    "\n",
    "        Arguments:\n",
    "        X, np array (num_test_samples, num_features) - samples to run\n",
    "        \n",
    "        Returns:\n",
    "        dists, np array (num_test_samples, num_train_samples) - array\n",
    "           with distances between each test and each train sample\n",
    "        '''\n",
    "        num_train = self.train_X.shape[0]\n",
    "        num_test = X.shape[0]\n",
    "        dists = np.zeros((num_test, num_train), np.float32)\n",
    "        for i_test in range(num_test):\n",
    "            # <YOUR CODE HERE>\n",
    "            \n",
    "        return dists\n",
    "\n",
    "    def compute_distances_no_loops(self, X):\n",
    "        '''\n",
    "        Computes L1 distance from every sample of X to every training sample\n",
    "        Fully vectorizes the calculations using numpy\n",
    "\n",
    "        Arguments:\n",
    "        X, np array (num_test_samples, num_features) - samples to run\n",
    "        \n",
    "        Returns:\n",
    "        dists, np array (num_test_samples, num_train_samples) - array\n",
    "           with distances between each test and each train sample\n",
    "        '''\n",
    "        num_train = self.train_X.shape[0]\n",
    "        num_test = X.shape[0]\n",
    "        # Using float32 to to save memory - the default is float64\n",
    "        dists = np.zeros((num_test, num_train), np.float32)\n",
    "        # TODO: Implement computing all distances with no loops!\n",
    "        # <YOUR CODE HERE>\n",
    "        \n",
    "        return dists.T\n",
    "\n",
    "    def predict_labels_binary(self, dists):\n",
    "        '''\n",
    "        Returns model predictions for binary classification case\n",
    "        \n",
    "        Arguments:\n",
    "        dists, np array (num_test_samples, num_train_samples) - array\n",
    "           with distances between each test and each train sample\n",
    "\n",
    "        Returns:\n",
    "        pred, np array of bool (num_test_samples) - binary predictions \n",
    "           for every test sample\n",
    "        '''\n",
    "        num_test = dists.shape[0]\n",
    "        pred = np.zeros(num_test, bool)\n",
    "        for i in range(num_test):\n",
    "            # <YOUR CODE HERE>\n",
    "            \n",
    "        return pred\n",
    "\n",
    "    def predict_labels_multiclass(self, dists):\n",
    "        '''\n",
    "        Returns model predictions for multi-class classification case\n",
    "        \n",
    "        Arguments:\n",
    "        dists, np array (num_test_samples, num_train_samples) - array\n",
    "           with distances between each test and each train sample\n",
    "\n",
    "        Returns:\n",
    "        pred, np array of int (num_test_samples) - predicted class index \n",
    "           for every test sample\n",
    "        '''\n",
    "        num_test = dists.shape[0]\n",
    "        pred = np.zeros(num_test, int)\n",
    "        for i in range(num_test):            \n",
    "            # <YOUR CODE HERE>\n",
    "            \n",
    "        return pred"
   ]
  },
  {
   "cell_type": "code",
   "execution_count": null,
   "metadata": {
    "executionInfo": {
     "elapsed": 325,
     "status": "ok",
     "timestamp": 1631626108797,
     "user": {
      "displayName": "Даниил Русланович Махоткин",
      "photoUrl": "https://lh3.googleusercontent.com/a/default-user=s64",
      "userId": "18336248573599285046"
     },
     "user_tz": -180
    },
    "id": "Pd0Ak_TrQHIC"
   },
   "outputs": [],
   "source": [
    "# Создайте классификатор и вызовите его для обучения модели\n",
    "# KNN просто запоминает все данные\n",
    "\n",
    "knn_classifier = KNN(k=1)\n",
    "knn_classifier.fit(binary_train_X, binary_train_y)"
   ]
  },
  {
   "cell_type": "markdown",
   "metadata": {
    "id": "HOQbp0_YQHIF"
   },
   "source": [
    "## Пришло время написать код! \n",
    "\n",
    "Последовательно реализуйте функции `compute_distances_two_loops`, `compute_distances_one_loop` и `compute_distances_no_loops`\n",
    "\n",
    "Эти функции строят массив расстояний между всеми векторами в тестовом наборе и в тренировочном наборе.  \n",
    "В результате они должны построить массив размера `(num_test, num_train)`, где координата `[i][j]` соотвествует расстоянию между i-м вектором в test (`test[i]`) и j-м вектором в train (`train[j]`).\n",
    "\n",
    "**Обратите внимание** Для простоты реализации мы будем использовать в качестве расстояния меру L1 (ее еще называют [Manhattan distance](https://ru.wikipedia.org/wiki/%D0%A0%D0%B0%D1%81%D1%81%D1%82%D0%BE%D1%8F%D0%BD%D0%B8%D0%B5_%D0%B3%D0%BE%D1%80%D0%BE%D0%B4%D1%81%D0%BA%D0%B8%D1%85_%D0%BA%D0%B2%D0%B0%D1%80%D1%82%D0%B0%D0%BB%D0%BE%D0%B2))."
   ]
  },
  {
   "cell_type": "code",
   "execution_count": null,
   "metadata": {
    "executionInfo": {
     "elapsed": 322,
     "status": "ok",
     "timestamp": 1631626110653,
     "user": {
      "displayName": "Даниил Русланович Махоткин",
      "photoUrl": "https://lh3.googleusercontent.com/a/default-user=s64",
      "userId": "18336248573599285046"
     },
     "user_tz": -180
    },
    "id": "LoqhuKVuQHIG"
   },
   "outputs": [],
   "source": [
    "# TODO: implement compute_distances_two_loops\n",
    "dists = knn_classifier.compute_distances_two_loops(binary_test_X)\n",
    "assert np.isclose(dists[0, 10], np.sum(np.abs(binary_test_X[0] - binary_train_X[10])))"
   ]
  },
  {
   "cell_type": "code",
   "execution_count": null,
   "metadata": {
    "executionInfo": {
     "elapsed": 441,
     "status": "ok",
     "timestamp": 1631626112255,
     "user": {
      "displayName": "Даниил Русланович Махоткин",
      "photoUrl": "https://lh3.googleusercontent.com/a/default-user=s64",
      "userId": "18336248573599285046"
     },
     "user_tz": -180
    },
    "id": "SFH4h9XwQHIK"
   },
   "outputs": [],
   "source": [
    "# TODO: implement compute_distances_one_loop\n",
    "dists = knn_classifier.compute_distances_one_loop(binary_test_X)\n",
    "assert np.isclose(dists[0, 10], np.sum(np.abs(binary_test_X[0] - binary_train_X[10])))"
   ]
  },
  {
   "cell_type": "code",
   "execution_count": null,
   "metadata": {
    "executionInfo": {
     "elapsed": 4,
     "status": "ok",
     "timestamp": 1631626113430,
     "user": {
      "displayName": "Даниил Русланович Махоткин",
      "photoUrl": "https://lh3.googleusercontent.com/a/default-user=s64",
      "userId": "18336248573599285046"
     },
     "user_tz": -180
    },
    "id": "W5bPHkzSQHIN"
   },
   "outputs": [],
   "source": [
    "# TODO: implement compute_distances_no_loops\n",
    "dists = knn_classifier.compute_distances_no_loops(binary_test_X)\n",
    "assert np.isclose(dists[0, 10], np.sum(np.abs(binary_test_X[0] - binary_train_X[10])))"
   ]
  },
  {
   "cell_type": "code",
   "execution_count": null,
   "metadata": {
    "colab": {
     "base_uri": "https://localhost:8080/"
    },
    "executionInfo": {
     "elapsed": 17965,
     "status": "ok",
     "timestamp": 1631626132565,
     "user": {
      "displayName": "Даниил Русланович Махоткин",
      "photoUrl": "https://lh3.googleusercontent.com/a/default-user=s64",
      "userId": "18336248573599285046"
     },
     "user_tz": -180
    },
    "id": "EJiytRt2QHIQ",
    "outputId": "5c6b49f3-95ac-4a25-a68b-a93607d28306"
   },
   "outputs": [],
   "source": [
    "# Lets look at the performance difference\n",
    "%timeit knn_classifier.compute_distances_two_loops(binary_test_X)\n",
    "%timeit knn_classifier.compute_distances_one_loop(binary_test_X)\n",
    "%timeit knn_classifier.compute_distances_no_loops(binary_test_X)"
   ]
  },
  {
   "cell_type": "code",
   "execution_count": null,
   "metadata": {
    "executionInfo": {
     "elapsed": 569,
     "status": "ok",
     "timestamp": 1631626146432,
     "user": {
      "displayName": "Даниил Русланович Махоткин",
      "photoUrl": "https://lh3.googleusercontent.com/a/default-user=s64",
      "userId": "18336248573599285046"
     },
     "user_tz": -180
    },
    "id": "NXRJuPZLQHIU",
    "scrolled": true
   },
   "outputs": [],
   "source": [
    "# TODO: implement predict_labels_binary\n",
    "prediction = knn_classifier.predict(binary_test_X)"
   ]
  },
  {
   "cell_type": "code",
   "execution_count": null,
   "metadata": {
    "colab": {
     "base_uri": "https://localhost:8080/"
    },
    "executionInfo": {
     "elapsed": 321,
     "status": "ok",
     "timestamp": 1631626156007,
     "user": {
      "displayName": "Даниил Русланович Махоткин",
      "photoUrl": "https://lh3.googleusercontent.com/a/default-user=s64",
      "userId": "18336248573599285046"
     },
     "user_tz": -180
    },
    "id": "1n8WdFvOQHIX",
    "outputId": "e8619c5e-b180-46af-f315-39b53d61e7e2"
   },
   "outputs": [],
   "source": [
    "a = np.array([True, False, False, True, True])\n",
    "unique, counts = np.unique(a, return_counts=True)\n",
    "unique[np.argmax(counts)]"
   ]
  },
  {
   "cell_type": "code",
   "execution_count": null,
   "metadata": {
    "executionInfo": {
     "elapsed": 347,
     "status": "ok",
     "timestamp": 1631626678420,
     "user": {
      "displayName": "Даниил Русланович Махоткин",
      "photoUrl": "https://lh3.googleusercontent.com/a/default-user=s64",
      "userId": "18336248573599285046"
     },
     "user_tz": -180
    },
    "id": "Hhqqgp6ShOh9"
   },
   "outputs": [],
   "source": [
    "def binary_classification_metrics(prediction, ground_truth):\n",
    "    '''\n",
    "    Вычисляет метрики для бинарной классификации\n",
    "    Аргументы:\n",
    "     prediction, np массив bool (num_samples) - предсказания модели\n",
    "     ground_truth, np массив bool (num_samples) - истинные метки\n",
    "    Возвращает:\n",
    "     точность, отзыв, f1, точность - показатели классификации\n",
    "    '''\n",
    "    tp = np.sum([(prediction[i] == True and ground_truth[i] == True) for i in range(prediction.shape[0])])\n",
    "    tn = np.sum([(prediction[i] == False and ground_truth[i] == False) for i in range(prediction.shape[0])])\n",
    "    fp = np.sum([(prediction[i] == True and ground_truth[i] == False) for i in range(prediction.shape[0])])\n",
    "    fn = np.sum([(prediction[i] == False and ground_truth[i] == True) for i in range(prediction.shape[0])])\n",
    "            \n",
    "    precision = tp / (tp + fp)\n",
    "    recall = tp / (tp + fn)\n",
    "    accuracy = (tp + tn) / (tp + tn + fn + fp)\n",
    "    f1 = 2 * tp / (2 * tp + fp + fn )\n",
    "    \n",
    "    return precision, recall, f1, accuracy"
   ]
  },
  {
   "cell_type": "code",
   "execution_count": null,
   "metadata": {
    "colab": {
     "base_uri": "https://localhost:8080/"
    },
    "executionInfo": {
     "elapsed": 7,
     "status": "ok",
     "timestamp": 1631626678770,
     "user": {
      "displayName": "Даниил Русланович Махоткин",
      "photoUrl": "https://lh3.googleusercontent.com/a/default-user=s64",
      "userId": "18336248573599285046"
     },
     "user_tz": -180
    },
    "id": "JAUSqPiCQHIa",
    "outputId": "a425543d-6e97-490c-c5d2-77930d926a19"
   },
   "outputs": [],
   "source": [
    "# TODO: implement binary_classification_metrics\n",
    "precision, recall, f1, accuracy = binary_classification_metrics(prediction, binary_test_y)\n",
    "print(\"KNN with k = %s\" % knn_classifier.k)\n",
    "print(\"Accuracy: %4.2f, Precision: %4.2f, Recall: %4.2f, F1: %4.2f\" % (accuracy, precision, recall, f1)) "
   ]
  },
  {
   "cell_type": "code",
   "execution_count": null,
   "metadata": {
    "colab": {
     "base_uri": "https://localhost:8080/"
    },
    "executionInfo": {
     "elapsed": 343,
     "status": "ok",
     "timestamp": 1631626680306,
     "user": {
      "displayName": "Даниил Русланович Махоткин",
      "photoUrl": "https://lh3.googleusercontent.com/a/default-user=s64",
      "userId": "18336248573599285046"
     },
     "user_tz": -180
    },
    "id": "bd0SyMPcQHId",
    "outputId": "f20b1b14-31f5-4320-e52a-16ab7d8211f3"
   },
   "outputs": [],
   "source": [
    "# Давайте соберем все вместе и запустим KNN с k=3 и посмотрим, что у нас получится\n",
    "\n",
    "knn_classifier_3 = KNN(k=3)\n",
    "knn_classifier_3.fit(binary_train_X, binary_train_y)\n",
    "prediction = knn_classifier_3.predict(binary_test_X)\n",
    "\n",
    "precision, recall, f1, accuracy = binary_classification_metrics(prediction, binary_test_y)\n",
    "print(\"KNN with k = %s\" % knn_classifier_3.k)\n",
    "print(\"Accuracy: %4.2f, Precision: %4.2f, Recall: %4.2f, F1: %4.2f\" % (accuracy, precision, recall, f1)) "
   ]
  },
  {
   "cell_type": "markdown",
   "metadata": {
    "id": "acx-ruIkQHIf"
   },
   "source": [
    "# Кросс-валидация (cross-validation)\n",
    "\n",
    "Попробуем найти лучшее значение параметра k для алгоритма KNN! \n",
    "\n",
    "Для этого мы воспользуемся k-fold [cross-validation](https://en.wikipedia.org/wiki/Cross-validation_(statistics)#k-fold_cross-validation). Мы разделим тренировочные данные на 5 фолдов (folds), и по очереди будем использовать каждый из них в качестве проверочных данных (validation data), а остальные -- в качестве тренировочных (training data).\n",
    "\n",
    "В качестве финальной оценки эффективности k мы усредним значения F1 score на всех фолдах.\n",
    "После этого мы просто выберем значение k с лучшим значением метрики.\n",
    "\n",
    "*Бонус*: есть ли другие варианты агрегировать F1 score по всем фолдам? Напишите плюсы и минусы в клетке ниже."
   ]
  },
  {
   "cell_type": "code",
   "execution_count": null,
   "metadata": {
    "colab": {
     "base_uri": "https://localhost:8080/"
    },
    "executionInfo": {
     "elapsed": 340,
     "status": "ok",
     "timestamp": 1631626686962,
     "user": {
      "displayName": "Даниил Русланович Махоткин",
      "photoUrl": "https://lh3.googleusercontent.com/a/default-user=s64",
      "userId": "18336248573599285046"
     },
     "user_tz": -180
    },
    "id": "p-q1IaaTQHIg",
    "outputId": "8147a783-aa49-4a27-895e-2f4dffa02e82"
   },
   "outputs": [],
   "source": [
    "# Найдите лучший k, используя перекрестную проверку на основе оценки F1\n",
    "# TODO: разделить тренировочные данные на 5 частей и сохранить их в train_folds_X/train_folds_y\n",
    "num_folds = 5\n",
    "\n",
    "train_folds_X = # <YOUR CODE>\n",
    "train_folds_y = # <YOUR CODE>\n",
    "\n",
    "k_choices = [1, 2, 3, 4, 5, 6, 7, 8, 9, 10, 15, 20, 25, 50]\n",
    "k_to_f1 = {}  # отображает значения k в F1 (int -> float)"
   ]
  },
  {
   "cell_type": "code",
   "execution_count": null,
   "metadata": {},
   "outputs": [],
   "source": [
    "[x[0].shape for x in train_folds_X]"
   ]
  },
  {
   "cell_type": "code",
   "execution_count": null,
   "metadata": {
    "colab": {
     "base_uri": "https://localhost:8080/"
    },
    "executionInfo": {
     "elapsed": 6267,
     "status": "ok",
     "timestamp": 1631626694628,
     "user": {
      "displayName": "Даниил Русланович Махоткин",
      "photoUrl": "https://lh3.googleusercontent.com/a/default-user=s64",
      "userId": "18336248573599285046"
     },
     "user_tz": -180
    },
    "id": "WeToLg-AQHIi",
    "outputId": "b48f0e55-bad3-4c92-dc0f-ed11c65afa62"
   },
   "outputs": [],
   "source": [
    "for k in k_choices:\n",
    "    _f1 = np.zeros(num_folds)\n",
    "    for fold in range(num_folds):\n",
    "        _train_x = np.concatenate(np.delete(train_folds_X[:], fold, 0))\n",
    "        _test_x = train_folds_X[fold]\n",
    "        _train_y = np.concatenate(np.delete(train_folds_y[:], fold, 0))\n",
    "        _test_y = train_folds_y[fold]\n",
    "        knn = KNN(k)\n",
    "        knn.fit(_train_x, _train_y)\n",
    "        prediction = knn.predict(_test_x)\n",
    "        _, _, f1, _ = binary_classification_metrics(prediction, _test_y)\n",
    "        _f1[fold] = f1\n",
    "    k_to_f1.update({k : sum(_f1) / num_folds})\n",
    "\n",
    "for k in sorted(k_to_f1):\n",
    "    print('k = %d, f1 = %f' % (k, k_to_f1[k]))"
   ]
  },
  {
   "cell_type": "markdown",
   "metadata": {
    "id": "Ov-b6XBfQHIl"
   },
   "source": [
    "### Проверим, как хорошо работает лучшее значение k на тестовых данных (test data)"
   ]
  },
  {
   "cell_type": "code",
   "execution_count": null,
   "metadata": {
    "colab": {
     "base_uri": "https://localhost:8080/"
    },
    "executionInfo": {
     "elapsed": 325,
     "status": "ok",
     "timestamp": 1631626703828,
     "user": {
      "displayName": "Даниил Русланович Махоткин",
      "photoUrl": "https://lh3.googleusercontent.com/a/default-user=s64",
      "userId": "18336248573599285046"
     },
     "user_tz": -180
    },
    "id": "O0mqJ-T1QHIl",
    "outputId": "4de6de7e-3ed2-4dd7-cbdb-2bea902aae22"
   },
   "outputs": [],
   "source": [
    "# TODO: Установите лучший k на лучшее значение, найденное перекрестной проверкой\n",
    "\n",
    "best_k = None # <YOUR CODE HERE>\n",
    "\n",
    "best_knn_classifier = KNN(k=best_k)\n",
    "best_knn_classifier.fit(binary_train_X, binary_train_y)\n",
    "prediction = best_knn_classifier.predict(binary_test_X)\n",
    "\n",
    "precision, recall, f1, accuracy = binary_classification_metrics(prediction, binary_test_y)\n",
    "print(\"Best KNN with k = %s\" % best_k)\n",
    "print(\"Accuracy: %4.2f, Precision: %4.2f, Recall: %4.2f, F1: %4.2f\" % (accuracy, precision, recall, f1)) "
   ]
  },
  {
   "cell_type": "markdown",
   "metadata": {
    "id": "4WrA1l93QHIo"
   },
   "source": [
    "# Многоклассовая классификация (multi-class classification)\n",
    "\n",
    "Переходим к следующему этапу - классификации на каждую цифру."
   ]
  },
  {
   "cell_type": "code",
   "execution_count": null,
   "metadata": {
    "executionInfo": {
     "elapsed": 351,
     "status": "ok",
     "timestamp": 1631626710390,
     "user": {
      "displayName": "Даниил Русланович Махоткин",
      "photoUrl": "https://lh3.googleusercontent.com/a/default-user=s64",
      "userId": "18336248573599285046"
     },
     "user_tz": -180
    },
    "id": "w9xq5C-pQHIo"
   },
   "outputs": [],
   "source": [
    "# Теперь давайте использовать все 10 классов\n",
    "\n",
    "train_X = train_X.reshape(train_X.shape[0], -1)\n",
    "test_X = test_X.reshape(test_X.shape[0], -1)\n",
    "\n",
    "knn_classifier = KNN(k=1)\n",
    "knn_classifier.fit(train_X, train_y)"
   ]
  },
  {
   "cell_type": "code",
   "execution_count": null,
   "metadata": {
    "executionInfo": {
     "elapsed": 4693,
     "status": "ok",
     "timestamp": 1631626718095,
     "user": {
      "displayName": "Даниил Русланович Махоткин",
      "photoUrl": "https://lh3.googleusercontent.com/a/default-user=s64",
      "userId": "18336248573599285046"
     },
     "user_tz": -180
    },
    "id": "m6kGMvwNQHIr"
   },
   "outputs": [],
   "source": [
    "# TODO: Implement predict_labels_multiclass\n",
    "predict = knn_classifier.predict(test_X)"
   ]
  },
  {
   "cell_type": "code",
   "execution_count": null,
   "metadata": {
    "executionInfo": {
     "elapsed": 347,
     "status": "ok",
     "timestamp": 1631626865019,
     "user": {
      "displayName": "Даниил Русланович Махоткин",
      "photoUrl": "https://lh3.googleusercontent.com/a/default-user=s64",
      "userId": "18336248573599285046"
     },
     "user_tz": -180
    },
    "id": "GkzUpBtYhyVY"
   },
   "outputs": [],
   "source": [
    "def multiclass_accuracy(predictions, ground_truth):\n",
    "    accuracy = None # <YOUR CODE HERE>\n",
    "    \n",
    "    return accuracy"
   ]
  },
  {
   "cell_type": "code",
   "execution_count": null,
   "metadata": {
    "colab": {
     "base_uri": "https://localhost:8080/"
    },
    "executionInfo": {
     "elapsed": 7,
     "status": "ok",
     "timestamp": 1631626866459,
     "user": {
      "displayName": "Даниил Русланович Махоткин",
      "photoUrl": "https://lh3.googleusercontent.com/a/default-user=s64",
      "userId": "18336248573599285046"
     },
     "user_tz": -180
    },
    "id": "kEb43X-0QHIu",
    "outputId": "13589116-1727-4a87-a481-414ee7878616"
   },
   "outputs": [],
   "source": [
    "# TODO: Implement multiclass_accuracy\n",
    "\n",
    "accuracy = multiclass_accuracy(predict, test_y)\n",
    "print(\"Accuracy: %4.2f\" % accuracy)"
   ]
  },
  {
   "cell_type": "markdown",
   "metadata": {
    "id": "ASgYGtB1QHIx"
   },
   "source": [
    "Снова кросс-валидация. Теперь нашей основной метрикой стала точность (accuracy), и ее мы тоже будем усреднять по всем фолдам."
   ]
  },
  {
   "cell_type": "code",
   "execution_count": null,
   "metadata": {
    "colab": {
     "base_uri": "https://localhost:8080/"
    },
    "executionInfo": {
     "elapsed": 103936,
     "status": "ok",
     "timestamp": 1631626973500,
     "user": {
      "displayName": "Даниил Русланович Махоткин",
      "photoUrl": "https://lh3.googleusercontent.com/a/default-user=s64",
      "userId": "18336248573599285046"
     },
     "user_tz": -180
    },
    "id": "m3aljKqmQHIx",
    "outputId": "ecd90860-6dc6-48cb-bf0e-3d0cea6e7f1e"
   },
   "outputs": [],
   "source": [
    "%%time\n",
    "# Найдите лучший k, используя перекрестную проверку на основе точности\n",
    "# TODO: разделить тренировочные данные на 5 частей и сохранить их в train_folds_X/train_folds_y\n",
    "\n",
    "num_folds = 5\n",
    "train_folds_X = # <YOUR CODE>\n",
    "train_folds_y = # <YOUR CODE>\n",
    "\n",
    "\n",
    "k_choices = [1, 2, 3, 5, 8, 10, 15, 20, 25, 50]\n",
    "k_to_accuracy = {}\n",
    "\n",
    "for k in k_choices:\n",
    "    _acc = np.zeros(num_folds)\n",
    "    for fold in range(num_folds):\n",
    "        _train_x = np.concatenate(np.delete(train_folds_X[:], fold, 0))\n",
    "        _test_x = train_folds_X[fold]\n",
    "        _train_y = np.concatenate(np.delete(train_folds_y[:], fold, 0))\n",
    "        _test_y = train_folds_y[fold]\n",
    "        knn = KNN(k)\n",
    "        knn.fit(_train_x, _train_y)\n",
    "        prediction = knn.predict(_test_x)\n",
    "        acc = multiclass_accuracy(prediction, _test_y)\n",
    "        _acc[fold] = acc\n",
    "    k_to_accuracy.update({k : sum(_acc)/num_folds})\n",
    "\n",
    "\n",
    "for k in sorted(k_to_accuracy):\n",
    "    print('k = %d, accuracy = %f' % (k, k_to_accuracy[k]))"
   ]
  },
  {
   "cell_type": "markdown",
   "metadata": {
    "id": "lYMa-Ac-QHIz"
   },
   "source": [
    "### Финальный тест - классификация на 10 классов на тестовой выборке (test data)"
   ]
  },
  {
   "cell_type": "code",
   "execution_count": null,
   "metadata": {
    "colab": {
     "base_uri": "https://localhost:8080/"
    },
    "executionInfo": {
     "elapsed": 4573,
     "status": "ok",
     "timestamp": 1631626978064,
     "user": {
      "displayName": "Даниил Русланович Махоткин",
      "photoUrl": "https://lh3.googleusercontent.com/a/default-user=s64",
      "userId": "18336248573599285046"
     },
     "user_tz": -180
    },
    "id": "04JlzB8uQHI0",
    "outputId": "734b444f-c925-4f03-b379-1574345c579d"
   },
   "outputs": [],
   "source": [
    "# TODO: Установите лучший k на лучшее значение, найденное перекрестной проверкой\n",
    "\n",
    "best_k = None # <YOUR CODE HERE>\n",
    "\n",
    "best_knn_classifier = KNN(k=best_k)\n",
    "best_knn_classifier.fit(train_X, train_y)\n",
    "prediction = best_knn_classifier.predict(test_X)\n",
    "\n",
    "accuracy = multiclass_accuracy(prediction, test_y)\n",
    "print(\"Best KNN with k = %s\" % best_k)\n",
    "print(\"Accuracy: %4.2f\" % accuracy)"
   ]
  },
  {
   "cell_type": "code",
   "execution_count": null,
   "metadata": {
    "id": "44AzPecIfoVU"
   },
   "outputs": [],
   "source": []
  }
 ],
 "metadata": {
  "colab": {
   "name": "Seminar_01_Naive_Bayes_kNN_Solved.ipynb",
   "provenance": [
    {
     "file_id": "1fdRLtv6QoGQ962wpCEaCh0ZEopaG_lox",
     "timestamp": 1600752075180
    }
   ],
   "toc_visible": true
  },
  "kernelspec": {
   "display_name": "Python 3 (ipykernel)",
   "language": "python",
   "name": "python3"
  },
  "language_info": {
   "codemirror_mode": {
    "name": "ipython",
    "version": 3
   },
   "file_extension": ".py",
   "mimetype": "text/x-python",
   "name": "python",
   "nbconvert_exporter": "python",
   "pygments_lexer": "ipython3",
   "version": "3.8.10"
  }
 },
 "nbformat": 4,
 "nbformat_minor": 4
}
