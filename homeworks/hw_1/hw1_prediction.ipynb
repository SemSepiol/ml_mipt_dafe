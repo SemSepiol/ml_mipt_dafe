{
 "cells": [
  {
   "cell_type": "markdown",
   "id": "be79d4d7-2974-41a5-a0f0-adcd9a771a50",
   "metadata": {
    "id": "AGf_xvZiT0Ww",
    "tags": []
   },
   "source": [
    "# Домашнее задание № 1\n",
    "\n",
    "Вам необходимо воспользоваться наработками из предыдущих частей задания (подготовка данных, сложные признаки и стратегия валидации) для предсказания оценки (```G3```) на тестовом наборе данных."
   ]
  },
  {
   "cell_type": "markdown",
   "id": "22646374-f328-4412-8c59-5e157e779cf2",
   "metadata": {
    "_cell_guid": "3013b854-7aaa-4ad6-7952-1d188121ea25",
    "id": "FOASQBPeTtWR"
   },
   "source": [
    "# Часть 5. Обучение алгоритма"
   ]
  },
  {
   "cell_type": "markdown",
   "id": "fc9c91d2-bfea-43e0-b6df-7f96664a7d66",
   "metadata": {
    "id": "0mY4P-3KwCxe"
   },
   "source": [
    "Целевая переменная принимает дискретные значения [0; 20], поэтому вы можете поставить как задачу классификации, так и задачу регрессии.\n",
    "\n",
    "!Не забудьте про оптимизацию параметров алгоритмов, у вас же уже есть данные для валидации."
   ]
  },
  {
   "cell_type": "markdown",
   "id": "fcb899db-1e1f-428c-a035-1d2b690714e5",
   "metadata": {
    "id": "hSzT-UXuwc0K"
   },
   "source": [
    "## KNN"
   ]
  },
  {
   "cell_type": "code",
   "execution_count": null,
   "id": "e37ad661-fc01-4164-bf37-9f6d09370058",
   "metadata": {
    "_cell_guid": "74f8d40e-415f-9e29-03ca-aa1e75714c11",
    "id": "ZYbJ_BsSwc0L"
   },
   "outputs": [],
   "source": []
  },
  {
   "cell_type": "markdown",
   "id": "c0b47e9a-3c22-415c-98db-8be4aabbf021",
   "metadata": {
    "id": "zmxKux_4TjVy"
   },
   "source": [
    "## Bayes"
   ]
  },
  {
   "cell_type": "code",
   "execution_count": null,
   "id": "e7976a0b-0a53-4a9d-b7b6-e5fd5dbf83a6",
   "metadata": {
    "id": "UZheW_0oT5vo"
   },
   "outputs": [],
   "source": []
  },
  {
   "cell_type": "markdown",
   "id": "dbe6c3e0-11c0-4f15-8cab-9250255625fc",
   "metadata": {
    "_cell_guid": "7febeef3-e6b0-a18a-5705-7ee3876c1965",
    "id": "Udr6RqDEwc0P"
   },
   "source": [
    "## Регрессия"
   ]
  },
  {
   "cell_type": "code",
   "execution_count": null,
   "id": "591b682b-ff10-4a38-8e17-1b0ddef9ec1a",
   "metadata": {
    "_cell_guid": "12f1d266-9efa-4bd9-a3c1-48ea880080be",
    "id": "crF6j8Qwwc0Q"
   },
   "outputs": [],
   "source": []
  },
  {
   "cell_type": "markdown",
   "id": "7975eaae-4b07-43b8-a4c7-c573f8593957",
   "metadata": {
    "id": "BuTgmr4HT0x5"
   },
   "source": [
    "## SVM"
   ]
  },
  {
   "cell_type": "code",
   "execution_count": null,
   "id": "3d9d4146-15e4-44df-a882-b794ce252ec5",
   "metadata": {
    "id": "PqO3Lfr-T034"
   },
   "outputs": [],
   "source": []
  },
  {
   "cell_type": "markdown",
   "id": "8a1ce346-4ac2-4950-b2c8-ffc6cdb0cca5",
   "metadata": {
    "id": "IZwVMhCdVN4J"
   },
   "source": [
    "## Постройте сложную модель на основе предыдущих четырех простых и оцените ее точность"
   ]
  },
  {
   "cell_type": "markdown",
   "id": "dfad6385-0e3b-47c2-aecf-0e894089f013",
   "metadata": {
    "id": "AIVA5eAGWCvn"
   },
   "source": [
    "Вариант 1. Нужно взвесить предсказания простых моделей. Предложите метод взвешивания."
   ]
  },
  {
   "cell_type": "code",
   "execution_count": null,
   "id": "2a791883-273f-4b2d-a300-8a6d287b44f7",
   "metadata": {
    "id": "FyY66n-0VN-o"
   },
   "outputs": [],
   "source": []
  },
  {
   "cell_type": "markdown",
   "id": "2e550dac-82ba-41bc-835e-61a4661e2452",
   "metadata": {
    "id": "j52FCl5YW9am"
   },
   "source": [
    "Вариант 2. Нужно оценить корреляцию предсказаний простых моделей."
   ]
  },
  {
   "cell_type": "code",
   "execution_count": null,
   "id": "1c992ab6-ad87-48a9-9535-e9c8940a1d5c",
   "metadata": {
    "id": "9OsdrEwwW9aw"
   },
   "outputs": [],
   "source": []
  },
  {
   "cell_type": "markdown",
   "id": "208a2eca-34e3-4339-830e-e5b26eee33bb",
   "metadata": {
    "_cell_guid": "3013b854-7aaa-4ad6-7952-1d188121ea25",
    "id": "Jesi9XuFxDC4"
   },
   "source": [
    "## Сделайте итоговое предсказание"
   ]
  },
  {
   "cell_type": "markdown",
   "id": "788d78fb-ee0f-40c9-9831-97b7cffe44ed",
   "metadata": {
    "id": "o1RKHAMMxDC5"
   },
   "source": [
    "Решением домашнего задания является данный ноутбук + .csv файл с предсказанием. Пример формата файла, который должен у вас получится приведен в ```data/sample_submission.csv```. Данные для предсказания - ```X_test.csv```.\n",
    "\n",
    "За лучшее предсказание 5 человек получат +10% к домашке.\n",
    "\n",
    "Значения предсказаний должны быть целочисленными. Проверка будет точности решения будет по MSE."
   ]
  },
  {
   "cell_type": "code",
   "execution_count": null,
   "id": "f3bc9980-1330-439f-8d1f-f980620c4a14",
   "metadata": {
    "_cell_guid": "74f8d40e-415f-9e29-03ca-aa1e75714c11",
    "id": "4jjz8kfUxDC7"
   },
   "outputs": [],
   "source": [
    "# Для jupyter notebook\n",
    "\n",
    "submission = pd.read_csv('data/sample_submission.csv', index_col='id')\n",
    "submission['G3'] = 1 # ваше предсказание\n",
    "submission.to_csv('data/submission.csv', index=False) "
   ]
  },
  {
   "cell_type": "code",
   "execution_count": null,
   "id": "28d93753-2124-465d-a6bd-825fab0f5fb1",
   "metadata": {
    "id": "x-6G4MNLyfl9"
   },
   "outputs": [],
   "source": [
    "# Для colab notebook\n",
    "\n",
    "from google.colab import files\n",
    "\n",
    "pd.read_csv('data/sample_submission.csv', index_col='id')\n",
    "submission['G3'] = 1 # ваше предсказание\n",
    "submission.to_csv('data/submission.csv', index=False)\n",
    "files.download('data/submission.csv')"
   ]
  },
  {
   "cell_type": "code",
   "execution_count": null,
   "id": "f6e88673-34c1-4df8-aa6a-327b2e590661",
   "metadata": {},
   "outputs": [],
   "source": []
  },
  {
   "cell_type": "markdown",
   "id": "7582f216-5e7c-4189-ad8d-1a5f1714a6a0",
   "metadata": {
    "id": "Fq3f92ANsvZ3"
   },
   "source": [
    "# Часть 6. Состязательная валидация (Adversarial Validation)"
   ]
  },
  {
   "cell_type": "markdown",
   "id": "26b24cd0-771b-440d-9fad-f792a9a00d81",
   "metadata": {
    "id": "IPvFGp92s4Fv"
   },
   "source": [
    "Данная стратегия часто применяется в соревнованиях по машинному обучению. Так как проверить свой алгоритм возможно только на заданном тренировочном наборе данных, а результат требуется к набору, для которого нет ответов, то выбирают следующий подход:\n",
    "- оценить степень схожести тренировочных и тестовых данных;\n",
    "- составить валидацию из тех тренировочных данных, которые больше похожи на тестовые.\n",
    "\n",
    "Алгоритм реализации AV:\n",
    "1. Удаляем ответы из тренировочных данных.\n",
    "2. Добавляем специальные метки (```is_test```) для классов: тренировочные данные и тестовые.\n",
    "То есть у тестовых данных будет значение ```is_test = 1```, а у тренировочных ```is_test = 0```.\n",
    "4. Учим алгоритм классификации предсказывать заданную метку ```is_test```.\n",
    "5. Делим тренировочные данные на N частей и проводим кросс-валидацию.\n",
    "\n",
    "Обучаем N алгоритмов классификации: каждый обучается на всех тестовых данных и на N-1 наборах тренировочных. Предсказываем на 1 тренировочном наборе.\n",
    "\n",
    "6. Для каждого элемента в выборке предсказываем вероятность принадлежности класса и сортируем тренировочные данные по вероятности принадлежности тестовой выборке.\n",
    "7. Выделяем заданное число данных в валидацию.\n",
    "8. Обучаемся для итогового предсказания на всех данных."
   ]
  },
  {
   "cell_type": "code",
   "execution_count": null,
   "id": "b1b92221-c587-4555-a4de-3131a56d6e70",
   "metadata": {
    "_cell_guid": "03e74d0f-a241-a724-8b95-215bf4369d90",
    "id": "eE55xV0wTtWF"
   },
   "outputs": [],
   "source": []
  }
 ],
 "metadata": {
  "kernelspec": {
   "display_name": "Python 3 (ipykernel)",
   "language": "python",
   "name": "python3"
  },
  "language_info": {
   "codemirror_mode": {
    "name": "ipython",
    "version": 3
   },
   "file_extension": ".py",
   "mimetype": "text/x-python",
   "name": "python",
   "nbconvert_exporter": "python",
   "pygments_lexer": "ipython3",
   "version": "3.8.10"
  }
 },
 "nbformat": 4,
 "nbformat_minor": 5
}
