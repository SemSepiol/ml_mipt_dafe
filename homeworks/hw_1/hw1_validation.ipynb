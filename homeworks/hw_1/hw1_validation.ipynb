{
 "cells": [
  {
   "cell_type": "markdown",
   "id": "15bb63f3-ac5e-4337-92aa-9120e442375c",
   "metadata": {
    "id": "AGf_xvZiT0Ww",
    "jp-MarkdownHeadingCollapsed": true,
    "tags": []
   },
   "source": [
    "# Домашнее задание № 1\n",
    "\n",
    "Вам необходимо выбор стратегии валидации и обработку данных от ошибок заполнения."
   ]
  },
  {
   "cell_type": "markdown",
   "id": "621800ae-7aae-4802-b714-b727f39d5c11",
   "metadata": {
    "_cell_guid": "9d8e5350-8caa-ab7d-834c-bbaf3e30c2b1",
    "id": "B1ejqsVNTtWC"
   },
   "source": [
    "# Часть 3. Стратегия валидации\n",
    "\n",
    "Итак, у вас есть данные для обучения и данные, на которых необходимо сделать предсказание. Для оценки точности необходимо проводить валидацию (так как мало данных, можно проводить кросс валидацию).\n",
    "Валидацию проще всего реализовать методами sklearn, например:\n",
    "- KFold\n",
    "- ShuffleSplit\n",
    "- StratifiedKFold\n",
    "- StratifiedShuffleSplit\n",
    "- GroupKFold\n",
    "- GroupShuffleSplit"
   ]
  },
  {
   "cell_type": "code",
   "execution_count": null,
   "id": "fee2652c-2c50-4eae-ac00-d5cc84bea6d4",
   "metadata": {
    "id": "BSLrxqeMTgyv"
   },
   "outputs": [],
   "source": [
    "# Ваш код"
   ]
  },
  {
   "cell_type": "markdown",
   "id": "1a479fa7-ee88-469d-9f14-7e513f1b3f98",
   "metadata": {
    "id": "VzubJKIYtP8u"
   },
   "source": [
    "## Разделите данные и объясните выбор стратегии"
   ]
  },
  {
   "cell_type": "code",
   "execution_count": null,
   "id": "27828236-8b74-40db-ae41-fbbba4f0704f",
   "metadata": {
    "_cell_guid": "35d7b6ae-6a83-d93d-0fa3-8502b8f9bee0",
    "id": "mHzvEErXTtWD"
   },
   "outputs": [],
   "source": [
    "# Ваш код"
   ]
  },
  {
   "cell_type": "markdown",
   "id": "54901900-de8c-4f6e-a755-17f6b4aaf937",
   "metadata": {
    "id": "RX_mfjbATgyv"
   },
   "source": [
    "__Ваш ответ:__ ..."
   ]
  },
  {
   "cell_type": "markdown",
   "id": "8cc67c68-03f3-4cfa-a7fb-b56d86ed6805",
   "metadata": {},
   "source": [
    "# Часть 4. Заполнение пропусков в данных "
   ]
  },
  {
   "cell_type": "markdown",
   "id": "1c34dd70-4252-4c1d-86ac-4fa063f41c0c",
   "metadata": {},
   "source": [
    "## Фильтрация по диапазону значений \n",
    "\n",
    "Проверьте, что все характеристики принадлежат тому диапазону значений, который приведен в описании к исходным данным. Например, если в графе \"Пол\" есть значение FF, P или -1, то это явная ошибка заполнения.\n",
    "\n",
    "Приведите данные в соответствии с описанием данных. Если значение указано неверно - укажите ```NaN```."
   ]
  },
  {
   "cell_type": "code",
   "execution_count": null,
   "id": "2ea9237e-f421-4994-a87a-4b8c17e5e550",
   "metadata": {},
   "outputs": [],
   "source": [
    "# Ваш код"
   ]
  },
  {
   "cell_type": "markdown",
   "id": "a31c8aea-226c-4378-a78b-e68842921ead",
   "metadata": {},
   "source": [
    "## Адаптивное заполнения пропусков \n",
    "\n",
    "Реализуйте стратегию заполнения пропусков данных на основе схожих примеров. Обучите один из известных вам алгоритмов (knn, Naive Bayes, linear regression) для предсказания той характеристики, пропуски которой присутсвуют в данных. В качестве характеристики для обучения алгоритмов __нельзя__ использовать ```G3```."
   ]
  },
  {
   "cell_type": "code",
   "execution_count": null,
   "id": "c48d9077-392e-48ef-9a3f-3347ca38da4b",
   "metadata": {},
   "outputs": [],
   "source": [
    "# Ваш код"
   ]
  },
  {
   "cell_type": "code",
   "execution_count": null,
   "id": "ef0e8f16-8ab8-497b-b8db-4884b29babd2",
   "metadata": {},
   "outputs": [],
   "source": []
  }
 ],
 "metadata": {
  "kernelspec": {
   "display_name": "Python 3 (ipykernel)",
   "language": "python",
   "name": "python3"
  },
  "language_info": {
   "codemirror_mode": {
    "name": "ipython",
    "version": 3
   },
   "file_extension": ".py",
   "mimetype": "text/x-python",
   "name": "python",
   "nbconvert_exporter": "python",
   "pygments_lexer": "ipython3",
   "version": "3.8.10"
  }
 },
 "nbformat": 4,
 "nbformat_minor": 5
}
