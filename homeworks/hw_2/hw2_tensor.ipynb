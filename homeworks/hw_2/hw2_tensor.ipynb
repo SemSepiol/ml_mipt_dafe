{
  "nbformat": 4,
  "nbformat_minor": 0,
  "metadata": {
    "colab": {
      "provenance": [],
      "collapsed_sections": [],
      "toc_visible": true
    },
    "kernelspec": {
      "name": "python3",
      "display_name": "Python 3"
    }
  },
  "cells": [
    {
      "cell_type": "markdown",
      "source": [
        "# HW 2 - Разложение матриц градиентным методом"
      ],
      "metadata": {
        "id": "Qjl6x6og3uXH"
      }
    },
    {
      "cell_type": "markdown",
      "source": [
        "Цель задания: В ходе реализации [разложения Таккера](https://proceedings.neurips.cc/paper/2018/file/45a766fa266ea2ebeb6680fa139d2a3d-Paper.pdf) градиентным методом освоить pyTorch и реализовать подходы оптимизации параметров модели (в отсутствии готовых решений)."
      ],
      "metadata": {
        "id": "Sv79QFb_-oNZ"
      }
    },
    {
      "cell_type": "markdown",
      "source": [
        "[Более-менее внятное описание алгоритма канонического разложения](https://www.alexejgossmann.com/tensor_decomposition_tucker/)"
      ],
      "metadata": {
        "id": "1HUSrylpBwYn"
      }
    },
    {
      "cell_type": "code",
      "source": [
        "import random\n",
        "import time\n",
        "import torch\n",
        "import pandas as pd\n",
        "import numpy as np\n",
        "\n",
        "import scipy.sparse as sparse\n",
        "from scipy.sparse.linalg import spsolve\n",
        "from sklearn.preprocessing import MinMaxScaler\n",
        "from matplotlib import pyplot as plt\n",
        "from numpy.linalg import svd, matrix_rank, pinv, inv\n",
        "from scipy.linalg import eigh, eig\n",
        "from sklearn.metrics import mean_squared_error\n",
        "from tqdm.notebook import tqdm\n",
        "from torch import nn\n",
        "\n",
        "torch.manual_seed(0)"
      ],
      "metadata": {
        "colab": {
          "base_uri": "https://localhost:8080/"
        },
        "id": "P1PuoBtG7iw7",
        "outputId": "2cf68d00-5d67-4036-ef4b-df87be14d253"
      },
      "execution_count": null,
      "outputs": [
        {
          "output_type": "execute_result",
          "data": {
            "text/plain": [
              "<torch._C.Generator at 0x7fc86db3a210>"
            ]
          },
          "metadata": {},
          "execution_count": 2
        }
      ]
    },
    {
      "cell_type": "markdown",
      "source": [
        "## 1 Создайте 3х мерный тензор\n",
        "Размер тензора не меньше 100 по каждой из размерностей.\n",
        "\n",
        "Заполните случайными целыми числами в диапазоне от 0 до 9."
      ],
      "metadata": {
        "id": "6LfhKpuX7htE"
      }
    },
    {
      "cell_type": "markdown",
      "source": [
        "Примечание: разложение будет корректно работать со случайным тензором, только если изначально создавать случайные ядро и матрицы, а потом по ним формировать тензор. Работайте с типом *torch.Tensor.double*."
      ],
      "metadata": {
        "id": "ap1Ozn7P8-Yj"
      }
    },
    {
      "cell_type": "code",
      "metadata": {
        "id": "5SzHzteOROQQ"
      },
      "source": [
        "# Создадим тензор: размер тензора и r задаётся\n",
        "def get_tensor(size=(100,200,150), r=10):\n",
        "  # data - тензор с заданной размерностью\n",
        "  # U - список матриц\n",
        "  # G - ядро разложения\n",
        "  \n",
        "  return data, U, G"
      ],
      "execution_count": null,
      "outputs": []
    },
    {
      "cell_type": "markdown",
      "source": [
        "Сгенерируйте тензор и добавьте к нему случайный шум с размерностью *1e-2*"
      ],
      "metadata": {
        "id": "EFuFlp2n78Tz"
      }
    },
    {
      "cell_type": "code",
      "source": [
        "data, U, G = get_tensor(r=(10, 20, 30))\n",
        "data.shape, [u.shape for u in U], G.shape"
      ],
      "metadata": {
        "id": "FnUbbsYSdrsw"
      },
      "execution_count": null,
      "outputs": []
    },
    {
      "cell_type": "code",
      "source": [],
      "metadata": {
        "id": "N70Xy_6u9RFa"
      },
      "execution_count": null,
      "outputs": []
    },
    {
      "cell_type": "markdown",
      "source": [
        "Вопрос:\n",
        "Почему задание не имеет смысла для полностью случайного тензора и зачем добавлять шум? *не отвечать нельзя*"
      ],
      "metadata": {
        "id": "kp75_Ad29RL5"
      }
    },
    {
      "cell_type": "markdown",
      "source": [
        "Ответ:"
      ],
      "metadata": {
        "id": "5VLMaT5wyE11"
      }
    },
    {
      "cell_type": "markdown",
      "source": [
        "## 2 Реализуйте метод для восстановления тензора по разложению"
      ],
      "metadata": {
        "id": "TzninpMYD_hd"
      }
    },
    {
      "cell_type": "code",
      "source": [
        "# Функция, восстанавливающая тензор по ядру и матрицам\n",
        "def repair_tensor(G_, U):\n",
        "  # data - восстановленный тензор из матриц и ядра\n",
        "  # U - список матриц\n",
        "  # G_ - ядро разложения\n",
        "\n",
        "  return data"
      ],
      "metadata": {
        "id": "YDTx9ZbYD-_S"
      },
      "execution_count": null,
      "outputs": []
    },
    {
      "cell_type": "code",
      "source": [],
      "metadata": {
        "id": "KvEKNuTvIIfp"
      },
      "execution_count": null,
      "outputs": []
    },
    {
      "cell_type": "markdown",
      "source": [
        "## 3 Сделайте разложение библиотечным методом\n",
        "Пакет можете брать любой"
      ],
      "metadata": {
        "id": "MKqzxtaE-F16"
      }
    },
    {
      "cell_type": "code",
      "source": [],
      "metadata": {
        "id": "Hlp4Jh3--fKh"
      },
      "execution_count": null,
      "outputs": []
    },
    {
      "cell_type": "markdown",
      "source": [
        "Не забудьте померить ошибку разложения по метрике MSE"
      ],
      "metadata": {
        "id": "wMw1x8w8-lsh"
      }
    },
    {
      "cell_type": "code",
      "source": [],
      "metadata": {
        "id": "HWkdb7Ip-mL3"
      },
      "execution_count": null,
      "outputs": []
    }
  ]
}