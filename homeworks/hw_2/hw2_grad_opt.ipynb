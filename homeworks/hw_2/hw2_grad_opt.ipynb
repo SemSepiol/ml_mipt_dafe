{
  "nbformat": 4,
  "nbformat_minor": 0,
  "metadata": {
    "colab": {
      "provenance": [],
      "collapsed_sections": [],
      "toc_visible": true
    },
    "kernelspec": {
      "name": "python3",
      "display_name": "Python 3"
    }
  },
  "cells": [
    {
      "cell_type": "markdown",
      "source": [
        "# HW 2 - Разложение матриц градиентным методом. Part 2"
      ],
      "metadata": {
        "id": "Qjl6x6og3uXH"
      }
    },
    {
      "cell_type": "markdown",
      "source": [
        "## 4 Реализуйте разложение градиентным методом"
      ],
      "metadata": {
        "id": "ibOgeEgfD1wm"
      }
    },
    {
      "cell_type": "markdown",
      "source": [
        "### 4.1 Реализуйте *optimizer*\n",
        "Можно взять из исходников *PyTorch* и отнаследоваться от *torch.optim.optimizer*.\n",
        "Используйте квадратичный *Loss*."
      ],
      "metadata": {
        "id": "GstBYmiBF7A6"
      }
    },
    {
      "cell_type": "code",
      "source": [
        "import math\n",
        "import torch\n",
        "from torch.optim.optimizer import Optimizer\n",
        "\n",
        "\n",
        "class Opt(Optimizer):\n",
        "\n",
        "    def __init__(self, params, lr=1e-3, ...):\n",
        "        \n",
        "        super().__init__(params, defaults)\n",
        "\n",
        "    def step(self):\n",
        "        \n",
        "\n",
        "        return loss"
      ],
      "metadata": {
        "id": "Mxrtt60hF6xb"
      },
      "execution_count": null,
      "outputs": []
    },
    {
      "cell_type": "markdown",
      "source": [
        "### 4.2 Реализуйте цикл оптимизации параметров"
      ],
      "metadata": {
        "id": "8GSolH5dEJba"
      }
    },
    {
      "cell_type": "markdown",
      "source": [
        "Стоит параметры оптимизировать сразу на GPU"
      ],
      "metadata": {
        "id": "P6UWpuERFTn8"
      }
    },
    {
      "cell_type": "code",
      "source": [],
      "metadata": {
        "id": "CgPaeQ7XEJnD"
      },
      "execution_count": null,
      "outputs": []
    },
    {
      "cell_type": "markdown",
      "source": [
        "## 5 Приведите сравнение скорости работы и ошибки восстановления методом из пакета и реализованного градиентного\n",
        "Сравнение может считаться ± объективным с размером выборки от 10."
      ],
      "metadata": {
        "id": "Za8JKgR-Falk"
      }
    },
    {
      "cell_type": "code",
      "source": [],
      "metadata": {
        "id": "mOGKW9RHFa5D"
      },
      "execution_count": null,
      "outputs": []
    }
  ]
}