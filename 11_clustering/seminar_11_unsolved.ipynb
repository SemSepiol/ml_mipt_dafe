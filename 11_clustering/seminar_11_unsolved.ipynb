{
 "cells": [
  {
   "cell_type": "markdown",
   "metadata": {},
   "source": [
    "# Семинар 9 - Кластеризация"
   ]
  },
  {
   "cell_type": "code",
   "execution_count": null,
   "metadata": {},
   "outputs": [],
   "source": [
    "import math \n",
    "from math import floor\n",
    "from itertools import product\n",
    "\n",
    "import numpy as np\n",
    "import pandas as pd\n",
    "import seaborn as sns\n",
    "import matplotlib as mpl\n",
    "import matplotlib.pyplot as plt\n",
    "from matplotlib.colors import ListedColormap\n",
    "\n",
    "from sklearn.preprocessing import StandardScaler\n",
    "from sklearn.cluster import DBSCAN, KMeans, MeanShift, estimate_bandwidth, AgglomerativeClustering\n",
    "from sklearn.decomposition import PCA\n",
    "from sklearn.manifold import TSNE\n",
    "\n",
    "%matplotlib inline\n",
    "plt.style.use('seaborn')\n",
    "\n",
    "seed = 42\n",
    "np.random.seed(seed)"
   ]
  },
  {
   "cell_type": "markdown",
   "metadata": {
    "tags": []
   },
   "source": [
    "# Подготовим данные"
   ]
  },
  {
   "cell_type": "code",
   "execution_count": null,
   "metadata": {},
   "outputs": [],
   "source": [
    "from sklearn.datasets import make_blobs, make_moons"
   ]
  },
  {
   "cell_type": "code",
   "execution_count": null,
   "metadata": {},
   "outputs": [],
   "source": [
    "centers = [[1, 1], [-1, -1], [1, -1], [3, 4]]\n",
    "blobs = make_blobs(n_samples=750, centers=centers, cluster_std=0.5, random_state=seed) \n",
    "# noisy_moons = make_moons(n_samples=750, noise=0.05, random_state=seed)\n",
    "\n",
    "X, y = blobs\n",
    "X = StandardScaler().fit_transform(X)"
   ]
  },
  {
   "cell_type": "code",
   "execution_count": null,
   "metadata": {},
   "outputs": [],
   "source": [
    "def plot_xy_set(X, labels):\n",
    "    unique_labels = set(labels)\n",
    "\n",
    "    colors = [plt.cm.Spectral(each) for each in np.linspace(0, 1, len(unique_labels))]\n",
    "    for k, col in zip(unique_labels, colors):\n",
    "        if k == -1:\n",
    "            # Black used for noise.\n",
    "            col = [0, 0, 0, 1]\n",
    "\n",
    "        class_member_mask = labels == k\n",
    "\n",
    "        xy = X[class_member_mask]\n",
    "        plt.plot(\n",
    "            xy[:, 0],\n",
    "            xy[:, 1],\n",
    "            \"o\",\n",
    "            markerfacecolor=tuple(col),\n",
    "            markeredgecolor=\"k\",\n",
    "            markersize=4,\n",
    "        )\n",
    "\n",
    "    plt.title(\"Estimated number of clusters: %d\" % len(unique_labels))"
   ]
  },
  {
   "cell_type": "code",
   "execution_count": null,
   "metadata": {},
   "outputs": [],
   "source": [
    "plot_xy_set(X, y)"
   ]
  },
  {
   "cell_type": "markdown",
   "metadata": {},
   "source": [
    "## Вспомогательная функция оценки сегментации"
   ]
  },
  {
   "cell_type": "code",
   "execution_count": null,
   "metadata": {},
   "outputs": [],
   "source": [
    "from sklearn import metrics"
   ]
  },
  {
   "cell_type": "code",
   "execution_count": null,
   "metadata": {},
   "outputs": [],
   "source": [
    "def log_calc_metrics(y_true, y_pred):\n",
    "    print(\"Homogeneity: %0.3f\" % metrics.homogeneity_score(y_true, y_pred))\n",
    "    print(\"Completeness: %0.3f\" % metrics.completeness_score(y_true, y_pred))\n",
    "    print(\"V-measure: %0.3f\" % metrics.v_measure_score(y_true, y_pred))\n",
    "    print(\"Adjusted Rand Index: %0.3f\" % metrics.adjusted_rand_score(y_true, y_pred))\n",
    "    print(\"Adjusted Mutual Information: %0.3f\" % metrics.adjusted_mutual_info_score(y_true, y_pred))"
   ]
  },
  {
   "cell_type": "markdown",
   "metadata": {},
   "source": [
    "## Agglomerative"
   ]
  },
  {
   "cell_type": "code",
   "execution_count": null,
   "metadata": {},
   "outputs": [],
   "source": [
    "# Compute clustering\n",
    "print(\"Compute structured hierarchical clustering...\")\n",
    "n_clusters = 5  # number of regions\n",
    "ward = AgglomerativeClustering(n_clusters=None,\n",
    "        linkage='ward', distance_threshold=10).fit(X)\n",
    "\n",
    "label = ward.labels_\n",
    "print(\"Number of frames: \", label.size)\n",
    "print(\"Number of clusters: \", np.unique(label).size)\n",
    "\n",
    "log_calc_metrics(y, label)"
   ]
  },
  {
   "cell_type": "code",
   "execution_count": null,
   "metadata": {},
   "outputs": [],
   "source": [
    "plot_xy_set(X, label)"
   ]
  },
  {
   "cell_type": "markdown",
   "metadata": {},
   "source": [
    "## Mean-Shift "
   ]
  },
  {
   "cell_type": "code",
   "execution_count": null,
   "metadata": {},
   "outputs": [],
   "source": [
    "# The following bandwidth can be automatically detected using\n",
    "bandwidth = estimate_bandwidth(X, quantile=0.2, n_samples=500)\n",
    "\n",
    "ms = MeanShift(bandwidth=bandwidth, bin_seeding=True)\n",
    "ms.fit(X)\n",
    "labels = ms.labels_\n",
    "print(\"Number of frames: \", label.size)\n",
    "print(\"Number of clusters: \", np.unique(label).size)\n",
    "\n",
    "log_calc_metrics(y, label)"
   ]
  },
  {
   "cell_type": "code",
   "execution_count": null,
   "metadata": {},
   "outputs": [],
   "source": [
    "plot_xy_set(X, labels)"
   ]
  },
  {
   "cell_type": "markdown",
   "metadata": {},
   "source": [
    "## DBSCAN "
   ]
  },
  {
   "cell_type": "code",
   "execution_count": null,
   "metadata": {},
   "outputs": [],
   "source": [
    "# Compute DBSCAN\n",
    "db = DBSCAN(eps=0.3, min_samples=10).fit(X)\n",
    "\n",
    "core_samples_mask = np.zeros_like(db.labels_, dtype=bool)\n",
    "core_samples_mask[db.core_sample_indices_] = True\n",
    "label = db.labels_\n",
    "\n",
    "# Number of clusters in labels, ignoring noise if present.\n",
    "n_clusters_ = len(set(labels)) - (1 if -1 in labels else 0)\n",
    "n_noise_ = list(labels).count(-1)\n",
    "\n",
    "print(\"Number of clusters: %d\" % n_clusters_)\n",
    "print(\"Number of noise points: %d\" % n_noise_)\n",
    "\n",
    "log_calc_metrics(y, label)"
   ]
  },
  {
   "cell_type": "code",
   "execution_count": null,
   "metadata": {},
   "outputs": [],
   "source": [
    "plot_xy_set(X, label)"
   ]
  },
  {
   "cell_type": "markdown",
   "metadata": {
    "tags": []
   },
   "source": [
    "# Визуализация данных"
   ]
  },
  {
   "cell_type": "code",
   "execution_count": null,
   "metadata": {},
   "outputs": [],
   "source": [
    "data = pd.read_csv('covid_stat.csv')"
   ]
  },
  {
   "cell_type": "code",
   "execution_count": null,
   "metadata": {},
   "outputs": [],
   "source": [
    "data.head(5).T"
   ]
  },
  {
   "cell_type": "code",
   "execution_count": null,
   "metadata": {},
   "outputs": [],
   "source": [
    "df_corr = data.corr()\n",
    "\n",
    "mask = np.triu(np.ones_like(df_corr, dtype=bool))\n",
    "f, ax = plt.subplots(figsize=(11, 9))\n",
    "cmap = sns.diverging_palette(220, 10, as_cmap=True)\n",
    "sns.heatmap(df_corr, mask=mask, cmap=cmap, center=0,\n",
    "            square=True, linewidths=.5, cbar_kws={\"shrink\": .5})\n",
    "\n",
    "plt.show()"
   ]
  },
  {
   "cell_type": "code",
   "execution_count": null,
   "metadata": {},
   "outputs": [],
   "source": [
    "scaler = StandardScaler()\n",
    "\n",
    "df_orig = data.copy().set_index('Country/Region').drop(columns=['Country Code'])\n",
    "df_sc = pd.DataFrame(scaler.fit_transform(df_orig), index=df_orig.index, columns=df_orig.columns)\n",
    "\n",
    "display('original', data.head(2), 'scaled', df_sc.head(2))"
   ]
  },
  {
   "cell_type": "markdown",
   "metadata": {},
   "source": [
    "## PCA"
   ]
  },
  {
   "cell_type": "code",
   "execution_count": null,
   "metadata": {},
   "outputs": [],
   "source": [
    "plotX = df_sc.copy()\n",
    "\n",
    "pca = PCA(n_components='mle', random_state=seed)\n",
    "principalComponents = pca.fit_transform(plotX)\n",
    "PCA_components = pd.DataFrame(principalComponents, index=plotX.index)"
   ]
  },
  {
   "cell_type": "code",
   "execution_count": null,
   "metadata": {},
   "outputs": [],
   "source": [
    "# Plot the explained variances\n",
    "features = range(pca.n_components_)\n",
    "\n",
    "fig,ax = plt.subplots(1,4, figsize=(16,4))\n",
    "\n",
    "ax[0].bar(features, pca.explained_variance_ratio_, color='black')\n",
    "ax[0].set(xlabel='PCA features')\n",
    "ax[0].set(ylabel='variance %')\n",
    "ax[0].set(xticks=features)\n",
    "\n",
    "ax[1].scatter(PCA_components[0], PCA_components[1], alpha=.1, color='black')\n",
    "ax[1].set(xlabel='PCA1')\n",
    "ax[1].set(ylabel='PCA2')\n",
    "ax[1].set(title='PCA')\n",
    "\n",
    "ax[2].scatter(PCA_components[1], PCA_components[2], alpha=.1, color='black')\n",
    "ax[2].set(xlabel='PCA2')\n",
    "ax[2].set(ylabel='PCA3')\n",
    "\n",
    "ax[3].scatter(PCA_components[0], PCA_components[2], alpha=.1, color='black')\n",
    "ax[3].set(xlabel='PCA1')\n",
    "ax[3].set(ylabel='PCA3')\n",
    "\n",
    "plt.show()"
   ]
  },
  {
   "cell_type": "markdown",
   "metadata": {},
   "source": [
    "## KMeans\n",
    "\n",
    "Алгоритм KMeans группирует данные, пытаясь разделить выборки на n групп с равной дисперсией, минимизируя критерий, известный как **инерция** или внутрикластерная сумма квадратов:\n",
    "\n",
    "$$\\sum_{i=0}^{n}\\min_{\\mu_j \\in C}(||x_i - \\mu_j||^2)$$"
   ]
  },
  {
   "cell_type": "code",
   "execution_count": null,
   "metadata": {},
   "outputs": [],
   "source": [
    "def elbow_check(df_km):\n",
    "    ks = range(1, 10)\n",
    "    inertias = []\n",
    "    for k in ks:\n",
    "        model = KMeans(n_clusters=k)\n",
    "        model.fit(df_km.iloc[:, :3])\n",
    "        inertias.append(model.inertia_)\n",
    "\n",
    "    plt.plot(ks, inertias, '-o', color='black')\n",
    "    plt.title('inertia - sum dist^2 of centroid to samples')\n",
    "    plt.xlabel('number of clusters, k')\n",
    "    plt.ylabel('inertia')\n",
    "    plt.xticks(ks)\n",
    "    plt.show()"
   ]
  },
  {
   "cell_type": "code",
   "execution_count": null,
   "metadata": {},
   "outputs": [],
   "source": [
    "elbow_check(PCA_components)"
   ]
  },
  {
   "cell_type": "code",
   "execution_count": null,
   "metadata": {},
   "outputs": [],
   "source": [
    "def plot_clusters(cluster_name, cluster_cases, df_comp, dims=2):\n",
    "    fig,ax = plt.subplots(1, len(cluster_cases), figsize=(16,4))\n",
    "\n",
    "    for c, clusters in enumerate(cluster_cases):\n",
    "        model = KMeans(n_clusters=clusters)\n",
    "        df_comp2 = df_comp.copy()\n",
    "        m = model.fit(df_comp2)\n",
    "        df_comp2.insert(0, 'cluster', m.labels_)\n",
    "\n",
    "        datas = []\n",
    "        for i in range(clusters): \n",
    "            tup = []\n",
    "            for j in range(dims):  ## should be cluster dims? pca dims?\n",
    "                tup.append(df_comp2[df_comp2['cluster'] == i][j])\n",
    "            datas.append(tup)\n",
    "\n",
    "        groups = [cluster_name+str(i) for i in range(clusters)]\n",
    "        colors = ('green','red','blue','yellow','purple','brown')\n",
    "\n",
    "        for data,color,group in zip(datas,colors,groups):\n",
    "            x,y = data[0],data[1]\n",
    "            ax[c].scatter(x, y, alpha=0.5, c=color, edgecolors='none', s=100, label=group)\n",
    "            ax[c].set_title(f'{cluster_name} Kmeans {clusters} clusters')\n",
    "            ax[c].set(xlabel=cluster_name+'1')\n",
    "            ax[c].set(ylabel=cluster_name+'2')\n",
    "    plt.show()"
   ]
  },
  {
   "cell_type": "code",
   "execution_count": null,
   "metadata": {},
   "outputs": [],
   "source": [
    "cluster_cases = [2, 3, 4, 5, 6]\n",
    "\n",
    "plot_clusters('PCA', cluster_cases, PCA_components)"
   ]
  },
  {
   "cell_type": "code",
   "execution_count": null,
   "metadata": {},
   "outputs": [],
   "source": [
    "def plot_big(clustering_name, reducer_name, model, df_comp, dims=2, countries=30):\n",
    "    df_comp2 = df_comp.copy()\n",
    "    fig, ax = plt.subplots(figsize=(16, 12))\n",
    "\n",
    "    m = model.fit(df_comp2)  # first 3 cols, or dims\n",
    "    df_comp2.insert(0, 'cluster', m.labels_)\n",
    "    \n",
    "    datas = []\n",
    "    for i in range(len(set(m.labels_))):\n",
    "        tup = []\n",
    "        for j in range(dims):\n",
    "            tup.append(df_comp2[df_comp2['cluster']==i][j])\n",
    "        datas.append(tup)\n",
    "\n",
    "    groups = [clustering_name+str(i) for i in range(len(set(m.labels_)))]\n",
    "    colors = ('green','red','yellow','cyan','purple','brown')\n",
    "\n",
    "    for data,color,group in zip(datas,colors,groups):\n",
    "        x,y = data[0],data[1]\n",
    "        ax.scatter(x, y, alpha=0.5, c=color, edgecolors='none', s=500, label=group)\n",
    "        ax.set_title(f'{reducer_name} {clustering_name} {len(set(m.labels_))} clusters')\n",
    "        ax.set(xlabel=f'{reducer_name}1')\n",
    "        ax.set(ylabel=f'{reducer_name}2')\n",
    "\n",
    "    for index,row in df_comp2[df_comp2.index.isin(['United Kingdom','Belgium','Canada', 'France', 'Germany', 'Italy', 'Netherlands', 'Sweden', 'Switzerland','Canada','Japan','United States','China','Australia','Singapore','South Africa','Belarus','Brazil','Russia','India','Poland'])].iterrows():\n",
    "        ax.annotate(index, (row[0], row[1]))\n",
    "    for index,row in df_comp2.sample(countries).iterrows():\n",
    "        ax.annotate(index, (row[0], row[1]))\n",
    "\n",
    "    plt.legend(loc=1)\n",
    "    plt.show()"
   ]
  },
  {
   "cell_type": "code",
   "execution_count": null,
   "metadata": {},
   "outputs": [],
   "source": [
    "model = KMeans(n_clusters=6, random_state=seed)\n",
    "plot_big('KMeans','PCA', model, PCA_components, countries=50)"
   ]
  },
  {
   "cell_type": "markdown",
   "metadata": {
    "tags": []
   },
   "source": [
    "## t-SNE Method (T-Distributed Stochastic Neighbor Embedding)"
   ]
  },
  {
   "cell_type": "code",
   "execution_count": null,
   "metadata": {},
   "outputs": [],
   "source": [
    "plotX = df_sc.copy()\n",
    "ps = np.linspace(10, 90, 9).astype(int)\n",
    "\n",
    "fig,ax = plt.subplots(3, 3, figsize=(12,10))\n",
    "plt.subplots_adjust(hspace=.5)\n",
    "\n",
    "for i, perplexity in enumerate(ps):\n",
    "    tsne = TSNE(n_components=2, perplexity=perplexity)\n",
    "    tsneComponents = tsne.fit_transform(plotX)\n",
    "    TSNE_components = pd.DataFrame(tsneComponents, index=plotX.index)\n",
    "\n",
    "    ax[i%3][math.floor(i/3)].set_title(f'perplexity {perplexity}')\n",
    "    ax[i%3][math.floor(i/3)].scatter(TSNE_components[0], TSNE_components[1], alpha=.2, color='black')\n",
    "    ax[i%3][math.floor(i/3)].set(xlabel='TSNE1')\n",
    "    ax[i%3][math.floor(i/3)].set(ylabel='TSNE2')"
   ]
  },
  {
   "cell_type": "markdown",
   "metadata": {},
   "source": [
    "## Fixing TSNE HyperParams (Perplexity and Comps)"
   ]
  },
  {
   "cell_type": "code",
   "execution_count": null,
   "metadata": {},
   "outputs": [],
   "source": [
    "tsne = TSNE(n_components=2, perplexity=20, early_exaggeration=10, random_state=seed)\n",
    "tsneComponents = tsne.fit_transform(plotX)\n",
    "TSNE_components = pd.DataFrame(tsneComponents, index=plotX.index)\n",
    "TSNE_components.head()"
   ]
  },
  {
   "cell_type": "markdown",
   "metadata": {},
   "source": [
    "## KMeans w/ TSNE"
   ]
  },
  {
   "cell_type": "code",
   "execution_count": null,
   "metadata": {},
   "outputs": [],
   "source": [
    "elbow_check(TSNE_components)"
   ]
  },
  {
   "cell_type": "markdown",
   "metadata": {},
   "source": [
    "## KMeans on TSNE - Zoom with Labels"
   ]
  },
  {
   "cell_type": "code",
   "execution_count": null,
   "metadata": {},
   "outputs": [],
   "source": [
    "model = KMeans(n_clusters=6, random_state=seed)            \n",
    "plot_big('KMeans','TSNE', model, TSNE_components, countries=100)"
   ]
  },
  {
   "cell_type": "markdown",
   "metadata": {},
   "source": [
    "## DBScan on TSNE Cluster Analysis"
   ]
  },
  {
   "cell_type": "code",
   "execution_count": null,
   "metadata": {},
   "outputs": [],
   "source": [
    "samp_list = [2, 3, 4]\n",
    "eps_list = [0.8, 1.0, 1.25, 1.5, 1.75]\n",
    "rows = len(samp_list)\n",
    "\n",
    "fig, ax = plt.subplots(len(samp_list), len(eps_list), figsize=(18, 10))\n",
    "\n",
    "for k, (eps, samp) in enumerate(product(eps_list, samp_list)):\n",
    "    ax[k%rows][floor(k/rows)].tick_params(axis='both',which='both',bottom=False,top=False,left=False,labelbottom=False) \n",
    "\n",
    "    # fit t-SNE\n",
    "    TSNE_df = TSNE_components.copy()\n",
    "    clustering = DBSCAN(eps=eps, min_samples=samp).fit(TSNE_df)\n",
    "    TSNE_df.insert(0, 'cluster', clustering.labels_)\n",
    "\n",
    "    # plot predict\n",
    "    datas = [[TSNE_df[TSNE_df['cluster']==i][j] for j in range(2)] for i in range(len(set(clustering.labels_)))]\n",
    "    colors = ('green','red','blue','yellow','purple','brown','orange','purple')\n",
    "    groups = [str(i) for i in range(len(set(clustering.labels_)))]\n",
    "\n",
    "    for data,color,group in zip(datas,colors,groups):\n",
    "        ax[k%rows][floor(k/rows)].scatter(data[0],data[1], alpha=0.5, c=color, edgecolors='none', s=100, label=group)\n",
    "        ax[k%rows][floor(k/rows)].set_title(f'DBS eps:{eps}, samp:{samp}')"
   ]
  },
  {
   "cell_type": "code",
   "execution_count": null,
   "metadata": {},
   "outputs": [],
   "source": [
    "TSNE_df = TSNE_components.copy()\n",
    "clustering = DBSCAN(eps=1.75, min_samples=4).fit(TSNE_df)\n",
    "plot_big('DBScan','TSNE', clustering, TSNE_df, countries=100)"
   ]
  },
  {
   "cell_type": "markdown",
   "metadata": {},
   "source": [
    "# Оценка важности признаков \n",
    "\n",
    "\n",
    "![pipeline](pipeline.png)"
   ]
  },
  {
   "cell_type": "code",
   "execution_count": null,
   "metadata": {},
   "outputs": [],
   "source": [
    "# обучите модель понижения размерности\n",
    "\n",
    "# Ваш код ..."
   ]
  },
  {
   "cell_type": "code",
   "execution_count": null,
   "metadata": {},
   "outputs": [],
   "source": [
    "# сделайте кластеризацию\n",
    "\n",
    "# Ваш код ..."
   ]
  },
  {
   "cell_type": "markdown",
   "metadata": {
    "tags": []
   },
   "source": [
    "### Feature importance"
   ]
  },
  {
   "cell_type": "code",
   "execution_count": null,
   "metadata": {},
   "outputs": [],
   "source": [
    "# обучите модель классификации\n",
    "\n",
    "# Ваш код ..."
   ]
  },
  {
   "cell_type": "code",
   "execution_count": null,
   "metadata": {},
   "outputs": [],
   "source": [
    "# нарисуйте важность признаков\n",
    "\n",
    "# Ваш код ..."
   ]
  },
  {
   "cell_type": "code",
   "execution_count": null,
   "metadata": {},
   "outputs": [],
   "source": []
  }
 ],
 "metadata": {
  "hide_input": false,
  "kernelspec": {
   "display_name": "Python 3 (ipykernel)",
   "language": "python",
   "name": "python3"
  },
  "language_info": {
   "codemirror_mode": {
    "name": "ipython",
    "version": 3
   },
   "file_extension": ".py",
   "mimetype": "text/x-python",
   "name": "python",
   "nbconvert_exporter": "python",
   "pygments_lexer": "ipython3",
   "version": "3.8.10"
  },
  "latex_envs": {
   "LaTeX_envs_menu_present": true,
   "autoclose": false,
   "autocomplete": true,
   "bibliofile": "biblio.bib",
   "cite_by": "apalike",
   "current_citInitial": 1,
   "eqLabelWithNumbers": true,
   "eqNumInitial": 1,
   "hotkeys": {
    "equation": "Ctrl-E",
    "itemize": "Ctrl-I"
   },
   "labels_anchors": false,
   "latex_user_defs": false,
   "report_style_numbering": false,
   "user_envs_cfg": false
  },
  "toc": {
   "base_numbering": 1,
   "nav_menu": {},
   "number_sections": true,
   "sideBar": true,
   "skip_h1_title": false,
   "title_cell": "Table of Contents",
   "title_sidebar": "Contents",
   "toc_cell": false,
   "toc_position": {},
   "toc_section_display": true,
   "toc_window_display": true
  },
  "varInspector": {
   "cols": {
    "lenName": 16,
    "lenType": 16,
    "lenVar": 40
   },
   "kernels_config": {
    "python": {
     "delete_cmd_postfix": "",
     "delete_cmd_prefix": "del ",
     "library": "var_list.py",
     "varRefreshCmd": "print(var_dic_list())"
    },
    "r": {
     "delete_cmd_postfix": ") ",
     "delete_cmd_prefix": "rm(",
     "library": "var_list.r",
     "varRefreshCmd": "cat(var_dic_list()) "
    }
   },
   "types_to_exclude": [
    "module",
    "function",
    "builtin_function_or_method",
    "instance",
    "_Feature"
   ],
   "window_display": false
  }
 },
 "nbformat": 4,
 "nbformat_minor": 4
}
