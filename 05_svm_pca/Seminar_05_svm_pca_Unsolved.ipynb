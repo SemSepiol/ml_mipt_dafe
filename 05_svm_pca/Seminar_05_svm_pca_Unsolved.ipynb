{
 "cells": [
  {
   "cell_type": "markdown",
   "metadata": {
    "id": "gQoXbOUMkm_I"
   },
   "source": [
    "# Семинар 5. SVM. PCA"
   ]
  },
  {
   "cell_type": "markdown",
   "metadata": {
    "id": "kRtH56rmiHjQ"
   },
   "source": [
    "# <center> Метод главных компонент"
   ]
  },
  {
   "cell_type": "markdown",
   "metadata": {
    "id": "9YJme3uxiHjR"
   },
   "source": [
    "Постановки задачи метода главных компонент:\n",
    "1. Выбор k наиболее дисперстных направлений.\n",
    "2. Построить такое ортогональное преобразование координат, что в результате корреляции между отдельными координатами обратятся в ноль. Таким образом, задача сводится к диагонализации матрицы ковариаций, что эквивалентно нахождению сингулярного разложения матрицы исходных данных.\n",
    "3. Нахождение такой $k$-мерной плоскости в $d$-мерном признаковом пространстве, что ошибка проецирования объектов на нее будет минимальной. Направляющие векторы этой плоскости и будут первыми $k$ главными компонентами."
   ]
  },
  {
   "cell_type": "markdown",
   "metadata": {
    "id": "poJuPdW8iHjR"
   },
   "source": [
    "![](img/most_important.jpg)"
   ]
  },
  {
   "cell_type": "markdown",
   "metadata": {
    "id": "C-6UVEXXiHjS"
   },
   "source": [
    "Решаемые задачи:\n",
    "1. Снижение размерности.\n",
    "2. Визуализация.\n",
    "3. Оценка плотности распределения данных.   "
   ]
  },
  {
   "cell_type": "markdown",
   "metadata": {
    "id": "_vcmgvwziHjS"
   },
   "source": [
    "### Интуиция метода"
   ]
  },
  {
   "cell_type": "markdown",
   "metadata": {
    "id": "9yzRB8_2iHjT"
   },
   "source": [
    "Рассмотрим двухмерный пример, где вместо двух признаков можно завести их линейную комбинацию.\n",
    "\n",
    "Для \"хорошего\" направления сумма расстояний до выбранной прямой (гиперплоскости) минимальна. Слева показано \"хорошее\" направление, справа – \"плохое\" - не можем различать признаки."
   ]
  },
  {
   "cell_type": "markdown",
   "metadata": {
    "id": "tHlLIrXuiHjT"
   },
   "source": [
    "![](img/pca_good_bad_direction.png)"
   ]
  },
  {
   "cell_type": "markdown",
   "metadata": {
    "id": "_RF4nxLJiHjU"
   },
   "source": [
    "### Сравнение с линейной регрессией"
   ]
  },
  {
   "cell_type": "markdown",
   "metadata": {
    "id": "iLCZYne1iHjV"
   },
   "source": [
    "Отличие от линейной регрессии существенное, т.к в LR мы работаем с признаками и лейблами (MSE считаем по оси y)."
   ]
  },
  {
   "cell_type": "markdown",
   "metadata": {
    "id": "x-zkF9L_iHjV"
   },
   "source": [
    "![](img/linear_reg.png)"
   ]
  },
  {
   "cell_type": "markdown",
   "metadata": {
    "id": "SqYAfGFdiHjV"
   },
   "source": [
    "При хорошем проецировании дисперсия должна сохраняться."
   ]
  },
  {
   "cell_type": "markdown",
   "metadata": {
    "id": "DLbvFgjGiHjW"
   },
   "source": [
    "# <center> Построение оптимального базиса:"
   ]
  },
  {
   "cell_type": "markdown",
   "metadata": {
    "id": "9st4P3YTiHjW"
   },
   "source": [
    "PCA строит оптимальный базис, а не выбирает базисные вектора (признаки)."
   ]
  },
  {
   "cell_type": "markdown",
   "metadata": {
    "id": "79zDADZviHjW"
   },
   "source": [
    "### Алгоритм PCA\n",
    "1. Определить $k<n$ – новую размерность\n",
    "2. Произвести нормировку = Вычесть из $X$ среднее, то есть заменить все $x^{(i)}$  на $ x^{(i)} - \\frac{1}{m} \\sum_{i=1}^{m}{x^{(i)}}$\n",
    "3. Привести данные к единичной дисперсии: посчитать $\\sigma_j^2 = \\frac{1}{m} \\sum_{i=1}^{m}{(x^{(i)})^2}$\n",
    "и заменить $\\Large x_j^{(i)}$ на $\\Large \\frac{x_j^{(i)}}{\\sigma_j}$ \n",
    "4. Найти сингулярное разложение матрицы $X$:\n",
    "$X = UDV^T$\n",
    "5. Положить $V =$ [$k$ левых столбцов матрицы $V$]\n",
    "6. Вернуть новую матрицу $Z = XV \\in \\mathbb{R}^{m \\times k}$"
   ]
  },
  {
   "cell_type": "markdown",
   "metadata": {
    "id": "ghLMUqV0iHjX"
   },
   "source": [
    "### Двухмерный пример\n",
    "\n",
    "Чтобы понять геометрический смысл главных компонент, рассмотрим в качестве примера выборку из двухмерного нормального распределения с явно выраженным \"главным\" направлением. Выделим в ней главные компоненты и посмотрим, какую долю дисперсии объясняет каждая из них."
   ]
  },
  {
   "cell_type": "code",
   "execution_count": null,
   "metadata": {
    "executionInfo": {
     "elapsed": 660,
     "status": "ok",
     "timestamp": 1658767517264,
     "user": {
      "displayName": "Никита Гришин",
      "userId": "00970267534020248746"
     },
     "user_tz": -180
    },
    "id": "JiqfKZGiiHjX"
   },
   "outputs": [],
   "source": [
    "import numpy as np\n",
    "%matplotlib inline\n",
    "import matplotlib.pyplot as plt\n",
    "from sklearn.decomposition import PCA\n",
    "\n",
    "# fancy progress bar\n",
    "from tqdm.auto import tqdm"
   ]
  },
  {
   "cell_type": "code",
   "execution_count": null,
   "metadata": {
    "colab": {
     "base_uri": "https://localhost:8080/",
     "height": 766
    },
    "executionInfo": {
     "elapsed": 9,
     "status": "ok",
     "timestamp": 1633448349805,
     "user": {
      "displayName": "Даниил Русланович Махоткин",
      "photoUrl": "https://lh3.googleusercontent.com/a/default-user=s64",
      "userId": "18336248573599285046"
     },
     "user_tz": -180
    },
    "id": "pr_0edvwiHjY",
    "outputId": "5dca3b6e-8ad9-4ce6-9495-43a7ef92fe01"
   },
   "outputs": [],
   "source": [
    "np.random.seed(0)\n",
    "mean = np.array([0.0, 0.0])\n",
    "cov = np.array([[1.0, -1.0], \n",
    "                [-2.0, 3.0]])\n",
    "X = np.random.multivariate_normal(mean, cov, 300)\n",
    "\n",
    "pca = PCA()\n",
    "pca.fit(X)\n",
    "print('Proportion of variance explained by each component:\\n' +\\\n",
    "      '1st component - %.2f,\\n2nd component - %.2f\\n' %\n",
    "      tuple(pca.explained_variance_ratio_))\n",
    "print('Directions of principal components:\\n' +\\\n",
    "      '1st component:', pca.components_[0],\n",
    "      '\\n2nd component:', pca.components_[1])\n",
    "\n",
    "plt.figure(figsize=(10,10))\n",
    "plt.scatter(X[:, 0], X[:, 1], s=50, c='r')\n",
    "for l, v in zip(pca.explained_variance_ratio_, pca.components_):\n",
    "    d = 5 * np.sqrt(l) * v\n",
    "    plt.plot([0, d[0]], [0, d[1]], '-k', lw=3)\n",
    "plt.axis('equal')\n",
    "plt.title('2D normal distribution sample and its principal components')\n",
    "plt.show()"
   ]
  },
  {
   "cell_type": "markdown",
   "metadata": {
    "id": "jorcPf-yiHjZ"
   },
   "source": [
    "Первая главная компонента (ей соответствует более длинный вектор) объясняет более 90% дисперсии исходных данных. Это говорит о том, что она содержит в себе почти всю информацию о расположении выборки в пространстве, и вторая компонента может быть опущена. Спроецируем данные на первую компоненту."
   ]
  },
  {
   "cell_type": "code",
   "execution_count": null,
   "metadata": {
    "colab": {
     "base_uri": "https://localhost:8080/",
     "height": 610
    },
    "executionInfo": {
     "elapsed": 425,
     "status": "ok",
     "timestamp": 1633448350226,
     "user": {
      "displayName": "Даниил Русланович Махоткин",
      "photoUrl": "https://lh3.googleusercontent.com/a/default-user=s64",
      "userId": "18336248573599285046"
     },
     "user_tz": -180
    },
    "id": "LFkJWCutiHja",
    "outputId": "350c7dd7-d056-4790-f091-be3a72865a27"
   },
   "outputs": [],
   "source": [
    "# Keep enough components to explain 90% of variance\n",
    "pca = PCA(0.90)\n",
    "X_reduced = pca.fit_transform(X)\n",
    "\n",
    "# Map the reduced data into the initial feature space\n",
    "X_new = pca.inverse_transform(X_reduced)\n",
    "\n",
    "plt.figure(figsize=(10,10))\n",
    "plt.plot(X[:, 0], X[:, 1], 'or', alpha=0.3)\n",
    "plt.plot(X_new[:, 0], X_new[:, 1], 'or', alpha=0.8)\n",
    "plt.axis('equal')\n",
    "plt.title('Projection of sample onto the 1st principal component')\n",
    "plt.show()"
   ]
  },
  {
   "cell_type": "markdown",
   "metadata": {
    "id": "jn1kIghOiHja"
   },
   "source": [
    "Мы понизили размерность данных вдвое, при этом сохранив наиболее значимые черты. В этом заключается основной принцип понижения размерности – приблизить многомерный набор данных с помощью данных меньшей размерности, сохранив при этом как можно больше информации об исходных данных."
   ]
  },
  {
   "cell_type": "markdown",
   "metadata": {
    "id": "B1yUu1g1iHja"
   },
   "source": [
    "### Визуализация многомерных данных\n",
    "\n",
    "Одним из применений метода главных компонент является визуализации многомерных данных в двухмерном (или трехмерном) пространстве. Для этого необходимо взять первые две главных компоненты и спроецировать данные на них. При этом, если признаки имеют различную природу, их следует отмасштабировать. Основные способы масштабирования:\n",
    "- На единичную дисперсию по осям (масштабы по осям равны средним квадратичным отклонениям — после этого преобразования ковариационная матрица совпадает с матрицей коэффициентов корреляции).\n",
    "- На равную точность измерения (масштаб по оси пропорционален точности измерения данной величины).\n",
    "- На равные требования в задаче (масштаб по оси определяется требуемой точностью прогноза данной величины или допустимым её искажением — уровнем толерантности). "
   ]
  },
  {
   "cell_type": "markdown",
   "metadata": {
    "id": "I14t8cSniHja"
   },
   "source": [
    "Рассмотрим применение метода главных компонент для визуализации данных из набора изображений рукописных цифр."
   ]
  },
  {
   "cell_type": "code",
   "execution_count": null,
   "metadata": {},
   "outputs": [],
   "source": [
    "from sklearn.datasets import load_digits"
   ]
  },
  {
   "cell_type": "code",
   "execution_count": null,
   "metadata": {
    "colab": {
     "base_uri": "https://localhost:8080/",
     "height": 615
    },
    "executionInfo": {
     "elapsed": 1199,
     "status": "ok",
     "timestamp": 1633448351423,
     "user": {
      "displayName": "Даниил Русланович Махоткин",
      "photoUrl": "https://lh3.googleusercontent.com/a/default-user=s64",
      "userId": "18336248573599285046"
     },
     "user_tz": -180
    },
    "id": "QwFYzU8BiHjb",
    "outputId": "999b2f9d-3871-434d-aea7-2ce80074ce68"
   },
   "outputs": [],
   "source": [
    "digits = load_digits()\n",
    "X = digits.data\n",
    "y = digits.target\n",
    "\n",
    "pca = PCA(n_components=2)\n",
    "X_reduced = pca.fit_transform(X)\n",
    "\n",
    "print('Projecting %d-dimensional data to 2D' % X.shape[1])\n",
    "\n",
    "plt.figure(figsize=(12,10))\n",
    "plt.scatter(X_reduced[:, 0], X_reduced[:, 1], c=y, \n",
    "            edgecolor='none', alpha=0.7, s=40,\n",
    "            cmap=plt.cm.get_cmap('nipy_spectral', 10))\n",
    "plt.colorbar()\n",
    "plt.show()"
   ]
  },
  {
   "cell_type": "markdown",
   "metadata": {
    "id": "RA8VC32piHjb"
   },
   "source": [
    "Полученная картинка позволяет увидеть зависимости между различными цифрами. Например, цифры 0 и 6 располагаются в соседних кластерах, что говорит об их схожем написании. Наиболее \"разбросанный\" (по другим кластерам) – это кластер, соответствующий цифре 8, что говорит о том, что она имеет много различных написаний, делающих её схожей со многими другими цифрами.\n",
    "\n",
    "Посмотрим, как выглядят первые две главные компоненты."
   ]
  },
  {
   "cell_type": "code",
   "execution_count": null,
   "metadata": {
    "colab": {
     "base_uri": "https://localhost:8080/",
     "height": 199
    },
    "executionInfo": {
     "elapsed": 6,
     "status": "ok",
     "timestamp": 1633448351424,
     "user": {
      "displayName": "Даниил Русланович Махоткин",
      "photoUrl": "https://lh3.googleusercontent.com/a/default-user=s64",
      "userId": "18336248573599285046"
     },
     "user_tz": -180
    },
    "id": "EKU3ZZ9aiHjb",
    "outputId": "3b783b44-6e4b-4830-d56e-1000130aa083"
   },
   "outputs": [],
   "source": [
    "f, (ax1, ax2) = plt.subplots(1, 2, sharey=True)\n",
    "\n",
    "im = pca.components_[0]\n",
    "ax1.imshow(im.reshape((8, 8)), cmap='binary')\n",
    "ax1.set_xticks([])\n",
    "ax1.set_yticks([])\n",
    "ax1.set_title('First principal component')\n",
    "\n",
    "im = pca.components_[1]\n",
    "ax2.imshow(im.reshape((8, 8)), cmap='binary')\n",
    "ax2.set_xticks([])\n",
    "ax2.set_yticks([])\n",
    "ax2.set_title('Second principal component')\n",
    "plt.show()"
   ]
  },
  {
   "cell_type": "markdown",
   "metadata": {
    "id": "cyV0o8oOiHjb"
   },
   "source": [
    "### Сжатие данных\n",
    "\n",
    "Другим применением PCA является снижение размерности данных для их сжатия. Рассмотрим, как влияет число отбираемых главных компонент (на которые осуществляется проекция) на качество восстановления исходного изображения."
   ]
  },
  {
   "cell_type": "code",
   "execution_count": null,
   "metadata": {
    "colab": {
     "base_uri": "https://localhost:8080/",
     "height": 714
    },
    "executionInfo": {
     "elapsed": 4622,
     "status": "ok",
     "timestamp": 1633448356041,
     "user": {
      "displayName": "Даниил Русланович Махоткин",
      "photoUrl": "https://lh3.googleusercontent.com/a/default-user=s64",
      "userId": "18336248573599285046"
     },
     "user_tz": -180
    },
    "id": "CMhfsRkAiHjc",
    "outputId": "355167dd-e740-45e2-b178-a1c851f8e6d6"
   },
   "outputs": [],
   "source": [
    "plt.figure(figsize=(4,2))\n",
    "plt.imshow(X[15].reshape((8, 8)), cmap='binary')\n",
    "plt.xticks([])\n",
    "plt.yticks([])\n",
    "plt.title('Source image')\n",
    "plt.show()\n",
    "\n",
    "fig, axes = plt.subplots(8, 8, figsize=(10, 10))\n",
    "fig.subplots_adjust(hspace=0.1, wspace=0.1)\n",
    "\n",
    "for i, ax in enumerate(axes.flat):\n",
    "    pca = PCA(i + 1).fit(X)\n",
    "    im = pca.inverse_transform(pca.transform(X[15].reshape(1, -1)))\n",
    "\n",
    "    ax.imshow(im.reshape((8, 8)), cmap='binary')\n",
    "    ax.text(0.95, 0.05, 'n = {0}'.format(i + 1), ha='right',\n",
    "            transform=ax.transAxes, color='red')\n",
    "    ax.set_xticks([])\n",
    "    ax.set_yticks([])"
   ]
  },
  {
   "cell_type": "markdown",
   "metadata": {
    "id": "TVuzpwMhiHjc"
   },
   "source": [
    "Как понять, какое число главных компонент достаточно оставить? Для этого может оказаться полезным следующий график, выражающий зависимость общей доли объясняемой дисперсии от числа главных компонент."
   ]
  },
  {
   "cell_type": "code",
   "execution_count": null,
   "metadata": {
    "colab": {
     "base_uri": "https://localhost:8080/",
     "height": 448
    },
    "executionInfo": {
     "elapsed": 432,
     "status": "ok",
     "timestamp": 1633448356470,
     "user": {
      "displayName": "Даниил Русланович Махоткин",
      "photoUrl": "https://lh3.googleusercontent.com/a/default-user=s64",
      "userId": "18336248573599285046"
     },
     "user_tz": -180
    },
    "id": "U353BYdhiHjc",
    "outputId": "c50851ba-34e7-44e1-af79-2d5fd4e70c82"
   },
   "outputs": [],
   "source": [
    "pca = PCA().fit(X)\n",
    "\n",
    "\n",
    "plt.figure(figsize=(10,7))\n",
    "plt.plot(np.cumsum(pca.explained_variance_ratio_), color='k', lw=2)\n",
    "plt.xlabel('Number of components')\n",
    "plt.ylabel('Total explained variance')\n",
    "plt.xlim(0, 63)\n",
    "plt.yticks(np.arange(0, 1.1, 0.1))\n",
    "plt.axvline(21, c='b')\n",
    "plt.axhline(0.9, c='r')\n",
    "plt.show()"
   ]
  },
  {
   "cell_type": "code",
   "execution_count": null,
   "metadata": {
    "colab": {
     "base_uri": "https://localhost:8080/"
    },
    "executionInfo": {
     "elapsed": 7,
     "status": "ok",
     "timestamp": 1633448356470,
     "user": {
      "displayName": "Даниил Русланович Махоткин",
      "photoUrl": "https://lh3.googleusercontent.com/a/default-user=s64",
      "userId": "18336248573599285046"
     },
     "user_tz": -180
    },
    "id": "G8dYLgAXiHjc",
    "outputId": "b4728f60-2cc7-4e6c-ea54-53e898e7ab9f"
   },
   "outputs": [],
   "source": [
    "pca = PCA(0.9).fit(X)\n",
    "\n",
    "print('We need %d components to explain 90%% of variance' \n",
    "      % pca.n_components_)"
   ]
  },
  {
   "cell_type": "markdown",
   "metadata": {
    "id": "GAbtqtsNiHjd"
   },
   "source": [
    "### Предобработка данных"
   ]
  },
  {
   "cell_type": "markdown",
   "metadata": {
    "id": "-mfrafAciHjd"
   },
   "source": [
    "Метод главных компонент часто используется для предварительной обработки данных перед обучением классификатора. В качестве примера такого применения рассмотрим задачу о распознавании лиц. \n",
    "\n",
    "Для начала посмотрим на исходные данные."
   ]
  },
  {
   "cell_type": "code",
   "execution_count": null,
   "metadata": {},
   "outputs": [],
   "source": [
    "from sklearn import datasets\n",
    "from sklearn.model_selection import train_test_split"
   ]
  },
  {
   "cell_type": "code",
   "execution_count": null,
   "metadata": {
    "colab": {
     "base_uri": "https://localhost:8080/"
    },
    "executionInfo": {
     "elapsed": 300,
     "status": "ok",
     "timestamp": 1633448356767,
     "user": {
      "displayName": "Даниил Русланович Махоткин",
      "photoUrl": "https://lh3.googleusercontent.com/a/default-user=s64",
      "userId": "18336248573599285046"
     },
     "user_tz": -180
    },
    "id": "ErRfv--riHjd",
    "outputId": "ae3a82cf-f855-4bda-f898-4139225ec51d"
   },
   "outputs": [],
   "source": [
    "%%time\n",
    "lfw_people = datasets.fetch_lfw_people(min_faces_per_person=50, \n",
    "                resize=0.4, data_home='data/faces')\n",
    "\n",
    "print('%d objects, %d features, %d classes' % (lfw_people.data.shape[0],\n",
    "      lfw_people.data.shape[1], len(lfw_people.target_names)))\n",
    "print('\\nPersons:')\n",
    "for name in lfw_people.target_names:\n",
    "    print(name)\n",
    "    "
   ]
  },
  {
   "cell_type": "markdown",
   "metadata": {
    "id": "epixDY65iHjd"
   },
   "source": [
    "Распределение целевого класса:"
   ]
  },
  {
   "cell_type": "code",
   "execution_count": null,
   "metadata": {
    "colab": {
     "base_uri": "https://localhost:8080/"
    },
    "executionInfo": {
     "elapsed": 6,
     "status": "ok",
     "timestamp": 1633448356768,
     "user": {
      "displayName": "Даниил Русланович Махоткин",
      "photoUrl": "https://lh3.googleusercontent.com/a/default-user=s64",
      "userId": "18336248573599285046"
     },
     "user_tz": -180
    },
    "id": "N2H4Za7PiHjd",
    "outputId": "59324a78-b2bf-4bbb-bc0c-6ed55729cd51"
   },
   "outputs": [],
   "source": [
    "for i, name in enumerate(lfw_people.target_names):\n",
    "    print(\"{}: {} photos.\".format(name, (lfw_people.target == i).sum()))"
   ]
  },
  {
   "cell_type": "code",
   "execution_count": null,
   "metadata": {
    "colab": {
     "base_uri": "https://localhost:8080/",
     "height": 357
    },
    "executionInfo": {
     "elapsed": 1250,
     "status": "ok",
     "timestamp": 1633448358015,
     "user": {
      "displayName": "Даниил Русланович Махоткин",
      "photoUrl": "https://lh3.googleusercontent.com/a/default-user=s64",
      "userId": "18336248573599285046"
     },
     "user_tz": -180
    },
    "id": "Dqd_tGpPiHje",
    "outputId": "d3f2d801-0aca-4b4a-ab99-1c95bc429523"
   },
   "outputs": [],
   "source": [
    "fig = plt.figure(figsize=(8, 6))\n",
    "\n",
    "for i in range(15):\n",
    "    ax = fig.add_subplot(3, 5, i + 1, xticks=[], yticks=[])\n",
    "    ax.imshow(lfw_people.images[i], cmap='bone')"
   ]
  },
  {
   "cell_type": "code",
   "execution_count": null,
   "metadata": {
    "colab": {
     "base_uri": "https://localhost:8080/"
    },
    "executionInfo": {
     "elapsed": 6,
     "status": "ok",
     "timestamp": 1633448358015,
     "user": {
      "displayName": "Даниил Русланович Махоткин",
      "photoUrl": "https://lh3.googleusercontent.com/a/default-user=s64",
      "userId": "18336248573599285046"
     },
     "user_tz": -180
    },
    "id": "DoFoyeNCiHje",
    "outputId": "6240a979-5a96-4e3b-f183-d1e6891fbca6"
   },
   "outputs": [],
   "source": [
    "X_train, X_test, y_train, y_test = \\\n",
    "    train_test_split(lfw_people.data, lfw_people.target, random_state=0)\n",
    "\n",
    "print('Train size:', X_train.shape[0], 'Test size:', X_test.shape[0])"
   ]
  },
  {
   "cell_type": "markdown",
   "metadata": {
    "id": "hZasstdXiHje"
   },
   "source": [
    "Вместо обычного PCA воспользуемся его приближенной версией (randomized PCA), которая позволяет существенно ускорить работу алгоритма на больших наборах данных. Выделим 100 главных компонент. Как видно, они объясняют более 90% дисперсии исходных данных."
   ]
  },
  {
   "cell_type": "code",
   "execution_count": null,
   "metadata": {
    "colab": {
     "base_uri": "https://localhost:8080/",
     "height": 469
    },
    "executionInfo": {
     "elapsed": 298,
     "status": "ok",
     "timestamp": 1633448358310,
     "user": {
      "displayName": "Даниил Русланович Махоткин",
      "photoUrl": "https://lh3.googleusercontent.com/a/default-user=s64",
      "userId": "18336248573599285046"
     },
     "user_tz": -180
    },
    "id": "MUNYKLkpiHje",
    "outputId": "2f6e0df3-91b7-4dcb-f7fc-3b614022fae9"
   },
   "outputs": [],
   "source": [
    "pca = PCA(n_components=100, svd_solver='randomized')\n",
    "pca.fit(X_train)\n",
    "\n",
    "\n",
    "print('100 principal components explain %.2f%% of variance' %\n",
    "      (100 * np.cumsum(pca.explained_variance_ratio_)[-1]))\n",
    "plt.figure(figsize=(10,7))\n",
    "plt.plot(np.cumsum(pca.explained_variance_ratio_), lw=2, color='k')\n",
    "plt.xlabel('Number of components')\n",
    "plt.ylabel('Total explained variance')\n",
    "plt.xlim(0, 100)\n",
    "plt.yticks(np.arange(0, 1.1, 0.1))\n",
    "plt.show()"
   ]
  },
  {
   "cell_type": "markdown",
   "metadata": {
    "id": "ge6JYbt7iHjf"
   },
   "source": [
    "Посмотрим на главные компоненты (или главные \"лица\"). Видим, что первые главные компоненты несут в себе информацию в основном об освещении на фотографии, в то время как оставшиеся выделяют какие-то отдельные черты человеческого лица - глаза, брови и другие."
   ]
  },
  {
   "cell_type": "code",
   "execution_count": null,
   "metadata": {
    "colab": {
     "base_uri": "https://localhost:8080/",
     "height": 357
    },
    "executionInfo": {
     "elapsed": 2301,
     "status": "ok",
     "timestamp": 1633448360606,
     "user": {
      "displayName": "Даниил Русланович Махоткин",
      "photoUrl": "https://lh3.googleusercontent.com/a/default-user=s64",
      "userId": "18336248573599285046"
     },
     "user_tz": -180
    },
    "id": "1apT-G3aiHjf",
    "outputId": "439cc82a-2a5d-47cd-ab5a-04742c5c8de3"
   },
   "outputs": [],
   "source": [
    "fig = plt.figure(figsize=(16, 6))\n",
    "for i in range(30):\n",
    "    ax = fig.add_subplot(3, 10, i + 1, xticks=[], yticks=[])\n",
    "    ax.imshow(pca.components_[i].reshape((50, 37)), cmap='bone')"
   ]
  },
  {
   "cell_type": "markdown",
   "metadata": {
    "id": "v2TgyrNLiHjf"
   },
   "source": [
    "PCA позволяет посмотреть на \"среднее\" лицо – тут считается среднее по каждому новому признаку."
   ]
  },
  {
   "cell_type": "code",
   "execution_count": null,
   "metadata": {
    "colab": {
     "base_uri": "https://localhost:8080/",
     "height": 248
    },
    "executionInfo": {
     "elapsed": 16,
     "status": "ok",
     "timestamp": 1633448360608,
     "user": {
      "displayName": "Даниил Русланович Махоткин",
      "photoUrl": "https://lh3.googleusercontent.com/a/default-user=s64",
      "userId": "18336248573599285046"
     },
     "user_tz": -180
    },
    "id": "JzqGhi1QiHjf",
    "outputId": "3a8c9812-7b16-4fc3-ae57-aff5427a9128"
   },
   "outputs": [],
   "source": [
    "plt.imshow(pca.mean_.reshape((50, 37)), cmap='bone')\n",
    "plt.xticks([])\n",
    "plt.yticks([])\n",
    "plt.show()"
   ]
  },
  {
   "cell_type": "markdown",
   "metadata": {
    "id": "zDCtEX9wiHjf"
   },
   "source": [
    "Перейдем теперь непосредственно к классификации. Мы сократили размерность данных (с 1850 признаков до 100), что позволяет существенно ускорить  работу стандартных алгоритмов обучения. Настроим SVM с RBF-ядром и посмотрим на результаты классификации."
   ]
  },
  {
   "cell_type": "code",
   "execution_count": null,
   "metadata": {},
   "outputs": [],
   "source": [
    "from sklearn.linear_model import LogisticRegression"
   ]
  },
  {
   "cell_type": "code",
   "execution_count": null,
   "metadata": {
    "id": "GgMxQxOAi95S"
   },
   "outputs": [],
   "source": [
    "X_train_pca = pca.transform(X_train)\n",
    "X_test_pca = pca.transform(X_test)"
   ]
  },
  {
   "cell_type": "code",
   "execution_count": null,
   "metadata": {
    "colab": {
     "base_uri": "https://localhost:8080/"
    },
    "executionInfo": {
     "elapsed": 4864,
     "status": "ok",
     "timestamp": 1633448366195,
     "user": {
      "displayName": "Даниил Русланович Махоткин",
      "photoUrl": "https://lh3.googleusercontent.com/a/default-user=s64",
      "userId": "18336248573599285046"
     },
     "user_tz": -180
    },
    "id": "9Esg28ZaiHjg",
    "outputId": "394c3c16-afe9-4889-b5f5-ff2b734a23ee"
   },
   "outputs": [],
   "source": [
    "%%time\n",
    "lr = LogisticRegression(solver='liblinear', multi_class='ovr')\n",
    "lr.fit(X_train_pca, y_train)\n",
    "y_pred = lr.predict(X_test_pca)"
   ]
  },
  {
   "cell_type": "code",
   "execution_count": null,
   "metadata": {},
   "outputs": [],
   "source": [
    "from sklearn.metrics import confusion_matrix, accuracy_score, classification_report"
   ]
  },
  {
   "cell_type": "code",
   "execution_count": null,
   "metadata": {
    "colab": {
     "base_uri": "https://localhost:8080/",
     "height": 969
    },
    "executionInfo": {
     "elapsed": 765,
     "status": "ok",
     "timestamp": 1633448366958,
     "user": {
      "displayName": "Даниил Русланович Махоткин",
      "photoUrl": "https://lh3.googleusercontent.com/a/default-user=s64",
      "userId": "18336248573599285046"
     },
     "user_tz": -180
    },
    "id": "3b9xTQ4xiHjg",
    "outputId": "320b5b5d-40b8-43e3-973f-a6720c363d7d"
   },
   "outputs": [],
   "source": [
    "print(\"Accuracy: %f\" % accuracy_score(y_test, y_pred))\n",
    "print(classification_report(y_test, y_pred, target_names=lfw_people.target_names))\n",
    "\n",
    "\n",
    "M = confusion_matrix(y_test, y_pred)\n",
    "M_normalized = M.astype('float') / M.sum(axis=1)[:, np.newaxis]\n",
    "\n",
    "\n",
    "plt.figure(figsize=(10,10))\n",
    "im = plt.imshow(M_normalized, interpolation='nearest', cmap='Greens')\n",
    "plt.colorbar(im, shrink=0.71)\n",
    "tick_marks = np.arange(len(lfw_people.target_names))\n",
    "plt.xticks(tick_marks - 0.5, lfw_people.target_names, rotation=45)\n",
    "plt.yticks(tick_marks, lfw_people.target_names)\n",
    "plt.tight_layout()\n",
    "plt.ylabel('True person')\n",
    "plt.xlabel('Predicted person')\n",
    "plt.title('Normalized confusion matrix')\n",
    "plt.show()"
   ]
  },
  {
   "cell_type": "code",
   "execution_count": null,
   "metadata": {
    "colab": {
     "base_uri": "https://localhost:8080/"
    },
    "executionInfo": {
     "elapsed": 14332,
     "status": "ok",
     "timestamp": 1633448381287,
     "user": {
      "displayName": "Даниил Русланович Махоткин",
      "photoUrl": "https://lh3.googleusercontent.com/a/default-user=s64",
      "userId": "18336248573599285046"
     },
     "user_tz": -180
    },
    "id": "V0wFDigzisB7",
    "outputId": "a911982e-d958-4461-cfee-14a88be800cf"
   },
   "outputs": [],
   "source": [
    "%%time\n",
    "lr = LogisticRegression(solver='liblinear', multi_class='ovr')\n",
    "lr.fit(X_train, y_train)\n",
    "y_pred = lr.predict(X_test)"
   ]
  },
  {
   "cell_type": "code",
   "execution_count": null,
   "metadata": {},
   "outputs": [],
   "source": [
    "from sklearn.metrics import confusion_matrix, accuracy_score, classification_report"
   ]
  },
  {
   "cell_type": "code",
   "execution_count": null,
   "metadata": {
    "colab": {
     "base_uri": "https://localhost:8080/"
    },
    "executionInfo": {
     "elapsed": 11,
     "status": "ok",
     "timestamp": 1633448381288,
     "user": {
      "displayName": "Даниил Русланович Махоткин",
      "photoUrl": "https://lh3.googleusercontent.com/a/default-user=s64",
      "userId": "18336248573599285046"
     },
     "user_tz": -180
    },
    "id": "-xyadltEisB8",
    "outputId": "172e3662-c331-4977-b813-9b45d2452bb6"
   },
   "outputs": [],
   "source": [
    "print(\"Accuracy: %f\" % accuracy_score(y_test, y_pred))"
   ]
  },
  {
   "cell_type": "markdown",
   "metadata": {
    "id": "0p3-W4S7vDUo"
   },
   "source": [
    "# Сжатие изображений с помощью SVD\n",
    "В этом упражнении вы должны изучить, как SVD можно использовать для сжатия изображений.\n",
    "\n",
    "_Основано на открытом курсе по [Численной линейной алгебре](https://github.com/oseledets/nla2018 ) Ивана Оселедца_"
   ]
  },
  {
   "cell_type": "code",
   "execution_count": null,
   "metadata": {
    "id": "DiJHRySavDUt"
   },
   "outputs": [],
   "source": [
    "%matplotlib inline\n",
    "import matplotlib.pyplot as plt\n",
    "import numpy as np\n",
    "from PIL import Image"
   ]
  },
  {
   "cell_type": "markdown",
   "metadata": {
    "id": "ur4VS821vDUt"
   },
   "source": [
    "## 1. Singular values\n",
    "\n",
    "Вычислите сингулярные значения некоторого предварительно загруженного изображения (с помощью приведенного ниже кода) и нанесите их на график. Не забудьте использовать логарифмическую шкалу."
   ]
  },
  {
   "cell_type": "code",
   "execution_count": null,
   "metadata": {
    "colab": {
     "base_uri": "https://localhost:8080/",
     "height": 285
    },
    "executionInfo": {
     "elapsed": 555,
     "status": "ok",
     "timestamp": 1634048663322,
     "user": {
      "displayName": "Даниил Русланович Махоткин",
      "photoUrl": "https://lh3.googleusercontent.com/a/default-user=s64",
      "userId": "18336248573599285046"
     },
     "user_tz": -180
    },
    "id": "AwQll9DvvDUt",
    "outputId": "c452d967-c678-4b0c-9e3b-bfddebaab82f"
   },
   "outputs": [],
   "source": [
    "face_raw = Image.open(\"img/waiting.png\")\n",
    "face = np.array(face_raw).astype(np.uint8)[..., :3]\n",
    "\n",
    "plt.imshow(face_raw)\n",
    "plt.xticks(())\n",
    "plt.yticks(())\n",
    "plt.title(\"Original Picture\")\n",
    "plt.show()\n",
    "\n",
    "print(face.shape)"
   ]
  },
  {
   "cell_type": "code",
   "execution_count": null,
   "metadata": {
    "id": "v6-kJDbNvDUu"
   },
   "outputs": [],
   "source": [
    "# optional: zero mean the image\n",
    "face_mean = (face - np.mean(face, axis=2, keepdims=True))"
   ]
  },
  {
   "cell_type": "code",
   "execution_count": null,
   "metadata": {
    "id": "OxLqaW6GvDUu"
   },
   "outputs": [],
   "source": [
    "# Image is saved as a 3-dimensional array with shape H x W x C (heigt x width x channels)\n",
    "Rf = face_mean[..., 0]\n",
    "Gf = face_mean[..., 1]\n",
    "Bf = face_mean[..., 2]\n",
    "\n",
    "# Compute SVD and plot the singular values for different image channels\n",
    "u, Rs, vh = np.linalg.svd(Rf, full_matrices=False) # Ваш код здесь\n",
    "u, Gs, vh = np.linalg.svd(Gf, full_matrices=False)\n",
    "u, Bs, vh = np.linalg.svd(Bf, full_matrices=False)"
   ]
  },
  {
   "cell_type": "code",
   "execution_count": null,
   "metadata": {
    "colab": {
     "base_uri": "https://localhost:8080/",
     "height": 442
    },
    "executionInfo": {
     "elapsed": 497,
     "status": "ok",
     "timestamp": 1634048576325,
     "user": {
      "displayName": "Даниил Русланович Махоткин",
      "photoUrl": "https://lh3.googleusercontent.com/a/default-user=s64",
      "userId": "18336248573599285046"
     },
     "user_tz": -180
    },
    "id": "1FH94QAQvDUv",
    "outputId": "9b3a2bac-8a6c-41b2-9875-1d309af7ffcb"
   },
   "outputs": [],
   "source": [
    "plt.figure(figsize=(12, 7))\n",
    "plt.plot(Rs,'ro')\n",
    "plt.plot(Gs,'g.')\n",
    "plt.plot(Bs,'b:')\n",
    "plt.yscale('log')\n",
    "plt.ylabel(\"Singular values\")\n",
    "plt.xlabel(\"Singular value order\")\n",
    "plt.show()"
   ]
  },
  {
   "cell_type": "markdown",
   "metadata": {
    "id": "H388DfkjvDUw"
   },
   "source": [
    "## 2. Сжимайте\n",
    "\n",
    "Завершите функцию ```compress```, которая выполняет SVD и усекает его (используя $k$ сингулярные значения / векторы). Смотрите прототип ниже.\n",
    "\n",
    "Обратите внимание, что в случае, когда ваши изображения не имеют оттенков серого, вам придется разделить ваше изображение на каналы и работать с матрицами, соответствующими разным каналам, отдельно.\n",
    "\n",
    "Постройте приблизительное восстановленное изображение $M_\\varepsilon$ вашего любимого изображения таким образом, чтобы $rank(M_\\varepsilon) = 5, 20, 50$, используя ```plt.subplots```."
   ]
  },
  {
   "cell_type": "code",
   "execution_count": null,
   "metadata": {
    "id": "rpVb1Zm3vDUw"
   },
   "outputs": [],
   "source": [
    "def compress(image, k):\n",
    "    \"\"\"\n",
    "    Perform svd decomposition and truncate it (using k singular values/vectors)\n",
    "    \n",
    "    Parameters: \n",
    "        image (np.array):        input image (probably, colourful)\n",
    "        \n",
    "        k (int):                 approximation rank\n",
    "        \n",
    "    --------\n",
    "    Returns:\n",
    "      reconst_matrix (np.array): reconstructed matrix (tensor in colourful case)\n",
    "      \n",
    "      s (np.array):              array of singular values \n",
    "    \"\"\"\n",
    "    image2 = image.copy()\n",
    "    \n",
    "    Rf = image2[..., 0]\n",
    "    Gf = image2[..., 1]\n",
    "    Bf = image2[..., 2]\n",
    "    \n",
    "    # compute per-channel SVD for input image\n",
    "    # <your code here>\n",
    "    \n",
    "    \n",
    "    # reconstruct the input image with the given approximation rank\n",
    "    reduced_im = np.zeros((image.shape))\n",
    "    # <your code here>\n",
    "    \n",
    "    # save the array of top-k singular values\n",
    "    s = np.zeros((len(Gs), 3))\n",
    "    # <your code here>\n",
    "    \n",
    "    return reduced_im, s"
   ]
  },
  {
   "cell_type": "code",
   "execution_count": null,
   "metadata": {
    "colab": {
     "base_uri": "https://localhost:8080/",
     "height": 586
    },
    "executionInfo": {
     "elapsed": 4829,
     "status": "ok",
     "timestamp": 1634048840383,
     "user": {
      "displayName": "Даниил Русланович Махоткин",
      "photoUrl": "https://lh3.googleusercontent.com/a/default-user=s64",
      "userId": "18336248573599285046"
     },
     "user_tz": -180
    },
    "id": "Cqpr4OoCvDUx",
    "outputId": "47ba47cb-89eb-4178-e29c-d48af0db2aa8"
   },
   "outputs": [],
   "source": [
    "plt.figure(figsize=(18,12))\n",
    "k_list = [350,300,250,200,150,100,50,20,1]\n",
    "\n",
    "for i, k in tqdm(enumerate(k_list), total=len(k_list)):\n",
    "    plt.subplot(3,3,i+1)\n",
    "    im,s = compress(face,k)\n",
    "    plt.imshow(im)\n",
    "    plt.axis('off')\n",
    "    plt.title(\"{} greatest SV\".format(k))"
   ]
  },
  {
   "cell_type": "markdown",
   "metadata": {
    "id": "3kMAQh4ZvDUx",
    "tags": []
   },
   "source": [
    "## 3. Обнаруживать\n",
    "\n",
    "Нарисуйте следующие два рисунка для вашей любимой картинки\n",
    "* Как относительная погрешность аппроксимации зависит от ранга аппроксимации?\n",
    "* Как степень сжатия с точки зрения хранения информации ((сингулярные векторы + сингулярные числа) / общий размер изображения) зависит от ранга аппроксимации?"
   ]
  },
  {
   "cell_type": "code",
   "execution_count": null,
   "metadata": {
    "colab": {
     "base_uri": "https://localhost:8080/",
     "height": 480,
     "referenced_widgets": [
      "4750812007e044b3a30f2462f386d4ca",
      "8e620340d1da4134b44f4870e6bee1fc",
      "1b3e2a8ad736422e842e05392803a757",
      "ed656b4c3d974cba856d16c30fee4b2c",
      "db883679aacf465a8a1a3b8a51c4b467",
      "79a51484a737439aac0b31602961fb58",
      "bbc474c7c4c44390b9dc823f55d2fa0b",
      "eeeb76eb45454d028176e7239a9189ff",
      "5e5bd7ed232a48cb975e0770dd19f88b",
      "e5278f35ec6941f7af3a63105f567b37",
      "f1d1bf122e794475ab82f294d3ed8904"
     ]
    },
    "executionInfo": {
     "elapsed": 21923,
     "status": "error",
     "timestamp": 1634048723794,
     "user": {
      "displayName": "Даниил Русланович Махоткин",
      "photoUrl": "https://lh3.googleusercontent.com/a/default-user=s64",
      "userId": "18336248573599285046"
     },
     "user_tz": -180
    },
    "id": "aUPR8svcvDUy",
    "outputId": "74355825-204a-41bd-a177-68e90426d73b"
   },
   "outputs": [],
   "source": [
    "k_list = range(1, face.shape[1], 5)\n",
    "rel_err = []\n",
    "info = []\n",
    "for k in tqdm(k_list, leave=False):\n",
    "    img, s = compress(face, k)\n",
    "    img *= 255\n",
    "    h, w = img.shape[:2]\n",
    "    \n",
    "    ### YOUR CODE HERE\n",
    "    \n",
    "    rel_err.append(current_relative_error)\n",
    "    info.append(current_information)\n",
    "    \n",
    "plt.figure(figsize=(12,7))\n",
    "\n",
    "plt.subplot(2,1,1)\n",
    "plt.title(\"Memory volume plot\")\n",
    "plt.xlabel(\"Rank\")\n",
    "plt.ylabel(\"Bytes\")\n",
    "plt.plot(k_list, info)\n",
    "\n",
    "plt.subplot(2,1,2)\n",
    "plt.title(\"Relative error plot\")\n",
    "plt.xlabel(\"Rank\")\n",
    "plt.ylabel(\"Rel err value\")\n",
    "plt.plot(k_list, rel_err)\n",
    "\n",
    "plt.tight_layout()\n",
    "plt.show()"
   ]
  },
  {
   "cell_type": "markdown",
   "metadata": {
    "id": "uNfumW3gvDUz"
   },
   "source": [
    "## 4. Сравните\n",
    "\n",
    "Рассмотрим следующие две картинки. Вычислите их приближения (с тем же рангом или относительной ошибкой). Что вы видите? Объясните результаты."
   ]
  },
  {
   "cell_type": "code",
   "execution_count": null,
   "metadata": {
    "colab": {
     "base_uri": "https://localhost:8080/",
     "height": 283
    },
    "executionInfo": {
     "elapsed": 2096,
     "status": "ok",
     "timestamp": 1634048849458,
     "user": {
      "displayName": "Даниил Русланович Махоткин",
      "photoUrl": "https://lh3.googleusercontent.com/a/default-user=s64",
      "userId": "18336248573599285046"
     },
     "user_tz": -180
    },
    "id": "xobIzk_FvDUz",
    "outputId": "db715c7a-cf90-4d94-d16e-9796309ecdf6"
   },
   "outputs": [],
   "source": [
    "image_raw1 = Image.open(\"img/mipt.png\")\n",
    "image_raw2 = Image.open(\"img/simpsons.png\")\n",
    "\n",
    "image1 = np.array(image_raw1).astype(np.uint8)[..., :3]\n",
    "image2 = np.array(image_raw2).astype(np.uint8)[..., :3]\n",
    "\n",
    "plt.figure(figsize=(18, 6))\n",
    "plt.subplot(1, 2, 1)\n",
    "plt.imshow(image_raw1)\n",
    "plt.title(\"One Picture\")\n",
    "plt.axis('off')\n",
    "\n",
    "plt.subplot(1, 2, 2)\n",
    "plt.imshow(image_raw2)\n",
    "plt.title(\"Another Picture\")\n",
    "plt.axis('off')\n",
    "\n",
    "plt.show()"
   ]
  },
  {
   "cell_type": "markdown",
   "metadata": {
    "id": "aAUVkaNGvDUz"
   },
   "source": [
    "#### Same "
   ]
  },
  {
   "cell_type": "code",
   "execution_count": null,
   "metadata": {
    "colab": {
     "base_uri": "https://localhost:8080/",
     "height": 270
    },
    "executionInfo": {
     "elapsed": 3372,
     "status": "ok",
     "timestamp": 1634048886196,
     "user": {
      "displayName": "Даниил Русланович Махоткин",
      "photoUrl": "https://lh3.googleusercontent.com/a/default-user=s64",
      "userId": "18336248573599285046"
     },
     "user_tz": -180
    },
    "id": "VK5GCIFavDUz",
    "outputId": "b4df999c-5ec9-489b-ba5d-3e2b92e5f1a8"
   },
   "outputs": [],
   "source": [
    "# Your code is here\n",
    "im1, s = compress(image1, 50)\n",
    "im2, s = compress(image2, 50)\n",
    "\n",
    "plt.figure(figsize=(18,6))\n",
    "\n",
    "plt.subplot(1,2,1)\n",
    "plt.imshow(im1)\n",
    "plt.axis('off')\n",
    "\n",
    "plt.subplot(1,2,2)\n",
    "plt.imshow(im2)\n",
    "plt.axis('off')\n",
    "\n",
    "plt.show()"
   ]
  },
  {
   "cell_type": "markdown",
   "metadata": {
    "id": "VQQnD71QvDU0"
   },
   "source": [
    "#### Same relative error"
   ]
  },
  {
   "cell_type": "code",
   "execution_count": null,
   "metadata": {
    "colab": {
     "base_uri": "https://localhost:8080/",
     "height": 301,
     "referenced_widgets": [
      "b9f081ad7f6349698399ca062e4789fe",
      "cebf41b95556429091b9d3c63cd89b5e",
      "1c8a6d97b2d244328ca08ab80ee7c60e",
      "b25a659400444ee4927516231ca75fe4",
      "3728563ef34149e0bddb2d7e8436c94e",
      "c2251c3b24a944ffa3760423fe23e0c7",
      "122ddc14ee9248a189d2936f227feffc",
      "712759a8abcf49249b21f97338f038a1",
      "5dbe6c2782ac40ac8bfc89bdfc2b814b",
      "d2762f2e51894d0e978a18723f00ae70",
      "dfbf8a96b38e46cbad67061c7c91c754"
     ]
    },
    "executionInfo": {
     "elapsed": 60041,
     "status": "error",
     "timestamp": 1634048963795,
     "user": {
      "displayName": "Даниил Русланович Махоткин",
      "photoUrl": "https://lh3.googleusercontent.com/a/default-user=s64",
      "userId": "18336248573599285046"
     },
     "user_tz": -180
    },
    "id": "6xBCQYSuvDU0",
    "outputId": "109bc728-6723-43c8-cafe-7ab4b1caf192"
   },
   "outputs": [],
   "source": [
    "k_list = range(1,500,10)\n",
    "rel_err1 = []\n",
    "rel_err2 = []\n",
    "relative_error_threshold = 0.15\n",
    "\n",
    "for k in tqdm(k_list):\n",
    "  \n",
    "    # Your code is here\n",
    "    image1_compressed, s = compress(image1, k)\n",
    "    image2_compressed, s = compress(image2, k)\n",
    "    \n",
    "    ### YOUR CODE HERE\n",
    "    \n",
    "    rel_err1.append(relative_error_1)\n",
    "    rel_err2.append(relative_error_2)\n",
    "\n",
    "# find the indices\n",
    "idx1 = int(np.argwhere(np.diff(np.sign(np.array(rel_err1) - relative_error_threshold))).flatten())\n",
    "idx2 = int(np.argwhere(np.diff(np.sign(np.array(rel_err2) - relative_error_threshold))).flatten())\n",
    "print(\"K1 = {}; K2 = {}\".format(k_list[idx1], k_list[idx2]))\n",
    "\n",
    "plt.figure(figsize=(12,7))\n",
    "\n",
    "plt.plot(k_list[idx1], rel_err1[idx1], 'ro')\n",
    "plt.plot(k_list[idx2], rel_err2[idx2], 'ro')\n",
    "plt.title(\"Rel err for 2 pics\")\n",
    "plt.xlabel(\"Rank\")\n",
    "plt.ylabel(\"Rel error val\")\n",
    "\n",
    "plt.plot(k_list, rel_err1, label=\"Image 1\")\n",
    "plt.plot(k_list, rel_err2, label=\"Image 2\")\n",
    "plt.plot(k_list, [relative_error_threshold]*len(k_list),\":\",)\n",
    "\n",
    "plt.legend()\n",
    "plt.show()"
   ]
  },
  {
   "cell_type": "code",
   "execution_count": null,
   "metadata": {
    "id": "R2BTQQSFvDU0"
   },
   "outputs": [],
   "source": [
    "relative_error_threshold = 0.15\n",
    "\n",
    "idx1 = int(np.argwhere(np.diff(np.sign(np.array(rel_err1) - relative_error_threshold))).flatten())\n",
    "idx2 = int(np.argwhere(np.diff(np.sign(np.array(rel_err2) - relative_error_threshold))).flatten())"
   ]
  },
  {
   "cell_type": "code",
   "execution_count": null,
   "metadata": {
    "id": "wHRuAQe7vDU0"
   },
   "outputs": [],
   "source": [
    "image1_compressed, s = compress(image1, k_list[idx1])\n",
    "image2_compressed, s = compress(image2, k_list[idx2])\n",
    "\n",
    "plt.figure(figsize=(18,6))\n",
    "\n",
    "plt.subplot(1,2,1)\n",
    "plt.imshow(image1_compressed)\n",
    "plt.xticks(())\n",
    "plt.yticks(())\n",
    "\n",
    "plt.subplot(1,2,2)\n",
    "plt.imshow(image2_compressed)\n",
    "plt.xticks(())\n",
    "plt.yticks(())\n",
    "plt.show()"
   ]
  },
  {
   "cell_type": "markdown",
   "metadata": {
    "id": "s_oct4URvD9B"
   },
   "source": [
    "# SVM on pytorch"
   ]
  },
  {
   "cell_type": "code",
   "execution_count": null,
   "metadata": {
    "id": "IiAJwPlsvD9D"
   },
   "outputs": [],
   "source": [
    "import matplotlib.pyplot as plt\n",
    "# use seaborn plotting defaults\n",
    "import seaborn as sns; sns.set()\n",
    "\n",
    "from sklearn.base import BaseEstimator, ClassifierMixin\n",
    "from sklearn.datasets import make_blobs\n",
    "from sklearn.metrics import accuracy_score\n",
    "\n",
    "import numpy as np\n",
    "from scipy import stats\n",
    "\n",
    "import torch\n",
    "import torch.nn as nn\n",
    "import torch.optim as optim"
   ]
  },
  {
   "cell_type": "markdown",
   "metadata": {
    "id": "O_pVyyWDvD9D"
   },
   "source": [
    "First let's create toy separable dataset "
   ]
  },
  {
   "cell_type": "code",
   "execution_count": null,
   "metadata": {
    "id": "fEnP7WPzvD9E"
   },
   "outputs": [],
   "source": [
    "X, Y = make_blobs(n_samples=300, centers=2, random_state=45, cluster_std=0.6)\n",
    "Y[Y == 0] = -1 # for convenience with formulas"
   ]
  },
  {
   "cell_type": "markdown",
   "metadata": {
    "id": "AyYawTucvD9E"
   },
   "source": [
    "And plot it.\n",
    "\n",
    "It's a separable problem"
   ]
  },
  {
   "cell_type": "code",
   "execution_count": null,
   "metadata": {
    "colab": {
     "base_uri": "https://localhost:8080/",
     "height": 285
    },
    "executionInfo": {
     "elapsed": 298,
     "status": "ok",
     "timestamp": 1633436625510,
     "user": {
      "displayName": "Даниил Русланович Махоткин",
      "photoUrl": "https://lh3.googleusercontent.com/a/default-user=s64",
      "userId": "18336248573599285046"
     },
     "user_tz": -180
    },
    "id": "yGLC6_sPvD9E",
    "outputId": "67d23ea2-fea6-4c21-e6cb-abad1ac71fe9"
   },
   "outputs": [],
   "source": [
    "plt.scatter(X[:, 0], X[:, 1], c=Y, cmap='plasma')"
   ]
  },
  {
   "cell_type": "markdown",
   "metadata": {
    "id": "VqpPmsrPvD9F"
   },
   "source": [
    "## Support Vector Machines theory"
   ]
  },
  {
   "cell_type": "markdown",
   "metadata": {
    "id": "4GAQfLMhvD9F"
   },
   "source": [
    "Linear SVM __primal__ optimization problem can be formulated as\n",
    "\n",
    "$$ \\frac{1}{n} \\sum_{i=1}^n \\max(0, 1 - y_i (w X_i - b)) + \\lambda ||w||_2 \\to \\min_w $$\n",
    "\n",
    "This problem can be solved with gradient or sub-gradien methods.\n",
    "\n",
    "-----\n",
    "Whereas __dual__ optimization problem formulates as follows:\n",
    "\n",
    "$$\n",
    "\\sum_{i=1}^n c_i - \\frac{1}{2} \\sum_{i=1}^n \\sum_{j=1}^n y_i c_i (X_i \\cdot X_j ) y_j c_j \\to \\max_{c_1,...,c_n}  \\text{subject to} \n",
    "\\sum_{i=1}^n c_iy_i=0 \n",
    "0 \\leq c_i \\leq \\frac{1}{2n\\lambda} \\forall i\n",
    "$$\n",
    "\n",
    "Where $W = \\sum_{i=1}^n c_i y_i X_i$.\n",
    "\n",
    "In this quadratic optimization problem we can use kernel trick: <br/>\n",
    "introduce fucntion $K(X_i, X_j) = \\phi (X_i) \\phi (X_j)$ and change dot products in our optimization problem\n",
    "\n",
    "Then we have \n",
    "\n",
    "$$\n",
    "\\sum_{i=1}^n c_i - \\frac{1}{2} \\sum_{i=1}^n \\sum_{j=1}^n y_i c_i K(X_i, X_j) y_j c_j \\to \\max_{c_1,...,c_n} \n",
    "\\text{subject to} \n",
    "\\sum_{i=1}^n c_iy_i=0 \n",
    "0 \\leq c_i \\leq \\frac{1}{2n\\lambda} \\forall i\n",
    "$$\n",
    "\n",
    "$W = \\sum_{i=1}^n c_i y_i \\phi(X_i)$\n",
    "\n",
    "In quadratic programming we can straightforwardly add kernel function, but it is not that simple, if we want to use gradient algorithms.\n",
    "\n",
    "----\n",
    "However primal optimization problem with kernels can be formulated like (see [Olivier Chapelle, 2006](https://www.cs.utah.edu/~piyush/teaching/svm-solving-primal.pdf)):\n",
    "\n",
    "$$f(x) = \\sum_{i=1}^n \\beta_i K(x_i, x)$$\n",
    "\n",
    "$$K: K_{i,j} = K(x_i, x_j)$$\n",
    "\n",
    "$$ \\lambda \\vec{\\beta^T} K \\vec{\\beta} + \\sum_{i=1}^n L(y_i, K_i^T \\vec{\\beta}) \\to \\min_{\\vec{\\beta}}$$\n",
    "\n",
    "where L is Hinge loss: $L(y_i, K_i^T \\vec{\\beta}) = \\max(0, 1 - y_i (K_i^T \\vec{\\beta}))$"
   ]
  },
  {
   "cell_type": "markdown",
   "metadata": {
    "id": "dXb1VPu8vD9H"
   },
   "source": [
    "## Playing with `sklearn`'s implementation\n",
    "\n",
    "[original post](https://jakevdp.github.io/PythonDataScienceHandbook/05.07-support-vector-machines.html)"
   ]
  },
  {
   "cell_type": "code",
   "execution_count": null,
   "metadata": {
    "id": "RC26b27CvD9H"
   },
   "outputs": [],
   "source": [
    "from sklearn.svm import SVC # \"Support vector classifier\""
   ]
  },
  {
   "cell_type": "code",
   "execution_count": null,
   "metadata": {
    "colab": {
     "base_uri": "https://localhost:8080/"
    },
    "executionInfo": {
     "elapsed": 4,
     "status": "ok",
     "timestamp": 1633436626146,
     "user": {
      "displayName": "Даниил Русланович Махоткин",
      "photoUrl": "https://lh3.googleusercontent.com/a/default-user=s64",
      "userId": "18336248573599285046"
     },
     "user_tz": -180
    },
    "id": "XycU0JgZvD9H",
    "outputId": "5c8a423f-a223-42a9-b5cf-54a1a47a429c"
   },
   "outputs": [],
   "source": [
    "model = SVC(kernel='linear', C=1e5)\n",
    "model.fit(X, Y)"
   ]
  },
  {
   "cell_type": "code",
   "execution_count": null,
   "metadata": {
    "id": "7PiyWCuJvD9H"
   },
   "outputs": [],
   "source": [
    "def plot_svc_decision_function(model, ax=None, plot_support=True):\n",
    "    \"\"\"Plot the decision function for a 2D SVC\"\"\"\n",
    "    if ax is None:\n",
    "        ax = plt.gca()\n",
    "    xlim = ax.get_xlim()\n",
    "    ylim = ax.get_ylim()\n",
    "    \n",
    "    # create grid to evaluate model\n",
    "    x = np.linspace(xlim[0], xlim[1], 30)\n",
    "    y = np.linspace(ylim[0], ylim[1], 30)\n",
    "    Y, X = np.meshgrid(y, x)\n",
    "    xy = np.vstack([X.ravel(), Y.ravel()]).T\n",
    "    P = model.decision_function(xy).reshape(X.shape)\n",
    "    \n",
    "    # plot decision boundary and margins\n",
    "    ax.contour(X, Y, P, colors='k',\n",
    "               levels=[-1, 0, 1], alpha=0.5,\n",
    "               linestyles=['--', '-', '--'])\n",
    "    \n",
    "    # plot support vectors\n",
    "    if plot_support:\n",
    "        ax.scatter(model.support_vectors_[:, 0],\n",
    "                   model.support_vectors_[:, 1],\n",
    "                   s=300, linewidth=1, facecolors='none');\n",
    "    ax.set_xlim(xlim)\n",
    "    ax.set_ylim(ylim)"
   ]
  },
  {
   "cell_type": "code",
   "execution_count": null,
   "metadata": {
    "colab": {
     "base_uri": "https://localhost:8080/",
     "height": 268
    },
    "executionInfo": {
     "elapsed": 5,
     "status": "ok",
     "timestamp": 1633436626465,
     "user": {
      "displayName": "Даниил Русланович Махоткин",
      "photoUrl": "https://lh3.googleusercontent.com/a/default-user=s64",
      "userId": "18336248573599285046"
     },
     "user_tz": -180
    },
    "id": "bxJRpJ-9vD9I",
    "outputId": "81b55e5a-2e07-4ead-aa4d-4682c41bbe11"
   },
   "outputs": [],
   "source": [
    "plt.scatter(X[:, 0], X[:, 1], c=Y, s=50, cmap='autumn')\n",
    "plot_svc_decision_function(model);"
   ]
  },
  {
   "cell_type": "code",
   "execution_count": null,
   "metadata": {
    "colab": {
     "base_uri": "https://localhost:8080/"
    },
    "executionInfo": {
     "elapsed": 3,
     "status": "ok",
     "timestamp": 1633436626829,
     "user": {
      "displayName": "Даниил Русланович Махоткин",
      "photoUrl": "https://lh3.googleusercontent.com/a/default-user=s64",
      "userId": "18336248573599285046"
     },
     "user_tz": -180
    },
    "id": "wAXw1S_tvD9I",
    "outputId": "ad0056b7-42b9-4bde-8ac4-1e11781d53f4"
   },
   "outputs": [],
   "source": [
    "model.support_vectors_"
   ]
  },
  {
   "cell_type": "markdown",
   "metadata": {
    "id": "tj4KOp_DvD9I"
   },
   "source": [
    "### Example with kernel from sklearn"
   ]
  },
  {
   "cell_type": "code",
   "execution_count": null,
   "metadata": {
    "id": "3tFgRFzwvD9I"
   },
   "outputs": [],
   "source": [
    "from sklearn.datasets import make_circles"
   ]
  },
  {
   "cell_type": "code",
   "execution_count": null,
   "metadata": {
    "id": "WDroLvkKvD9I"
   },
   "outputs": [],
   "source": [
    "X, y = make_circles(100, factor=.1, noise=.1)\n",
    "y[y == 0] = -1"
   ]
  },
  {
   "cell_type": "code",
   "execution_count": null,
   "metadata": {
    "colab": {
     "base_uri": "https://localhost:8080/",
     "height": 268
    },
    "executionInfo": {
     "elapsed": 880,
     "status": "ok",
     "timestamp": 1633437275250,
     "user": {
      "displayName": "Даниил Русланович Махоткин",
      "photoUrl": "https://lh3.googleusercontent.com/a/default-user=s64",
      "userId": "18336248573599285046"
     },
     "user_tz": -180
    },
    "id": "C1khYHLvvD9J",
    "outputId": "8537d695-6261-4903-9514-1b73e163900b"
   },
   "outputs": [],
   "source": [
    "# X, y = make_circles(100, factor=.1, noise=.1)\n",
    "\n",
    "clf = SVC(kernel='linear', C=1e5).fit(X, y)\n",
    "\n",
    "plt.scatter(X[:, 0], X[:, 1], c=y, s=50, cmap='autumn')\n",
    "plot_svc_decision_function(clf, plot_support=False);"
   ]
  },
  {
   "cell_type": "code",
   "execution_count": null,
   "metadata": {
    "colab": {
     "base_uri": "https://localhost:8080/"
    },
    "executionInfo": {
     "elapsed": 273,
     "status": "ok",
     "timestamp": 1633437277610,
     "user": {
      "displayName": "Даниил Русланович Махоткин",
      "photoUrl": "https://lh3.googleusercontent.com/a/default-user=s64",
      "userId": "18336248573599285046"
     },
     "user_tz": -180
    },
    "id": "5H-dgDrjvD9J",
    "outputId": "c13950fe-6e00-46d2-9d71-9e8f1ec4379b"
   },
   "outputs": [],
   "source": [
    "clf = SVC(kernel='poly', degree=20, C=1e6, max_iter=1e4)\n",
    "y[y == 0] = -1\n",
    "clf.fit(X, y)"
   ]
  },
  {
   "cell_type": "code",
   "execution_count": null,
   "metadata": {
    "colab": {
     "base_uri": "https://localhost:8080/",
     "height": 268
    },
    "executionInfo": {
     "elapsed": 499,
     "status": "ok",
     "timestamp": 1633437279523,
     "user": {
      "displayName": "Даниил Русланович Махоткин",
      "photoUrl": "https://lh3.googleusercontent.com/a/default-user=s64",
      "userId": "18336248573599285046"
     },
     "user_tz": -180
    },
    "id": "3dor16rPvD9K",
    "outputId": "496f2aea-bf26-44bd-b928-3593086906e3"
   },
   "outputs": [],
   "source": [
    "plt.scatter(X[:, 0], X[:, 1], c=y, s=50, cmap='autumn')\n",
    "plot_svc_decision_function(clf)\n",
    "plt.scatter(clf.support_vectors_[:, 0], clf.support_vectors_[:, 1],\n",
    "            s=300, lw=1, facecolors='none');"
   ]
  },
  {
   "cell_type": "markdown",
   "metadata": {
    "id": "mjxXD8sjvD9K"
   },
   "source": [
    "### Different margins for nonseparable cases"
   ]
  },
  {
   "cell_type": "code",
   "execution_count": null,
   "metadata": {
    "colab": {
     "base_uri": "https://localhost:8080/",
     "height": 268
    },
    "executionInfo": {
     "elapsed": 788,
     "status": "ok",
     "timestamp": 1633437283109,
     "user": {
      "displayName": "Даниил Русланович Махоткин",
      "photoUrl": "https://lh3.googleusercontent.com/a/default-user=s64",
      "userId": "18336248573599285046"
     },
     "user_tz": -180
    },
    "id": "L6tXHC0rvD9K",
    "outputId": "f4838df3-23b7-48d8-8e13-3fba5f39c040"
   },
   "outputs": [],
   "source": [
    "X, y = make_blobs(n_samples=100, centers=2,\n",
    "                  random_state=0, cluster_std=1.2)\n",
    "plt.scatter(X[:, 0], X[:, 1], c=y, s=50, cmap='autumn');"
   ]
  },
  {
   "cell_type": "code",
   "execution_count": null,
   "metadata": {
    "colab": {
     "base_uri": "https://localhost:8080/",
     "height": 394
    },
    "executionInfo": {
     "elapsed": 1276,
     "status": "ok",
     "timestamp": 1633437287462,
     "user": {
      "displayName": "Даниил Русланович Махоткин",
      "photoUrl": "https://lh3.googleusercontent.com/a/default-user=s64",
      "userId": "18336248573599285046"
     },
     "user_tz": -180
    },
    "id": "CZjKYz1VvD9K",
    "outputId": "7942bf21-b39b-42dc-a88a-e53f96927682"
   },
   "outputs": [],
   "source": [
    "X, y = make_blobs(n_samples=100, centers=2,\n",
    "                  random_state=0, cluster_std=1.2)\n",
    "y[y == 0] = -1\n",
    "fig, ax = plt.subplots(1, 2, figsize=(16, 6))\n",
    "fig.subplots_adjust(left=0.0625, right=0.95, wspace=0.1)\n",
    "\n",
    "for axi, C in zip(ax, [10.0, 0.005]):\n",
    "    model = SVC(kernel='linear', C=C).fit(X, y)\n",
    "    axi.scatter(X[:, 0], X[:, 1], c=y, s=50, cmap='autumn')\n",
    "    plot_svc_decision_function(model, axi)\n",
    "    axi.scatter(model.support_vectors_[:, 0],\n",
    "                model.support_vectors_[:, 1],\n",
    "                s=300, lw=1, facecolors='none');\n",
    "    axi.set_title('C = {0:.1f}'.format(C), size=14)"
   ]
  },
  {
   "cell_type": "markdown",
   "metadata": {
    "id": "C_SXrA6YvD9F"
   },
   "source": [
    "## SVM implementation with SGD\n",
    "\n",
    "Let's code SVM with primal optimization problem and kernels on pytorch\n",
    "\n",
    "Some parts were taken from [this notebook](https://github.com/nikhilraghava/PyTorch-SVM/blob/master/SVM%20-%20PyTorch.ipynb) "
   ]
  },
  {
   "cell_type": "code",
   "execution_count": null,
   "metadata": {
    "id": "3GknD_Y4vD9F"
   },
   "outputs": [],
   "source": [
    "def hinge_loss(scores, labels):\n",
    "    '''Mean loss for batch of objects\n",
    "    '''\n",
    "    assert len(scores.shape) == 1\n",
    "    assert len(labels.shape) == 1\n",
    "    return  ### YOUR CODE HERE\n",
    "\n",
    "\n",
    "class SVM(BaseEstimator, ClassifierMixin):\n",
    "    @staticmethod\n",
    "    def linear(x_1, x_2):\n",
    "        '''Computes linear kernel for batches of objects\n",
    "        \n",
    "        Args:\n",
    "            x_1: array shaped `(#samples_1, #features)`\n",
    "            x_2: array shaped `(#samples_2, #features)`\n",
    "        Returns:\n",
    "            kernel function values for all pairs of samples from x_1 and x_2\n",
    "            shaped `(#samples_1, #samples_2)`\n",
    "        '''\n",
    "        return ### YOUR CODE HERE\n",
    "    \n",
    "    def __init__(\n",
    "        self,\n",
    "        lr: float=1e-3,\n",
    "        epochs: int=2,\n",
    "        batch_size: int=64,\n",
    "        lmbd: float=1e-4,\n",
    "        kernel_function=None,\n",
    "        verbose: bool=False,\n",
    "    ):\n",
    "        self.lr = lr\n",
    "        self.epochs = epochs\n",
    "        self.batch_size = batch_size\n",
    "        self.lmbd = lmbd\n",
    "        self.kernel_function = kernel_function or SVM.linear\n",
    "        self.verbose = verbose\n",
    "        self.fitted = False\n",
    "\n",
    "    def __repr__(self):\n",
    "        return 'SVM model, fitted: {self.fitted}'\n",
    "\n",
    "    def fit(self, X, Y):\n",
    "        assert (np.abs(Y) == 1).all()\n",
    "        n_obj = len(X)\n",
    "        X, Y = torch.FloatTensor(X), torch.FloatTensor(Y)\n",
    "        K = self.kernel_function(X, X).float()\n",
    "\n",
    "        self.betas = torch.full((n_obj, 1), fill_value=0.001, dtype=X.dtype, requires_grad=True)\n",
    "        self.bias = torch.zeros(1, requires_grad=True) # I've also add bias to the model\n",
    "        \n",
    "        optimizer = optim.SGD((self.betas, self.bias), lr=self.lr)\n",
    "        for epoch in range(self.epochs):\n",
    "            perm = torch.randperm(n_obj)  # Generate a set of random numbers of length: sample size\n",
    "            sum_loss = 0.                 # Loss for each epoch\n",
    "            for i in range(0, n_obj, self.batch_size):\n",
    "                batch_inds = perm[i:i + self.batch_size]\n",
    "                x_batch = X[batch_inds]   # Pick random samples by iterating over random permutation\n",
    "                y_batch = Y[batch_inds]   # Pick the correlating class\n",
    "                k_batch = K[batch_inds]\n",
    "                \n",
    "                optimizer.zero_grad()     # Manually zero the gradient buffers of the optimizer\n",
    "                \n",
    "                preds =  ### YOUR CODE HERE # Compute the output by doing a forward pass\n",
    "                preds = preds.flatten()\n",
    "                loss = self.lmbd * self.betas[batch_inds].T @ k_batch @ self.betas + hinge_loss(preds, y_batch)\n",
    "                loss.backward()           # Backpropagation\n",
    "                optimizer.step()          # Optimize and adjust weights\n",
    "\n",
    "                sum_loss += loss.item()   # Add the loss\n",
    "\n",
    "            if self.verbose: print(\"Epoch \" + str(epoch) + \", Loss: \" + str(sum_loss / self.batch_size))\n",
    "\n",
    "        self.X = X\n",
    "        self.fitted = True\n",
    "        return self\n",
    "\n",
    "    def predict_scores(self, batch):\n",
    "        with torch.no_grad():\n",
    "            batch = torch.from_numpy(batch).float()\n",
    "            K = self.kernel_function(batch, self.X)\n",
    "            return (K @ self.betas + self.bias).flatten() ### YOUR CODE HERE\n",
    "\n",
    "    def predict(self, batch):\n",
    "        scores = self.predict_scores(batch)\n",
    "        answers = np.full(len(batch), -1, dtype=np.int64)\n",
    "        answers[scores > 0] = 1\n",
    "        return answers"
   ]
  },
  {
   "cell_type": "code",
   "execution_count": null,
   "metadata": {
    "id": "1SR-67hpaiW1"
   },
   "outputs": [],
   "source": [
    "model = SVM(epochs=10, verbose=True)"
   ]
  },
  {
   "cell_type": "code",
   "execution_count": null,
   "metadata": {
    "colab": {
     "base_uri": "https://localhost:8080/"
    },
    "executionInfo": {
     "elapsed": 6,
     "status": "ok",
     "timestamp": 1633438087501,
     "user": {
      "displayName": "Даниил Русланович Махоткин",
      "photoUrl": "https://lh3.googleusercontent.com/a/default-user=s64",
      "userId": "18336248573599285046"
     },
     "user_tz": -180
    },
    "id": "yTi0PF3TaicZ",
    "outputId": "dd631f69-ea24-4876-c2d8-779f9c21bd63"
   },
   "outputs": [],
   "source": [
    "model.fit(X, y)"
   ]
  },
  {
   "cell_type": "code",
   "execution_count": null,
   "metadata": {
    "colab": {
     "base_uri": "https://localhost:8080/"
    },
    "executionInfo": {
     "elapsed": 4,
     "status": "ok",
     "timestamp": 1633438087502,
     "user": {
      "displayName": "Даниил Русланович Махоткин",
      "photoUrl": "https://lh3.googleusercontent.com/a/default-user=s64",
      "userId": "18336248573599285046"
     },
     "user_tz": -180
    },
    "id": "jz4T4eY_axvw",
    "outputId": "54dc9f83-57b0-4f55-d277-b220ee74b095"
   },
   "outputs": [],
   "source": [
    "predictions = model.predict(X)\n",
    "predictions.shape"
   ]
  },
  {
   "cell_type": "code",
   "execution_count": null,
   "metadata": {
    "colab": {
     "base_uri": "https://localhost:8080/"
    },
    "executionInfo": {
     "elapsed": 13,
     "status": "ok",
     "timestamp": 1633438087740,
     "user": {
      "displayName": "Даниил Русланович Махоткин",
      "photoUrl": "https://lh3.googleusercontent.com/a/default-user=s64",
      "userId": "18336248573599285046"
     },
     "user_tz": -180
    },
    "id": "5MX3CFuCvD9G",
    "outputId": "a62e796a-ffad-49cf-f035-37820c72089a"
   },
   "outputs": [],
   "source": [
    "accuracy_score(y, predictions)"
   ]
  },
  {
   "cell_type": "markdown",
   "metadata": {
    "id": "UfRN5JrJiHjg"
   },
   "source": [
    "# Полезные ссылки\n",
    "- [Формальное описание PCA](http://www.machinelearning.ru/wiki/index.php?title=%D0%9C%D0%B5%D1%82%D0%BE%D0%B4_%D0%B3%D0%BB%D0%B0%D0%B2%D0%BD%D1%8B%D1%85_%D0%BA%D0%BE%D0%BC%D0%BF%D0%BE%D0%BD%D0%B5%D0%BD%D1%82)\n",
    "- [PCA in 3 steps](http://sebastianraschka.com/Articles/2015_pca_in_3_steps.html)\n",
    "- [SVD](https://ru.wikipedia.org/wiki/%D0%A1%D0%B8%D0%BD%D0%B3%D1%83%D0%BB%D1%8F%D1%80%D0%BD%D0%BE%D0%B5_%D1%80%D0%B0%D0%B7%D0%BB%D0%BE%D0%B6%D0%B5%D0%BD%D0%B8%D0%B5)\n",
    "- [Eigenface](https://en.wikipedia.org/wiki/Eigenface)\n",
    "- [sklearn.decomposition](http://scikit-learn.org/stable/modules/classes.html#module-sklearn.decomposition)"
   ]
  }
 ],
 "metadata": {
  "colab": {
   "collapsed_sections": [
    "aAUVkaNGvDUz"
   ],
   "name": "Seminar_04_svm_pca_Solved.ipynb",
   "provenance": []
  },
  "kernelspec": {
   "display_name": "Python 3 (ipykernel)",
   "language": "python",
   "name": "python3"
  },
  "language_info": {
   "codemirror_mode": {
    "name": "ipython",
    "version": 3
   },
   "file_extension": ".py",
   "mimetype": "text/x-python",
   "name": "python",
   "nbconvert_exporter": "python",
   "pygments_lexer": "ipython3",
   "version": "3.8.10"
  },
  "widgets": {
   "application/vnd.jupyter.widget-state+json": {
    "122ddc14ee9248a189d2936f227feffc": {
     "model_module": "@jupyter-widgets/base",
     "model_module_version": "1.2.0",
     "model_name": "LayoutModel",
     "state": {
      "_model_module": "@jupyter-widgets/base",
      "_model_module_version": "1.2.0",
      "_model_name": "LayoutModel",
      "_view_count": null,
      "_view_module": "@jupyter-widgets/base",
      "_view_module_version": "1.2.0",
      "_view_name": "LayoutView",
      "align_content": null,
      "align_items": null,
      "align_self": null,
      "border": null,
      "bottom": null,
      "display": null,
      "flex": null,
      "flex_flow": null,
      "grid_area": null,
      "grid_auto_columns": null,
      "grid_auto_flow": null,
      "grid_auto_rows": null,
      "grid_column": null,
      "grid_gap": null,
      "grid_row": null,
      "grid_template_areas": null,
      "grid_template_columns": null,
      "grid_template_rows": null,
      "height": null,
      "justify_content": null,
      "justify_items": null,
      "left": null,
      "margin": null,
      "max_height": null,
      "max_width": null,
      "min_height": null,
      "min_width": null,
      "object_fit": null,
      "object_position": null,
      "order": null,
      "overflow": null,
      "overflow_x": null,
      "overflow_y": null,
      "padding": null,
      "right": null,
      "top": null,
      "visibility": null,
      "width": null
     }
    },
    "1b3e2a8ad736422e842e05392803a757": {
     "model_module": "@jupyter-widgets/controls",
     "model_module_version": "1.5.0",
     "model_name": "HTMLModel",
     "state": {
      "_dom_classes": [],
      "_model_module": "@jupyter-widgets/controls",
      "_model_module_version": "1.5.0",
      "_model_name": "HTMLModel",
      "_view_count": null,
      "_view_module": "@jupyter-widgets/controls",
      "_view_module_version": "1.5.0",
      "_view_name": "HTMLView",
      "description": "",
      "description_tooltip": null,
      "layout": "IPY_MODEL_bbc474c7c4c44390b9dc823f55d2fa0b",
      "placeholder": "​",
      "style": "IPY_MODEL_79a51484a737439aac0b31602961fb58",
      "value": " 19%"
     }
    },
    "1c8a6d97b2d244328ca08ab80ee7c60e": {
     "model_module": "@jupyter-widgets/controls",
     "model_module_version": "1.5.0",
     "model_name": "HTMLModel",
     "state": {
      "_dom_classes": [],
      "_model_module": "@jupyter-widgets/controls",
      "_model_module_version": "1.5.0",
      "_model_name": "HTMLModel",
      "_view_count": null,
      "_view_module": "@jupyter-widgets/controls",
      "_view_module_version": "1.5.0",
      "_view_name": "HTMLView",
      "description": "",
      "description_tooltip": null,
      "layout": "IPY_MODEL_122ddc14ee9248a189d2936f227feffc",
      "placeholder": "​",
      "style": "IPY_MODEL_c2251c3b24a944ffa3760423fe23e0c7",
      "value": "100%"
     }
    },
    "3728563ef34149e0bddb2d7e8436c94e": {
     "model_module": "@jupyter-widgets/controls",
     "model_module_version": "1.5.0",
     "model_name": "HTMLModel",
     "state": {
      "_dom_classes": [],
      "_model_module": "@jupyter-widgets/controls",
      "_model_module_version": "1.5.0",
      "_model_name": "HTMLModel",
      "_view_count": null,
      "_view_module": "@jupyter-widgets/controls",
      "_view_module_version": "1.5.0",
      "_view_name": "HTMLView",
      "description": "",
      "description_tooltip": null,
      "layout": "IPY_MODEL_dfbf8a96b38e46cbad67061c7c91c754",
      "placeholder": "​",
      "style": "IPY_MODEL_d2762f2e51894d0e978a18723f00ae70",
      "value": " 50/50 [00:59&lt;00:00,  1.24s/it]"
     }
    },
    "4750812007e044b3a30f2462f386d4ca": {
     "model_module": "@jupyter-widgets/controls",
     "model_module_version": "1.5.0",
     "model_name": "HBoxModel",
     "state": {
      "_dom_classes": [],
      "_model_module": "@jupyter-widgets/controls",
      "_model_module_version": "1.5.0",
      "_model_name": "HBoxModel",
      "_view_count": null,
      "_view_module": "@jupyter-widgets/controls",
      "_view_module_version": "1.5.0",
      "_view_name": "HBoxView",
      "box_style": "",
      "children": [
       "IPY_MODEL_1b3e2a8ad736422e842e05392803a757",
       "IPY_MODEL_ed656b4c3d974cba856d16c30fee4b2c",
       "IPY_MODEL_db883679aacf465a8a1a3b8a51c4b467"
      ],
      "layout": "IPY_MODEL_8e620340d1da4134b44f4870e6bee1fc"
     }
    },
    "5dbe6c2782ac40ac8bfc89bdfc2b814b": {
     "model_module": "@jupyter-widgets/base",
     "model_module_version": "1.2.0",
     "model_name": "LayoutModel",
     "state": {
      "_model_module": "@jupyter-widgets/base",
      "_model_module_version": "1.2.0",
      "_model_name": "LayoutModel",
      "_view_count": null,
      "_view_module": "@jupyter-widgets/base",
      "_view_module_version": "1.2.0",
      "_view_name": "LayoutView",
      "align_content": null,
      "align_items": null,
      "align_self": null,
      "border": null,
      "bottom": null,
      "display": null,
      "flex": null,
      "flex_flow": null,
      "grid_area": null,
      "grid_auto_columns": null,
      "grid_auto_flow": null,
      "grid_auto_rows": null,
      "grid_column": null,
      "grid_gap": null,
      "grid_row": null,
      "grid_template_areas": null,
      "grid_template_columns": null,
      "grid_template_rows": null,
      "height": null,
      "justify_content": null,
      "justify_items": null,
      "left": null,
      "margin": null,
      "max_height": null,
      "max_width": null,
      "min_height": null,
      "min_width": null,
      "object_fit": null,
      "object_position": null,
      "order": null,
      "overflow": null,
      "overflow_x": null,
      "overflow_y": null,
      "padding": null,
      "right": null,
      "top": null,
      "visibility": null,
      "width": null
     }
    },
    "5e5bd7ed232a48cb975e0770dd19f88b": {
     "model_module": "@jupyter-widgets/base",
     "model_module_version": "1.2.0",
     "model_name": "LayoutModel",
     "state": {
      "_model_module": "@jupyter-widgets/base",
      "_model_module_version": "1.2.0",
      "_model_name": "LayoutModel",
      "_view_count": null,
      "_view_module": "@jupyter-widgets/base",
      "_view_module_version": "1.2.0",
      "_view_name": "LayoutView",
      "align_content": null,
      "align_items": null,
      "align_self": null,
      "border": null,
      "bottom": null,
      "display": null,
      "flex": null,
      "flex_flow": null,
      "grid_area": null,
      "grid_auto_columns": null,
      "grid_auto_flow": null,
      "grid_auto_rows": null,
      "grid_column": null,
      "grid_gap": null,
      "grid_row": null,
      "grid_template_areas": null,
      "grid_template_columns": null,
      "grid_template_rows": null,
      "height": null,
      "justify_content": null,
      "justify_items": null,
      "left": null,
      "margin": null,
      "max_height": null,
      "max_width": null,
      "min_height": null,
      "min_width": null,
      "object_fit": null,
      "object_position": null,
      "order": null,
      "overflow": null,
      "overflow_x": null,
      "overflow_y": null,
      "padding": null,
      "right": null,
      "top": null,
      "visibility": null,
      "width": null
     }
    },
    "712759a8abcf49249b21f97338f038a1": {
     "model_module": "@jupyter-widgets/controls",
     "model_module_version": "1.5.0",
     "model_name": "ProgressStyleModel",
     "state": {
      "_model_module": "@jupyter-widgets/controls",
      "_model_module_version": "1.5.0",
      "_model_name": "ProgressStyleModel",
      "_view_count": null,
      "_view_module": "@jupyter-widgets/base",
      "_view_module_version": "1.2.0",
      "_view_name": "StyleView",
      "bar_color": null,
      "description_width": ""
     }
    },
    "79a51484a737439aac0b31602961fb58": {
     "model_module": "@jupyter-widgets/controls",
     "model_module_version": "1.5.0",
     "model_name": "DescriptionStyleModel",
     "state": {
      "_model_module": "@jupyter-widgets/controls",
      "_model_module_version": "1.5.0",
      "_model_name": "DescriptionStyleModel",
      "_view_count": null,
      "_view_module": "@jupyter-widgets/base",
      "_view_module_version": "1.2.0",
      "_view_name": "StyleView",
      "description_width": ""
     }
    },
    "8e620340d1da4134b44f4870e6bee1fc": {
     "model_module": "@jupyter-widgets/base",
     "model_module_version": "1.2.0",
     "model_name": "LayoutModel",
     "state": {
      "_model_module": "@jupyter-widgets/base",
      "_model_module_version": "1.2.0",
      "_model_name": "LayoutModel",
      "_view_count": null,
      "_view_module": "@jupyter-widgets/base",
      "_view_module_version": "1.2.0",
      "_view_name": "LayoutView",
      "align_content": null,
      "align_items": null,
      "align_self": null,
      "border": null,
      "bottom": null,
      "display": null,
      "flex": null,
      "flex_flow": null,
      "grid_area": null,
      "grid_auto_columns": null,
      "grid_auto_flow": null,
      "grid_auto_rows": null,
      "grid_column": null,
      "grid_gap": null,
      "grid_row": null,
      "grid_template_areas": null,
      "grid_template_columns": null,
      "grid_template_rows": null,
      "height": null,
      "justify_content": null,
      "justify_items": null,
      "left": null,
      "margin": null,
      "max_height": null,
      "max_width": null,
      "min_height": null,
      "min_width": null,
      "object_fit": null,
      "object_position": null,
      "order": null,
      "overflow": null,
      "overflow_x": null,
      "overflow_y": null,
      "padding": null,
      "right": null,
      "top": null,
      "visibility": null,
      "width": null
     }
    },
    "b25a659400444ee4927516231ca75fe4": {
     "model_module": "@jupyter-widgets/controls",
     "model_module_version": "1.5.0",
     "model_name": "FloatProgressModel",
     "state": {
      "_dom_classes": [],
      "_model_module": "@jupyter-widgets/controls",
      "_model_module_version": "1.5.0",
      "_model_name": "FloatProgressModel",
      "_view_count": null,
      "_view_module": "@jupyter-widgets/controls",
      "_view_module_version": "1.5.0",
      "_view_name": "ProgressView",
      "bar_style": "success",
      "description": "",
      "description_tooltip": null,
      "layout": "IPY_MODEL_5dbe6c2782ac40ac8bfc89bdfc2b814b",
      "max": 50,
      "min": 0,
      "orientation": "horizontal",
      "style": "IPY_MODEL_712759a8abcf49249b21f97338f038a1",
      "value": 50
     }
    },
    "b9f081ad7f6349698399ca062e4789fe": {
     "model_module": "@jupyter-widgets/controls",
     "model_module_version": "1.5.0",
     "model_name": "HBoxModel",
     "state": {
      "_dom_classes": [],
      "_model_module": "@jupyter-widgets/controls",
      "_model_module_version": "1.5.0",
      "_model_name": "HBoxModel",
      "_view_count": null,
      "_view_module": "@jupyter-widgets/controls",
      "_view_module_version": "1.5.0",
      "_view_name": "HBoxView",
      "box_style": "",
      "children": [
       "IPY_MODEL_1c8a6d97b2d244328ca08ab80ee7c60e",
       "IPY_MODEL_b25a659400444ee4927516231ca75fe4",
       "IPY_MODEL_3728563ef34149e0bddb2d7e8436c94e"
      ],
      "layout": "IPY_MODEL_cebf41b95556429091b9d3c63cd89b5e"
     }
    },
    "bbc474c7c4c44390b9dc823f55d2fa0b": {
     "model_module": "@jupyter-widgets/base",
     "model_module_version": "1.2.0",
     "model_name": "LayoutModel",
     "state": {
      "_model_module": "@jupyter-widgets/base",
      "_model_module_version": "1.2.0",
      "_model_name": "LayoutModel",
      "_view_count": null,
      "_view_module": "@jupyter-widgets/base",
      "_view_module_version": "1.2.0",
      "_view_name": "LayoutView",
      "align_content": null,
      "align_items": null,
      "align_self": null,
      "border": null,
      "bottom": null,
      "display": null,
      "flex": null,
      "flex_flow": null,
      "grid_area": null,
      "grid_auto_columns": null,
      "grid_auto_flow": null,
      "grid_auto_rows": null,
      "grid_column": null,
      "grid_gap": null,
      "grid_row": null,
      "grid_template_areas": null,
      "grid_template_columns": null,
      "grid_template_rows": null,
      "height": null,
      "justify_content": null,
      "justify_items": null,
      "left": null,
      "margin": null,
      "max_height": null,
      "max_width": null,
      "min_height": null,
      "min_width": null,
      "object_fit": null,
      "object_position": null,
      "order": null,
      "overflow": null,
      "overflow_x": null,
      "overflow_y": null,
      "padding": null,
      "right": null,
      "top": null,
      "visibility": null,
      "width": null
     }
    },
    "c2251c3b24a944ffa3760423fe23e0c7": {
     "model_module": "@jupyter-widgets/controls",
     "model_module_version": "1.5.0",
     "model_name": "DescriptionStyleModel",
     "state": {
      "_model_module": "@jupyter-widgets/controls",
      "_model_module_version": "1.5.0",
      "_model_name": "DescriptionStyleModel",
      "_view_count": null,
      "_view_module": "@jupyter-widgets/base",
      "_view_module_version": "1.2.0",
      "_view_name": "StyleView",
      "description_width": ""
     }
    },
    "cebf41b95556429091b9d3c63cd89b5e": {
     "model_module": "@jupyter-widgets/base",
     "model_module_version": "1.2.0",
     "model_name": "LayoutModel",
     "state": {
      "_model_module": "@jupyter-widgets/base",
      "_model_module_version": "1.2.0",
      "_model_name": "LayoutModel",
      "_view_count": null,
      "_view_module": "@jupyter-widgets/base",
      "_view_module_version": "1.2.0",
      "_view_name": "LayoutView",
      "align_content": null,
      "align_items": null,
      "align_self": null,
      "border": null,
      "bottom": null,
      "display": null,
      "flex": null,
      "flex_flow": null,
      "grid_area": null,
      "grid_auto_columns": null,
      "grid_auto_flow": null,
      "grid_auto_rows": null,
      "grid_column": null,
      "grid_gap": null,
      "grid_row": null,
      "grid_template_areas": null,
      "grid_template_columns": null,
      "grid_template_rows": null,
      "height": null,
      "justify_content": null,
      "justify_items": null,
      "left": null,
      "margin": null,
      "max_height": null,
      "max_width": null,
      "min_height": null,
      "min_width": null,
      "object_fit": null,
      "object_position": null,
      "order": null,
      "overflow": null,
      "overflow_x": null,
      "overflow_y": null,
      "padding": null,
      "right": null,
      "top": null,
      "visibility": null,
      "width": null
     }
    },
    "d2762f2e51894d0e978a18723f00ae70": {
     "model_module": "@jupyter-widgets/controls",
     "model_module_version": "1.5.0",
     "model_name": "DescriptionStyleModel",
     "state": {
      "_model_module": "@jupyter-widgets/controls",
      "_model_module_version": "1.5.0",
      "_model_name": "DescriptionStyleModel",
      "_view_count": null,
      "_view_module": "@jupyter-widgets/base",
      "_view_module_version": "1.2.0",
      "_view_name": "StyleView",
      "description_width": ""
     }
    },
    "db883679aacf465a8a1a3b8a51c4b467": {
     "model_module": "@jupyter-widgets/controls",
     "model_module_version": "1.5.0",
     "model_name": "HTMLModel",
     "state": {
      "_dom_classes": [],
      "_model_module": "@jupyter-widgets/controls",
      "_model_module_version": "1.5.0",
      "_model_name": "HTMLModel",
      "_view_count": null,
      "_view_module": "@jupyter-widgets/controls",
      "_view_module_version": "1.5.0",
      "_view_name": "HTMLView",
      "description": "",
      "description_tooltip": null,
      "layout": "IPY_MODEL_f1d1bf122e794475ab82f294d3ed8904",
      "placeholder": "​",
      "style": "IPY_MODEL_e5278f35ec6941f7af3a63105f567b37",
      "value": " 92/493 [00:21&lt;01:33,  4.30it/s]"
     }
    },
    "dfbf8a96b38e46cbad67061c7c91c754": {
     "model_module": "@jupyter-widgets/base",
     "model_module_version": "1.2.0",
     "model_name": "LayoutModel",
     "state": {
      "_model_module": "@jupyter-widgets/base",
      "_model_module_version": "1.2.0",
      "_model_name": "LayoutModel",
      "_view_count": null,
      "_view_module": "@jupyter-widgets/base",
      "_view_module_version": "1.2.0",
      "_view_name": "LayoutView",
      "align_content": null,
      "align_items": null,
      "align_self": null,
      "border": null,
      "bottom": null,
      "display": null,
      "flex": null,
      "flex_flow": null,
      "grid_area": null,
      "grid_auto_columns": null,
      "grid_auto_flow": null,
      "grid_auto_rows": null,
      "grid_column": null,
      "grid_gap": null,
      "grid_row": null,
      "grid_template_areas": null,
      "grid_template_columns": null,
      "grid_template_rows": null,
      "height": null,
      "justify_content": null,
      "justify_items": null,
      "left": null,
      "margin": null,
      "max_height": null,
      "max_width": null,
      "min_height": null,
      "min_width": null,
      "object_fit": null,
      "object_position": null,
      "order": null,
      "overflow": null,
      "overflow_x": null,
      "overflow_y": null,
      "padding": null,
      "right": null,
      "top": null,
      "visibility": null,
      "width": null
     }
    },
    "e5278f35ec6941f7af3a63105f567b37": {
     "model_module": "@jupyter-widgets/controls",
     "model_module_version": "1.5.0",
     "model_name": "DescriptionStyleModel",
     "state": {
      "_model_module": "@jupyter-widgets/controls",
      "_model_module_version": "1.5.0",
      "_model_name": "DescriptionStyleModel",
      "_view_count": null,
      "_view_module": "@jupyter-widgets/base",
      "_view_module_version": "1.2.0",
      "_view_name": "StyleView",
      "description_width": ""
     }
    },
    "ed656b4c3d974cba856d16c30fee4b2c": {
     "model_module": "@jupyter-widgets/controls",
     "model_module_version": "1.5.0",
     "model_name": "FloatProgressModel",
     "state": {
      "_dom_classes": [],
      "_model_module": "@jupyter-widgets/controls",
      "_model_module_version": "1.5.0",
      "_model_name": "FloatProgressModel",
      "_view_count": null,
      "_view_module": "@jupyter-widgets/controls",
      "_view_module_version": "1.5.0",
      "_view_name": "ProgressView",
      "bar_style": "danger",
      "description": "",
      "description_tooltip": null,
      "layout": "IPY_MODEL_5e5bd7ed232a48cb975e0770dd19f88b",
      "max": 493,
      "min": 0,
      "orientation": "horizontal",
      "style": "IPY_MODEL_eeeb76eb45454d028176e7239a9189ff",
      "value": 92
     }
    },
    "eeeb76eb45454d028176e7239a9189ff": {
     "model_module": "@jupyter-widgets/controls",
     "model_module_version": "1.5.0",
     "model_name": "ProgressStyleModel",
     "state": {
      "_model_module": "@jupyter-widgets/controls",
      "_model_module_version": "1.5.0",
      "_model_name": "ProgressStyleModel",
      "_view_count": null,
      "_view_module": "@jupyter-widgets/base",
      "_view_module_version": "1.2.0",
      "_view_name": "StyleView",
      "bar_color": null,
      "description_width": ""
     }
    },
    "f1d1bf122e794475ab82f294d3ed8904": {
     "model_module": "@jupyter-widgets/base",
     "model_module_version": "1.2.0",
     "model_name": "LayoutModel",
     "state": {
      "_model_module": "@jupyter-widgets/base",
      "_model_module_version": "1.2.0",
      "_model_name": "LayoutModel",
      "_view_count": null,
      "_view_module": "@jupyter-widgets/base",
      "_view_module_version": "1.2.0",
      "_view_name": "LayoutView",
      "align_content": null,
      "align_items": null,
      "align_self": null,
      "border": null,
      "bottom": null,
      "display": null,
      "flex": null,
      "flex_flow": null,
      "grid_area": null,
      "grid_auto_columns": null,
      "grid_auto_flow": null,
      "grid_auto_rows": null,
      "grid_column": null,
      "grid_gap": null,
      "grid_row": null,
      "grid_template_areas": null,
      "grid_template_columns": null,
      "grid_template_rows": null,
      "height": null,
      "justify_content": null,
      "justify_items": null,
      "left": null,
      "margin": null,
      "max_height": null,
      "max_width": null,
      "min_height": null,
      "min_width": null,
      "object_fit": null,
      "object_position": null,
      "order": null,
      "overflow": null,
      "overflow_x": null,
      "overflow_y": null,
      "padding": null,
      "right": null,
      "top": null,
      "visibility": null,
      "width": null
     }
    }
   }
  }
 },
 "nbformat": 4,
 "nbformat_minor": 4
}
