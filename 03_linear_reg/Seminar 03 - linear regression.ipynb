{
 "cells": [
  {
   "cell_type": "markdown",
   "metadata": {
    "id": "9qzz8VxBmcCP"
   },
   "source": [
    "# Семинар # 3 – Линейные модели"
   ]
  },
  {
   "cell_type": "code",
   "execution_count": null,
   "metadata": {
    "executionInfo": {
     "elapsed": 1927,
     "status": "ok",
     "timestamp": 1601992256055,
     "user": {
      "displayName": "Даниил Русланович Махоткин",
      "photoUrl": "",
      "userId": "18336248573599285046"
     },
     "user_tz": -180
    },
    "id": "OHIDwk_omcCQ"
   },
   "outputs": [],
   "source": [
    "import numpy as np\n",
    "import pandas as pd\n",
    "import matplotlib.pyplot as plt\n",
    "import scipy.stats as st\n",
    "import warnings\n",
    "warnings.simplefilter('ignore')\n",
    "\n",
    "%matplotlib inline"
   ]
  },
  {
   "cell_type": "markdown",
   "metadata": {
    "id": "LIZnmyhM622x"
   },
   "source": [
    "# 1. Постановка задачи"
   ]
  },
  {
   "cell_type": "markdown",
   "metadata": {
    "id": "2nIJ87Z3K9GI"
   },
   "source": [
    "Линейная модель - это: $$ \\hat{y} = f(x) = \\theta_0*1 + \\theta_1*x_1 + ... + \\theta_n*x_n = \\theta^T*X$$"
   ]
  },
  {
   "cell_type": "markdown",
   "metadata": {
    "id": "hf_S9ZcpmcCV"
   },
   "source": [
    "Сгенерируем исскуственные данные, на основе функции:\n",
    "$$f(x) = 4x+5$$"
   ]
  },
  {
   "cell_type": "code",
   "execution_count": null,
   "metadata": {
    "executionInfo": {
     "elapsed": 866,
     "status": "ok",
     "timestamp": 1601993615352,
     "user": {
      "displayName": "Даниил Русланович Махоткин",
      "photoUrl": "",
      "userId": "18336248573599285046"
     },
     "user_tz": -180
    },
    "id": "acxSQ_I3mcCV"
   },
   "outputs": [],
   "source": [
    "def lin_function(x):\n",
    "    return 4*x+5\n",
    "\n",
    "x_true = np.array([-2,2])\n",
    "y_true = lin_function(x_true)\n"
   ]
  },
  {
   "cell_type": "code",
   "execution_count": null,
   "metadata": {
    "colab": {
     "base_uri": "https://localhost:8080/",
     "height": 265
    },
    "executionInfo": {
     "elapsed": 875,
     "status": "ok",
     "timestamp": 1601993616941,
     "user": {
      "displayName": "Даниил Русланович Махоткин",
      "photoUrl": "",
      "userId": "18336248573599285046"
     },
     "user_tz": -180
    },
    "id": "_hON0uHxmcCY",
    "outputId": "626fb9a5-e606-4676-af73-5b574b9e66d6"
   },
   "outputs": [],
   "source": [
    "plt.plot(x_true, y_true, linewidth=1)\n",
    "plt.show()"
   ]
  },
  {
   "cell_type": "code",
   "execution_count": null,
   "metadata": {
    "executionInfo": {
     "elapsed": 1554,
     "status": "ok",
     "timestamp": 1601995728137,
     "user": {
      "displayName": "Даниил Русланович Махоткин",
      "photoUrl": "",
      "userId": "18336248573599285046"
     },
     "user_tz": -180
    },
    "id": "cyJnzIL-mcCc"
   },
   "outputs": [],
   "source": [
    "n = 100\n",
    "x = np.random.rand(n, 1) * 4 - 2\n",
    "e = np.random.rand(n, 1) * 4 - 2\n",
    "y = lin_function(x) + e\n"
   ]
  },
  {
   "cell_type": "code",
   "execution_count": null,
   "metadata": {
    "colab": {
     "base_uri": "https://localhost:8080/",
     "height": 269
    },
    "executionInfo": {
     "elapsed": 1155,
     "status": "ok",
     "timestamp": 1601995728139,
     "user": {
      "displayName": "Даниил Русланович Махоткин",
      "photoUrl": "",
      "userId": "18336248573599285046"
     },
     "user_tz": -180
    },
    "id": "kyuP8fdjmcCh",
    "outputId": "cabe69a1-1a58-4f0b-c416-fe105504027f"
   },
   "outputs": [],
   "source": [
    "plt.scatter(x, y, color='g')\n",
    "plt.plot(x_true, y_true, linewidth=1)\n",
    "plt.show()"
   ]
  },
  {
   "cell_type": "markdown",
   "metadata": {
    "id": "B0RU2rp7660u"
   },
   "source": [
    "# 2. Метрики"
   ]
  },
  {
   "cell_type": "markdown",
   "metadata": {
    "id": "0AyXrS8NuU7s"
   },
   "source": [
    "Mean Absoulte Error:\n",
    "$$MAE = \\frac1N \\sum_{i = 1}^N|f(x_i) - y_i| = \\frac1N \\sum_{i = 1}^N|\\hat y_i - y_i| = \\frac1N || \\hat Y - Y||_1$$\n",
    "\n",
    "Mean Sqared Error:\n",
    "$$MSE = \\frac1N \\sum_{i = 1}^N(f(x_i) - y_i)^2 = \\frac1N \\sum_{i = 1}^N(\\hat y_i - y_i)^2 = \\frac1N ||\\hat Y - Y||_2$$\n"
   ]
  },
  {
   "cell_type": "markdown",
   "metadata": {
    "id": "diTgxQhTk7p5"
   },
   "source": [
    "Почему работаем с MSE?"
   ]
  },
  {
   "cell_type": "markdown",
   "metadata": {
    "id": "jlZoGsHumcCj"
   },
   "source": [
    "# 3. Аналитический метод поиска минимума по МНК\n",
    "\n",
    "$$MSE -> min $$\n",
    "\n",
    "$$MSE = \\frac1N \\sum_{i = 1}^N(\\hat y_i - y_i)^2 = \\frac1N \\sum_{i = 1}^N(\\theta_i * x_i - y_i)^2 = \\frac1N ||X \\theta - Y||_2 = \\frac1N (X\\theta - Y)^T*(X\\theta - Y) $$\n",
    "\n",
    "\n",
    "\n",
    "$$ \\frac{d}{d\\theta}[\\frac1N (X\\theta - Y)^T*(X\\theta - Y)] =  \\frac1N \\frac{d}{d\\theta}[Y^TY - 2Y^TX\\theta+\\theta^TX^TX\\theta]  $$\n",
    "\n",
    "$$\\hat \\theta = \\bigl(X^T \\cdot X  \\bigr)^{-1} \\cdot X^T \\cdot y $$"
   ]
  },
  {
   "cell_type": "code",
   "execution_count": null,
   "metadata": {
    "executionInfo": {
     "elapsed": 846,
     "status": "ok",
     "timestamp": 1601995807538,
     "user": {
      "displayName": "Даниил Русланович Махоткин",
      "photoUrl": "",
      "userId": "18336248573599285046"
     },
     "user_tz": -180
    },
    "id": "DpPN_x3LmcCk"
   },
   "outputs": [],
   "source": [
    "x_matrix = np.c_[np.ones((n, 1)), x]"
   ]
  },
  {
   "cell_type": "code",
   "execution_count": null,
   "metadata": {
    "colab": {
     "base_uri": "https://localhost:8080/",
     "height": 51
    },
    "executionInfo": {
     "elapsed": 1149,
     "status": "ok",
     "timestamp": 1601995810339,
     "user": {
      "displayName": "Даниил Русланович Махоткин",
      "photoUrl": "",
      "userId": "18336248573599285046"
     },
     "user_tz": -180
    },
    "id": "Xyl_DlNxmcCm",
    "outputId": "f069510f-c2b4-49a0-c58c-7ff299506af9"
   },
   "outputs": [],
   "source": [
    "%%time\n",
    "thetha_matrix = None # <Ваш код>"
   ]
  },
  {
   "cell_type": "markdown",
   "metadata": {
    "id": "nXOGL_565vuT"
   },
   "source": [
    "Обратите внимание на время работы"
   ]
  },
  {
   "cell_type": "code",
   "execution_count": null,
   "metadata": {
    "colab": {
     "base_uri": "https://localhost:8080/",
     "height": 34
    },
    "executionInfo": {
     "elapsed": 997,
     "status": "ok",
     "timestamp": 1601994026706,
     "user": {
      "displayName": "Даниил Русланович Махоткин",
      "photoUrl": "",
      "userId": "18336248573599285046"
     },
     "user_tz": -180
    },
    "id": "_KdJY9u3mcCp",
    "outputId": "3371768a-1795-4967-dbb4-eddd3c864025"
   },
   "outputs": [],
   "source": [
    "thetha_matrix.T[0].tolist()"
   ]
  },
  {
   "cell_type": "code",
   "execution_count": null,
   "metadata": {
    "colab": {
     "base_uri": "https://localhost:8080/",
     "height": 51
    },
    "executionInfo": {
     "elapsed": 712,
     "status": "ok",
     "timestamp": 1601994026709,
     "user": {
      "displayName": "Даниил Русланович Махоткин",
      "photoUrl": "",
      "userId": "18336248573599285046"
     },
     "user_tz": -180
    },
    "id": "ttSXH751mcCs",
    "outputId": "62893034-14e8-4dbf-86f1-8e511c52fbeb"
   },
   "outputs": [],
   "source": [
    "print(\"Свободный член: {[0][0]:.7}\".format(thetha_matrix.T))\n",
    "print(\"Коэфициент: {[0][1]:.7}\".format(thetha_matrix.T))"
   ]
  },
  {
   "cell_type": "code",
   "execution_count": null,
   "metadata": {
    "executionInfo": {
     "elapsed": 831,
     "status": "ok",
     "timestamp": 1601994038937,
     "user": {
      "displayName": "Даниил Русланович Махоткин",
      "photoUrl": "",
      "userId": "18336248573599285046"
     },
     "user_tz": -180
    },
    "id": "TnTy0lWrmcCu"
   },
   "outputs": [],
   "source": [
    "from sklearn.metrics import mean_squared_error\n",
    "from sklearn.linear_model import LinearRegression"
   ]
  },
  {
   "cell_type": "markdown",
   "metadata": {
    "id": "y9ZdhyYWBoHn"
   },
   "source": [
    "параметры"
   ]
  },
  {
   "cell_type": "code",
   "execution_count": null,
   "metadata": {
    "colab": {
     "base_uri": "https://localhost:8080/",
     "height": 51
    },
    "executionInfo": {
     "elapsed": 834,
     "status": "ok",
     "timestamp": 1601994048478,
     "user": {
      "displayName": "Даниил Русланович Махоткин",
      "photoUrl": "",
      "userId": "18336248573599285046"
     },
     "user_tz": -180
    },
    "id": "NXCSCMOkmcCw",
    "outputId": "7fc67088-8c77-45e1-a5ae-f0baa658d945"
   },
   "outputs": [],
   "source": [
    "%%time\n",
    "lr = LinearRegression()\n",
    "lr.fit(x,y);"
   ]
  },
  {
   "cell_type": "code",
   "execution_count": null,
   "metadata": {
    "colab": {
     "base_uri": "https://localhost:8080/",
     "height": 51
    },
    "executionInfo": {
     "elapsed": 1085,
     "status": "ok",
     "timestamp": 1601994068880,
     "user": {
      "displayName": "Даниил Русланович Махоткин",
      "photoUrl": "",
      "userId": "18336248573599285046"
     },
     "user_tz": -180
    },
    "id": "p0NPdTrqmcCz",
    "outputId": "db241b51-2643-4880-bffb-30d824d090a6"
   },
   "outputs": [],
   "source": [
    "print(\"Свободный член: {:.7}\".format(lr.intercept_[0]))\n",
    "print(\"Коэфициент: {:.7}\".format(lr.coef_[0][0]))"
   ]
  },
  {
   "cell_type": "code",
   "execution_count": null,
   "metadata": {
    "colab": {
     "base_uri": "https://localhost:8080/",
     "height": 265
    },
    "executionInfo": {
     "elapsed": 1479,
     "status": "ok",
     "timestamp": 1601994069766,
     "user": {
      "displayName": "Даниил Русланович Махоткин",
      "photoUrl": "",
      "userId": "18336248573599285046"
     },
     "user_tz": -180
    },
    "id": "w1jyDLd8mcC1",
    "outputId": "9b225dfb-b4d3-4290-a1cc-ad9c96af4bec"
   },
   "outputs": [],
   "source": [
    "plt.scatter(x, y, color='g')\n",
    "plt.scatter(x, lr.predict(x), color='r')\n",
    "plt.plot(x_true, y_true, linewidth=1)\n",
    "plt.show()"
   ]
  },
  {
   "cell_type": "markdown",
   "metadata": {
    "id": "8FnBwOCBmcC4"
   },
   "source": [
    " # 4. Градиентный спуск\n",
    "\n",
    "$$\\theta^{(t+1)} = \\theta^{(t)} - lr\\cdot \\nabla MSE(\\theta^{(t)}),$$\n",
    "где $lr$ — длина шага градиентного спуска (learning rate).\n",
    "\n",
    "$$\\nabla MSE(\\theta)= \\frac{2}{N} X^T \\cdot \\bigl(X \\cdot \\theta - Y \\bigr) $$"
   ]
  },
  {
   "cell_type": "code",
   "execution_count": null,
   "metadata": {},
   "outputs": [],
   "source": [
    "def linear_backward(x, y, theta):\n",
    "    gradients = 0 # <Ваш код>\n",
    "    \n",
    "    return gradients\n",
    "\n",
    "\n",
    "def update_theta(theta, gradient, lr):\n",
    "    theta = 0 # <Ваш код>\n",
    "    \n",
    "    return theta "
   ]
  },
  {
   "cell_type": "code",
   "execution_count": null,
   "metadata": {},
   "outputs": [],
   "source": [
    "x_matrix.shape"
   ]
  },
  {
   "cell_type": "code",
   "execution_count": null,
   "metadata": {
    "colab": {
     "base_uri": "https://localhost:8080/",
     "height": 333
    },
    "executionInfo": {
     "elapsed": 1492,
     "status": "ok",
     "timestamp": 1601994313563,
     "user": {
      "displayName": "Даниил Русланович Махоткин",
      "photoUrl": "",
      "userId": "18336248573599285046"
     },
     "user_tz": -180
    },
    "id": "Tc-2s7b1mcC5",
    "outputId": "de52ad5d-5db3-4f21-9df4-d5ca3237694f"
   },
   "outputs": [],
   "source": [
    "%%time\n",
    "lr = 0.1  # learning rate\n",
    "n_iterations = 150\n",
    "\n",
    "\n",
    "theta = np.random.randn(2,1)  # random initialization\n",
    "\n",
    "plt.scatter(x, y, color='g')\n",
    "\n",
    "for iteration in range(n_iterations):\n",
    "    if iteration < 10:\n",
    "        plt.plot(x_true, x_true*theta[1]+theta[0], linewidth=1, color='r')\n",
    "        \n",
    "    gradients = linear_backward(x_matrix, y, theta)\n",
    "    theta = update_theta(theta, gradients, lr)\n",
    "\n",
    "plt.plot(x_true, y_true, linewidth=1)\n",
    "plt.show()\n",
    "\n",
    "print(theta)"
   ]
  },
  {
   "cell_type": "markdown",
   "metadata": {
    "id": "ePexWV3YmcC7"
   },
   "source": [
    "## Слишком маленький шаг обучения (learning rate)"
   ]
  },
  {
   "cell_type": "code",
   "execution_count": null,
   "metadata": {
    "colab": {
     "base_uri": "https://localhost:8080/",
     "height": 265
    },
    "executionInfo": {
     "elapsed": 1788,
     "status": "ok",
     "timestamp": 1601994351757,
     "user": {
      "displayName": "Даниил Русланович Махоткин",
      "photoUrl": "",
      "userId": "18336248573599285046"
     },
     "user_tz": -180
    },
    "id": "dtjoXyJpmcC8",
    "outputId": "56451c9f-0d3b-4521-d781-ac476b3b7797"
   },
   "outputs": [],
   "source": [
    "lr = 0.01  # learning rate\n",
    "n_iterations = 100\n",
    "\n",
    "\n",
    "theta = np.random.randn(2,1)  # random initialization\n",
    "\n",
    "plt.scatter(x, y, color='g')\n",
    "\n",
    "for iteration in range(n_iterations):\n",
    "    if iteration < 10:\n",
    "        plt.plot(x_true, x_true*theta[1]+theta[0], linewidth=1, color='r')\n",
    "        \n",
    "    gradients = linear_backward(x_matrix, theta)\n",
    "    theta = update_theta(theta, gradients, lr)\n",
    "\n",
    "plt.plot(x_true, y_true, linewidth=1)\n",
    "plt.show()"
   ]
  },
  {
   "cell_type": "markdown",
   "metadata": {
    "id": "snN6fStEmcC-"
   },
   "source": [
    "## Слишком большой шаг обучения (learning rate)"
   ]
  },
  {
   "cell_type": "code",
   "execution_count": null,
   "metadata": {
    "colab": {
     "base_uri": "https://localhost:8080/",
     "height": 265
    },
    "executionInfo": {
     "elapsed": 1568,
     "status": "ok",
     "timestamp": 1601994387102,
     "user": {
      "displayName": "Даниил Русланович Махоткин",
      "photoUrl": "",
      "userId": "18336248573599285046"
     },
     "user_tz": -180
    },
    "id": "4FZczKPTmcC-",
    "outputId": "2e2fda17-6edf-46b8-8602-a6a8c4ee214d"
   },
   "outputs": [],
   "source": [
    "lr = 1.01  # learning rate\n",
    "n_iterations = 100\n",
    "\n",
    "\n",
    "theta = np.random.randn(2,1)  # random initialization\n",
    "\n",
    "plt.scatter(x, y, color='g')\n",
    "\n",
    "for iteration in range(n_iterations):\n",
    "    if iteration < 10:\n",
    "        plt.plot(x_true, x_true*theta[1]+theta[0], linewidth=1, color='r')\n",
    "        \n",
    "    gradients = linear_backward(x_matrix, y, theta)\n",
    "    theta = update_theta(theta, gradients, lr)\n",
    "\n",
    "plt.plot(x_true, y_true, linewidth=1)\n",
    "plt.show()"
   ]
  },
  {
   "cell_type": "markdown",
   "metadata": {
    "id": "oXNYyy0omcDA",
    "tags": []
   },
   "source": [
    "## Уменьшение шага на каждой итерации\n",
    "\n",
    "Предложите стратегию уменьшения шага обучения."
   ]
  },
  {
   "cell_type": "code",
   "execution_count": null,
   "metadata": {},
   "outputs": [],
   "source": [
    "def dynamic_lr(iter_num, base_lr):\n",
    "    # <Ваш код>\n",
    "    return base_lr"
   ]
  },
  {
   "cell_type": "code",
   "execution_count": null,
   "metadata": {
    "colab": {
     "base_uri": "https://localhost:8080/",
     "height": 232
    },
    "executionInfo": {
     "elapsed": 993,
     "status": "error",
     "timestamp": 1601995794381,
     "user": {
      "displayName": "Даниил Русланович Махоткин",
      "photoUrl": "",
      "userId": "18336248573599285046"
     },
     "user_tz": -180
    },
    "id": "msDjl-z7mcDA",
    "outputId": "e3687414-01a0-47cb-bb5d-7be2817f150a"
   },
   "outputs": [],
   "source": [
    "lr = 1  # learning rate\n",
    "n_iterations = 1000\n",
    "\n",
    "theta = np.random.randn(2,1)  # random initialization\n",
    "\n",
    "for iteration in range(n_iterations):\n",
    "    gradients = linear_backward(x_matrix, y, theta)\n",
    "    \n",
    "    cur_lr = dynamic_lr(iteration, lr)\n",
    "    theta = update_theta(theta, gradients, cur_lr)\n",
    "\n",
    "print(theta)"
   ]
  },
  {
   "cell_type": "markdown",
   "metadata": {
    "id": "u6mMSXaamcDD"
   },
   "source": [
    "\n",
    "\n",
    "Learning rate - гипперпараметр, и можно воспользоваться GridSearchCV, однако чтобы не учить каждый раз такое кол-во итераций, мы можем измерять норму градиента, и прекращать спуск, когда он \"затух\""
   ]
  },
  {
   "cell_type": "code",
   "execution_count": null,
   "metadata": {
    "colab": {
     "base_uri": "https://localhost:8080/",
     "height": 51
    },
    "executionInfo": {
     "elapsed": 1038,
     "status": "ok",
     "timestamp": 1601994940034,
     "user": {
      "displayName": "Даниил Русланович Махоткин",
      "photoUrl": "",
      "userId": "18336248573599285046"
     },
     "user_tz": -180
    },
    "id": "YB_ETWoQVtEN",
    "outputId": "a1581abd-a843-4fd6-a3a1-48f75094bbf8"
   },
   "outputs": [],
   "source": [
    "gradients"
   ]
  },
  {
   "cell_type": "code",
   "execution_count": null,
   "metadata": {
    "colab": {
     "base_uri": "https://localhost:8080/",
     "height": 68
    },
    "executionInfo": {
     "elapsed": 948,
     "status": "ok",
     "timestamp": 1601995819537,
     "user": {
      "displayName": "Даниил Русланович Махоткин",
      "photoUrl": "",
      "userId": "18336248573599285046"
     },
     "user_tz": -180
    },
    "id": "dSlYo4-dmcDE",
    "outputId": "be8dd24b-8f4b-49ef-993c-337ce60df445"
   },
   "outputs": [],
   "source": [
    "lr = 1  # learning rate\n",
    "n_iterations = 1000\n",
    "tol = 0.0001\n",
    "\n",
    "theta = np.random.randn(2,1)  # random initialization\n",
    "\n",
    "for iteration in range(n_iterations):\n",
    "    gradients = linear_backward(x_matrix, y, theta)\n",
    "    \n",
    "    # Проверка нормы градиента для критерия останова\n",
    "    # <Ваш код>\n",
    "        \n",
    "    cur_lr = dynamic_lr(iteration, lr)\n",
    "    theta = update_theta(theta, gradients, cur_lr)\n",
    "\n",
    "print('Градиент затух на {} итерации '.format(iteration))\n",
    "print(theta)"
   ]
  },
  {
   "cell_type": "markdown",
   "metadata": {
    "id": "sT8I2oHY_3FY"
   },
   "source": [
    "__Реализация в Scikit-Learn отсутствует__\n",
    "  \n",
    "  "
   ]
  },
  {
   "cell_type": "markdown",
   "metadata": {
    "id": "MYNgYyaAmcDG"
   },
   "source": [
    "# 5. Cтохастический градиентный спуск  "
   ]
  },
  {
   "cell_type": "markdown",
   "metadata": {
    "id": "JQkKpCQpFH5t"
   },
   "source": [
    "у среднего случайных подвыборок то же что и у всех данных"
   ]
  },
  {
   "cell_type": "code",
   "execution_count": null,
   "metadata": {},
   "outputs": [],
   "source": [
    "!pip install tqdm\n",
    "from tqdm import auto"
   ]
  },
  {
   "cell_type": "code",
   "execution_count": null,
   "metadata": {
    "colab": {
     "base_uri": "https://localhost:8080/",
     "height": 85
    },
    "executionInfo": {
     "elapsed": 3436,
     "status": "ok",
     "timestamp": 1601996017495,
     "user": {
      "displayName": "Даниил Русланович Махоткин",
      "photoUrl": "",
      "userId": "18336248573599285046"
     },
     "user_tz": -180
    },
    "id": "jxVa6nfSmcDG",
    "outputId": "095875a6-3b69-4fb4-d102-a823804709bb"
   },
   "outputs": [],
   "source": [
    "n_epochs = 100\n",
    "\n",
    "theta = np.random.randn(2,1)  # random initialization\n",
    "\n",
    "for epoch in auto.tqdm(range(n_epochs)):\n",
    "    for i in range(n):\n",
    "        # Случайная подвыборка\n",
    "        # <Ваш код>\n",
    "        xi = None\n",
    "        yi = None\n",
    "        gradients = linear_backward(xi, yi, theta)\n",
    "    \n",
    "        # Проверка нормы градиента для критерия останова\n",
    "        # <Ваш код>\n",
    "\n",
    "        cur_lr = dynamic_lr(iteration, lr)\n",
    "        theta = update_theta(theta, gradients, cur_lr)\n",
    "        \n",
    "print(theta)"
   ]
  },
  {
   "cell_type": "code",
   "execution_count": null,
   "metadata": {
    "colab": {
     "base_uri": "https://localhost:8080/",
     "height": 51
    },
    "executionInfo": {
     "elapsed": 1091,
     "status": "ok",
     "timestamp": 1601995912221,
     "user": {
      "displayName": "Даниил Русланович Махоткин",
      "photoUrl": "",
      "userId": "18336248573599285046"
     },
     "user_tz": -180
    },
    "id": "EGgItrhaYdfY",
    "outputId": "2121eb06-0bda-4426-e612-e83495fe044e"
   },
   "outputs": [],
   "source": [
    "gradients"
   ]
  },
  {
   "cell_type": "markdown",
   "metadata": {
    "id": "2bitNLOsPF9f"
   },
   "source": [
    "# 6. Пакетный градиентный спуск  "
   ]
  },
  {
   "cell_type": "code",
   "execution_count": null,
   "metadata": {
    "colab": {
     "base_uri": "https://localhost:8080/",
     "height": 51
    },
    "executionInfo": {
     "elapsed": 908,
     "status": "ok",
     "timestamp": 1601996038158,
     "user": {
      "displayName": "Даниил Русланович Махоткин",
      "photoUrl": "",
      "userId": "18336248573599285046"
     },
     "user_tz": -180
    },
    "id": "kW5gIJ5-GBwM",
    "outputId": "0ae83299-dcfc-4139-e378-6073320efa72"
   },
   "outputs": [],
   "source": [
    "n_epochs = 100\n",
    "theta = np.random.randn(2,1)  # random initialization\n",
    "\n",
    "for epoch in auto.tqdm(range(n_epochs)):\n",
    "    for i in range(n):        \n",
    "        # Пакет (батч)\n",
    "        # <Ваш код>\n",
    "        xi = None\n",
    "        yi = None\n",
    "        gradients = linear_backward(xi, yi, theta)\n",
    "    \n",
    "        # Проверка нормы градиента для критерия останова\n",
    "        # <Ваш код>\n",
    "\n",
    "        cur_lr = dynamic_lr(iteration, lr)\n",
    "        theta = update_theta(theta, gradients, cur_lr)\n",
    "        \n",
    "print(theta)"
   ]
  },
  {
   "cell_type": "code",
   "execution_count": null,
   "metadata": {
    "executionInfo": {
     "elapsed": 903,
     "status": "ok",
     "timestamp": 1601996056111,
     "user": {
      "displayName": "Даниил Русланович Махоткин",
      "photoUrl": "",
      "userId": "18336248573599285046"
     },
     "user_tz": -180
    },
    "id": "LESfaXdDmcDJ"
   },
   "outputs": [],
   "source": [
    "from sklearn.linear_model import SGDRegressor"
   ]
  },
  {
   "cell_type": "code",
   "execution_count": null,
   "metadata": {
    "colab": {
     "base_uri": "https://localhost:8080/",
     "height": 34
    },
    "executionInfo": {
     "elapsed": 580,
     "status": "ok",
     "timestamp": 1601996056489,
     "user": {
      "displayName": "Даниил Русланович Махоткин",
      "photoUrl": "",
      "userId": "18336248573599285046"
     },
     "user_tz": -180
    },
    "id": "ZW7K_6sTmcDL",
    "outputId": "6150b43d-2036-4cda-b57b-6d28678ccc47"
   },
   "outputs": [],
   "source": [
    "sgd = SGDRegressor(tol=0.0001)\n",
    "sgd.fit(x,y)\n",
    "sgd.intercept_, sgd.coef_"
   ]
  },
  {
   "cell_type": "markdown",
   "metadata": {
    "id": "pU1iVEANmcDN"
   },
   "source": [
    "# 7. Функции потерь в регрессии"
   ]
  },
  {
   "cell_type": "code",
   "execution_count": null,
   "metadata": {
    "executionInfo": {
     "elapsed": 2540,
     "status": "ok",
     "timestamp": 1601996144409,
     "user": {
      "displayName": "Даниил Русланович Махоткин",
      "photoUrl": "",
      "userId": "18336248573599285046"
     },
     "user_tz": -180
    },
    "id": "Ub-buTZOmcDN"
   },
   "outputs": [],
   "source": [
    "with open('data_preprocessed.json') as file:\n",
    "    X = pd.read_json(file)"
   ]
  },
  {
   "cell_type": "code",
   "execution_count": null,
   "metadata": {
    "executionInfo": {
     "elapsed": 1163,
     "status": "ok",
     "timestamp": 1601996154568,
     "user": {
      "displayName": "Даниил Русланович Махоткин",
      "photoUrl": "",
      "userId": "18336248573599285046"
     },
     "user_tz": -180
    },
    "id": "u4L6rangmcDQ"
   },
   "outputs": [],
   "source": [
    "X_subset = X[[7, 15]].values\n",
    "X_subset_modified = np.vstack((X_subset, [[1, 90], [2, 50]]))"
   ]
  },
  {
   "cell_type": "code",
   "execution_count": null,
   "metadata": {
    "executionInfo": {
     "elapsed": 608,
     "status": "ok",
     "timestamp": 1601996155046,
     "user": {
      "displayName": "Даниил Русланович Махоткин",
      "photoUrl": "",
      "userId": "18336248573599285046"
     },
     "user_tz": -180
    },
    "id": "8wKTaFX3mcDV"
   },
   "outputs": [],
   "source": [
    "def scatter_points_and_plot_line_MSE(X_subset):\n",
    "    plt.scatter(X_subset[:, 0], X_subset[:, 1])\n",
    "    lr = LinearRegression()\n",
    "    lr.fit(X_subset[:, 0][:, None], X_subset[:, 1])\n",
    "    grid = np.linspace(0, 2, 100)\n",
    "    line = lr.predict(grid[:, None])\n",
    "    plt.plot(grid, line)"
   ]
  },
  {
   "cell_type": "code",
   "execution_count": null,
   "metadata": {
    "colab": {
     "base_uri": "https://localhost:8080/",
     "height": 355
    },
    "executionInfo": {
     "elapsed": 1182,
     "status": "ok",
     "timestamp": 1601996160473,
     "user": {
      "displayName": "Даниил Русланович Махоткин",
      "photoUrl": "",
      "userId": "18336248573599285046"
     },
     "user_tz": -180
    },
    "id": "HOpKg5uqmcDY",
    "outputId": "c1efb435-ed7f-491d-c10c-bdabf71b92f3"
   },
   "outputs": [],
   "source": [
    "plt.figure(figsize=(20, 5))\n",
    "plt.subplot(1, 2, 1)\n",
    "scatter_points_and_plot_line_MSE(X_subset)\n",
    "plt.ylim(-20, 100)\n",
    "plt.xlabel(\"x\")\n",
    "plt.ylabel(\"y\")\n",
    "plt.subplot(1, 2, 2)\n",
    "scatter_points_and_plot_line_MSE(X_subset_modified)\n",
    "plt.ylim(-20, 100)\n",
    "plt.xlabel(\"x\")"
   ]
  },
  {
   "cell_type": "markdown",
   "metadata": {
    "id": "MMDn4-x3mcDa"
   },
   "source": [
    "Из-за шумовых объектов прямая достаточно сильно изменила наклон. Поэтому вместо MSE часто используют Mean Absoulte Error:\n",
    "$$L(y_i, a(x_i)) = |y_i - a(x_i)|$$\n",
    "\n",
    "Теперь обучим регрессию, оптимизируя MAE. В sklearn такая регрессия не реализована, но можно использовать модуль statsmodels"
   ]
  },
  {
   "cell_type": "code",
   "execution_count": null,
   "metadata": {
    "colab": {
     "base_uri": "https://localhost:8080/",
     "height": 292
    },
    "executionInfo": {
     "elapsed": 9335,
     "status": "ok",
     "timestamp": 1601996206956,
     "user": {
      "displayName": "Даниил Русланович Махоткин",
      "photoUrl": "",
      "userId": "18336248573599285046"
     },
     "user_tz": -180
    },
    "id": "0eiecX9zmcDb",
    "outputId": "cbf0d92c-7d2f-4dfa-d344-f2d85b8e096b"
   },
   "outputs": [],
   "source": [
    "!pip install statsmodels==0.11.1\n",
    "import statsmodels.api as sm\n",
    "import statsmodels.formula.api as smf"
   ]
  },
  {
   "cell_type": "code",
   "execution_count": null,
   "metadata": {
    "colab": {
     "base_uri": "https://localhost:8080/",
     "height": 355
    },
    "executionInfo": {
     "elapsed": 926,
     "status": "ok",
     "timestamp": 1601996215147,
     "user": {
      "displayName": "Даниил Русланович Махоткин",
      "photoUrl": "",
      "userId": "18336248573599285046"
     },
     "user_tz": -180
    },
    "id": "4d86JGdjmcDd",
    "outputId": "c0a5cf50-f079-46f4-fc7b-5c839da386e0"
   },
   "outputs": [],
   "source": [
    "plt.figure(figsize=(20, 5))\n",
    "plt.ylabel(\"y\")\n",
    "mod = smf.quantreg('f15 ~ f7', pd.DataFrame(data=X_subset_modified, columns=[\"f7\", \"f15\"])) # задаеем зависимость и передаем данные\n",
    "res = mod.fit(q=0.5)\n",
    "plt.scatter(X_subset_modified[:, 0], X_subset_modified[:, 1])   # визуализируем точки\n",
    "grid = np.linspace(0, 2, 100)\n",
    "plt.plot(grid, grid * res.params[\"f7\"] + res.params[\"Intercept\"])   # визуализируем прямую\n",
    "plt.ylim(-20, 100)\n",
    "plt.xlabel(\"x\")"
   ]
  },
  {
   "cell_type": "markdown",
   "metadata": {
    "id": "8vSAFMCamcDf"
   },
   "source": [
    "Прямая не изменила направление из-за выбросов."
   ]
  },
  {
   "cell_type": "markdown",
   "metadata": {
    "id": "3NKHNfifmcDf"
   },
   "source": [
    "Попробуем добавить больше шумовых объектов:"
   ]
  },
  {
   "cell_type": "code",
   "execution_count": null,
   "metadata": {
    "executionInfo": {
     "elapsed": 1222,
     "status": "ok",
     "timestamp": 1601996258158,
     "user": {
      "displayName": "Даниил Русланович Махоткин",
      "photoUrl": "",
      "userId": "18336248573599285046"
     },
     "user_tz": -180
    },
    "id": "7Ewc1EcqmcDg"
   },
   "outputs": [],
   "source": [
    "X_subset_modified_twice = np.vstack((\n",
    "    X_subset_modified, \n",
    "    np.random.randint(5, size=60).reshape(-1, 2) * [1, 30],\n",
    "))"
   ]
  },
  {
   "cell_type": "code",
   "execution_count": null,
   "metadata": {
    "colab": {
     "base_uri": "https://localhost:8080/",
     "height": 355
    },
    "executionInfo": {
     "elapsed": 1133,
     "status": "ok",
     "timestamp": 1601996258602,
     "user": {
      "displayName": "Даниил Русланович Махоткин",
      "photoUrl": "",
      "userId": "18336248573599285046"
     },
     "user_tz": -180
    },
    "id": "_la16mvJmcDi",
    "outputId": "e90fa2ce-6f39-4e53-bdad-9adcf0ea4fd9"
   },
   "outputs": [],
   "source": [
    "plt.figure(figsize=(20, 5))\n",
    "plt.ylabel(\"y\")\n",
    "mod = smf.quantreg('f15 ~ f7', pd.DataFrame(data=X_subset_modified_twice, columns=[\"f7\", \"f15\"])) # задаеем зависимость и передаем данные\n",
    "res = mod.fit(q=0.5)\n",
    "plt.scatter(X_subset_modified_twice[:, 0], X_subset_modified_twice[:, 1])   # визуализируем точки\n",
    "grid = np.linspace(0, 4, 200)\n",
    "plt.plot(grid, grid * res.params[\"f7\"] + res.params[\"Intercept\"])   # визуализируем прямую\n",
    "plt.ylim(-20, 100)\n",
    "plt.xlabel(\"x\")"
   ]
  },
  {
   "cell_type": "markdown",
   "metadata": {
    "id": "nZFZxhP_mcDk"
   },
   "source": [
    "Прямая изменила наклон, когда мы добавили 30 (почти 15%) шумовых точек."
   ]
  },
  {
   "cell_type": "markdown",
   "metadata": {
    "id": "vb9PISBSmcDl"
   },
   "source": [
    "# 7. Мультиколлинеарность и регуляризация"
   ]
  },
  {
   "cell_type": "code",
   "execution_count": null,
   "metadata": {
    "executionInfo": {
     "elapsed": 1021,
     "status": "ok",
     "timestamp": 1601996521277,
     "user": {
      "displayName": "Даниил Русланович Махоткин",
      "photoUrl": "",
      "userId": "18336248573599285046"
     },
     "user_tz": -180
    },
    "id": "Ss8hAc3tmcDl"
   },
   "outputs": [],
   "source": [
    "# !pip install seaborn\n",
    "import seaborn as sns\n",
    "\n",
    "from sklearn.model_selection import train_test_split\n",
    "from sklearn.linear_model import LinearRegression\n",
    "from sklearn.metrics import mean_squared_error, r2_score"
   ]
  },
  {
   "cell_type": "markdown",
   "metadata": {
    "id": "W_sH6Fc3mcDn"
   },
   "source": [
    "Для оценка качества работы наших алгоритмов будем использовать коэфициент детерминации:\n",
    "\n",
    "$$R^2 = 1 - \\frac{\\sum_i (y_i - a(x_i))^2}{\\sum_i (y_i - \\overline{y}_i)^2}$$\n"
   ]
  },
  {
   "cell_type": "markdown",
   "metadata": {
    "id": "zA8bkrWvmcDo"
   },
   "source": [
    "## Решение задачи МНК"
   ]
  },
  {
   "cell_type": "code",
   "execution_count": null,
   "metadata": {
    "executionInfo": {
     "elapsed": 946,
     "status": "ok",
     "timestamp": 1601996308253,
     "user": {
      "displayName": "Даниил Русланович Махоткин",
      "photoUrl": "",
      "userId": "18336248573599285046"
     },
     "user_tz": -180
    },
    "id": "9llkMzDbmcDo"
   },
   "outputs": [],
   "source": [
    "def my_linear_regression(X_train, Y_train):\n",
    "    return np.linalg.inv(X_train.T.dot(X_train)).dot(X_train.T).dot(y_train)"
   ]
  },
  {
   "cell_type": "code",
   "execution_count": null,
   "metadata": {
    "executionInfo": {
     "elapsed": 588,
     "status": "ok",
     "timestamp": 1601996308727,
     "user": {
      "displayName": "Даниил Русланович Махоткин",
      "photoUrl": "",
      "userId": "18336248573599285046"
     },
     "user_tz": -180
    },
    "id": "MJ-XNEGgmcDq"
   },
   "outputs": [],
   "source": [
    "def predict(X, w):\n",
    "    return np.dot(X, w)"
   ]
  },
  {
   "cell_type": "markdown",
   "metadata": {
    "id": "_doeHNKImcDs"
   },
   "source": [
    "## Загрузим датасет"
   ]
  },
  {
   "cell_type": "markdown",
   "metadata": {
    "id": "skgoT2zPmcDs"
   },
   "source": [
    "https://habrahabr.ru/post/206306/"
   ]
  },
  {
   "cell_type": "code",
   "execution_count": null,
   "metadata": {
    "executionInfo": {
     "elapsed": 1287,
     "status": "ok",
     "timestamp": 1601996387833,
     "user": {
      "displayName": "Даниил Русланович Махоткин",
      "photoUrl": "",
      "userId": "18336248573599285046"
     },
     "user_tz": -180
    },
    "id": "dKXZ4Lf9mcDt"
   },
   "outputs": [],
   "source": [
    "data = pd.read_csv('energy_efficiency.csv')"
   ]
  },
  {
   "cell_type": "markdown",
   "metadata": {
    "id": "EPLZWSw9mcDu"
   },
   "source": [
    "Для примера решения задачи прогнозирования, я взял набор данных Energy efficiency из крупнейшего репозитория UCI.   \n",
    "\n",
    "В нем $X_1 ... X_8$ — характеристики помещения на основании которых будет проводиться анализ, а $y_1,y_2$ — значения нагрузки, которые надо спрогнозировать.\n",
    "- $X_1$\tОтносительная компактность\n",
    "- $X_2$\tПлощадь\n",
    "- $X_3$\tПлощадь стен\n",
    "- $X_4$\tПлощадь потолка\t\n",
    "- $X_5$\tОбщая высота\t\n",
    "- $X_6$\tОриентация\n",
    "- $X_7$\tПлощадь остекления\t\n",
    "- $X_8$\tРаспределенная площадь остекления\t\n",
    "- $y_1$\tНагрузка при обогреве\n",
    "- $y_2$\tНагрузка при охлаждении"
   ]
  },
  {
   "cell_type": "code",
   "execution_count": null,
   "metadata": {
    "id": "2LmgTiRfmcDv",
    "outputId": "d4cc7a02-56a4-4fe7-ac2c-30bca0d2eefb"
   },
   "outputs": [],
   "source": [
    "data.head()"
   ]
  },
  {
   "cell_type": "markdown",
   "metadata": {
    "id": "pBefL4-MmcDx"
   },
   "source": [
    "## Посмотрим на скоррелированность данных"
   ]
  },
  {
   "cell_type": "code",
   "execution_count": null,
   "metadata": {
    "id": "P5qtYUP1mcDx",
    "outputId": "823257a9-4abb-4437-eae1-93f44a22aa46"
   },
   "outputs": [],
   "source": [
    "data.corr()"
   ]
  },
  {
   "cell_type": "code",
   "execution_count": null,
   "metadata": {
    "colab": {
     "base_uri": "https://localhost:8080/",
     "height": 504
    },
    "executionInfo": {
     "elapsed": 876,
     "status": "ok",
     "timestamp": 1601996527672,
     "user": {
      "displayName": "Даниил Русланович Махоткин",
      "photoUrl": "",
      "userId": "18336248573599285046"
     },
     "user_tz": -180
    },
    "id": "1WC_SiGDmcD1",
    "outputId": "a5a4bd9c-1a42-4d37-8744-46894e8587d7"
   },
   "outputs": [],
   "source": [
    "f, ax = plt.subplots(figsize=(10, 8))\n",
    "corr = data.corr()\n",
    "sns.heatmap(corr, square=True, ax=ax, cmap=sns.diverging_palette(220, 10, as_cmap=True))"
   ]
  },
  {
   "cell_type": "code",
   "execution_count": null,
   "metadata": {
    "colab": {
     "base_uri": "https://localhost:8080/",
     "height": 504
    },
    "executionInfo": {
     "elapsed": 860,
     "status": "ok",
     "timestamp": 1601996555381,
     "user": {
      "displayName": "Даниил Русланович Махоткин",
      "photoUrl": "",
      "userId": "18336248573599285046"
     },
     "user_tz": -180
    },
    "id": "NIrdPbwxmcDz",
    "outputId": "afcbd037-381b-4b6f-b348-e9415d13d7d6"
   },
   "outputs": [],
   "source": [
    "f, ax = plt.subplots(figsize=(10, 8))\n",
    "corr = data.drop(['Y1','Y2'], axis=1).corr()\n",
    "sns.heatmap(corr, square=True, ax=ax, cmap=sns.diverging_palette(220, 10, as_cmap=True))"
   ]
  },
  {
   "cell_type": "markdown",
   "metadata": {
    "id": "Mf-nnYl1mcD3"
   },
   "source": [
    "Видим, что x1 скоррелирован с x2, а x4 с x5. Из-за этого матрица $X^{T}*X$ необратима."
   ]
  },
  {
   "cell_type": "markdown",
   "metadata": {
    "id": "g_V5HBvzmcD4"
   },
   "source": [
    "## Посмотрим как на таких данных отработает наша линейная регрессия"
   ]
  },
  {
   "cell_type": "markdown",
   "metadata": {
    "id": "uU66h-GOmcD4"
   },
   "source": [
    "Разобьем выборку на train и test"
   ]
  },
  {
   "cell_type": "code",
   "execution_count": null,
   "metadata": {
    "executionInfo": {
     "elapsed": 1048,
     "status": "ok",
     "timestamp": 1601996601523,
     "user": {
      "displayName": "Даниил Русланович Махоткин",
      "photoUrl": "",
      "userId": "18336248573599285046"
     },
     "user_tz": -180
    },
    "id": "FMAzy_tRmcD4"
   },
   "outputs": [],
   "source": [
    "X = data.drop(['Y1','Y2'], axis=1)\n",
    "y = data['Y1']"
   ]
  },
  {
   "cell_type": "code",
   "execution_count": null,
   "metadata": {
    "colab": {
     "base_uri": "https://localhost:8080/",
     "height": 34
    },
    "executionInfo": {
     "elapsed": 822,
     "status": "ok",
     "timestamp": 1601996604907,
     "user": {
      "displayName": "Даниил Русланович Махоткин",
      "photoUrl": "",
      "userId": "18336248573599285046"
     },
     "user_tz": -180
    },
    "id": "ZEJLUsaCmcD6",
    "outputId": "4116127e-9285-4bc6-9d34-3bce18353800"
   },
   "outputs": [],
   "source": [
    "X.shape, y.shape"
   ]
  },
  {
   "cell_type": "code",
   "execution_count": null,
   "metadata": {
    "executionInfo": {
     "elapsed": 1168,
     "status": "ok",
     "timestamp": 1601996613872,
     "user": {
      "displayName": "Даниил Русланович Махоткин",
      "photoUrl": "",
      "userId": "18336248573599285046"
     },
     "user_tz": -180
    },
    "id": "4AODeOLGmcD-"
   },
   "outputs": [],
   "source": [
    "X_train, X_test, y_train, y_test = train_test_split(X, y, test_size=0.2, random_state=42)"
   ]
  },
  {
   "cell_type": "markdown",
   "metadata": {
    "id": "BIJ_9dv8mcEA"
   },
   "source": [
    "Обучим регрессию и посмотрим на качество"
   ]
  },
  {
   "cell_type": "code",
   "execution_count": null,
   "metadata": {
    "executionInfo": {
     "elapsed": 859,
     "status": "ok",
     "timestamp": 1601996617082,
     "user": {
      "displayName": "Даниил Русланович Махоткин",
      "photoUrl": "",
      "userId": "18336248573599285046"
     },
     "user_tz": -180
    },
    "id": "TWuPDZO0mcEB"
   },
   "outputs": [],
   "source": [
    "w = my_linear_regression(X_train, y_train)"
   ]
  },
  {
   "cell_type": "code",
   "execution_count": null,
   "metadata": {
    "colab": {
     "base_uri": "https://localhost:8080/",
     "height": 51
    },
    "executionInfo": {
     "elapsed": 837,
     "status": "ok",
     "timestamp": 1601996754660,
     "user": {
      "displayName": "Даниил Русланович Махоткин",
      "photoUrl": "",
      "userId": "18336248573599285046"
     },
     "user_tz": -180
    },
    "id": "c5fOBt4JmcED",
    "outputId": "f9b9e630-e4c5-4b94-daf4-58bb1ffbf51f"
   },
   "outputs": [],
   "source": [
    "y_train_pred = predict(X_train, w)\n",
    "print(\"Train MSE: \", mean_squared_error(y_train, y_train_pred))\n",
    "print(\"Train R2: \", r2_score(y_train, y_train_pred))"
   ]
  },
  {
   "cell_type": "code",
   "execution_count": null,
   "metadata": {
    "executionInfo": {
     "elapsed": 1029,
     "status": "ok",
     "timestamp": 1601996752129,
     "user": {
      "displayName": "Даниил Русланович Махоткин",
      "photoUrl": "",
      "userId": "18336248573599285046"
     },
     "user_tz": -180
    },
    "id": "31skBKE_cNPk"
   },
   "outputs": [],
   "source": [
    "def mse(y_train, y_train_pred):\n",
    "    return sum((y_train-y_train_pred)**2)/len(y_train)"
   ]
  },
  {
   "cell_type": "code",
   "execution_count": null,
   "metadata": {
    "colab": {
     "base_uri": "https://localhost:8080/",
     "height": 51
    },
    "executionInfo": {
     "elapsed": 850,
     "status": "ok",
     "timestamp": 1601996766674,
     "user": {
      "displayName": "Даниил Русланович Махоткин",
      "photoUrl": "",
      "userId": "18336248573599285046"
     },
     "user_tz": -180
    },
    "id": "tPuDT7gwmcEF",
    "outputId": "4a8f5db7-cc4e-4684-8910-4b1206323f4f"
   },
   "outputs": [],
   "source": [
    "y_test_pred = predict(X_test, w)\n",
    "print(\"Test MSE: \", mean_squared_error(y_test, y_test_pred))\n",
    "print(\"Test R2: \", r2_score(y_test, y_test_pred))"
   ]
  },
  {
   "cell_type": "markdown",
   "metadata": {
    "id": "ZGYKheWamcEH"
   },
   "source": [
    "Как-то не очень"
   ]
  },
  {
   "cell_type": "markdown",
   "metadata": {
    "id": "HRGnZVMRmcEI"
   },
   "source": [
    "## Попробуем убрать скоррелированные признаки"
   ]
  },
  {
   "cell_type": "code",
   "execution_count": null,
   "metadata": {
    "executionInfo": {
     "elapsed": 855,
     "status": "ok",
     "timestamp": 1601996981785,
     "user": {
      "displayName": "Даниил Русланович Махоткин",
      "photoUrl": "",
      "userId": "18336248573599285046"
     },
     "user_tz": -180
    },
    "id": "IKdDSFhXmcEI"
   },
   "outputs": [],
   "source": [
    "# Выделите данные для обучения без скорредированных признаков\n",
    "X = None  # <Ваш код>\n",
    "y = data['Y1']"
   ]
  },
  {
   "cell_type": "code",
   "execution_count": null,
   "metadata": {
    "colab": {
     "base_uri": "https://localhost:8080/",
     "height": 34
    },
    "executionInfo": {
     "elapsed": 866,
     "status": "ok",
     "timestamp": 1601996983587,
     "user": {
      "displayName": "Даниил Русланович Махоткин",
      "photoUrl": "",
      "userId": "18336248573599285046"
     },
     "user_tz": -180
    },
    "id": "C25zr2oomcEL",
    "outputId": "e1d77cec-ba76-4da0-dabc-919e004c5784"
   },
   "outputs": [],
   "source": [
    "X.shape, y.shape"
   ]
  },
  {
   "cell_type": "code",
   "execution_count": null,
   "metadata": {
    "executionInfo": {
     "elapsed": 845,
     "status": "ok",
     "timestamp": 1601996985603,
     "user": {
      "displayName": "Даниил Русланович Махоткин",
      "photoUrl": "",
      "userId": "18336248573599285046"
     },
     "user_tz": -180
    },
    "id": "hMcE_eb8mcEO"
   },
   "outputs": [],
   "source": [
    "X_train, X_test, y_train, y_test = train_test_split(X, y, test_size=0.2, random_state=42)"
   ]
  },
  {
   "cell_type": "markdown",
   "metadata": {
    "id": "U2ZUK52hmcEQ"
   },
   "source": [
    "Обучим регрессию и посмотрим на качество"
   ]
  },
  {
   "cell_type": "code",
   "execution_count": null,
   "metadata": {
    "executionInfo": {
     "elapsed": 1042,
     "status": "ok",
     "timestamp": 1601996987759,
     "user": {
      "displayName": "Даниил Русланович Махоткин",
      "photoUrl": "",
      "userId": "18336248573599285046"
     },
     "user_tz": -180
    },
    "id": "QafmWX14mcEQ"
   },
   "outputs": [],
   "source": [
    "w = my_linear_regression(X_train, y_train)"
   ]
  },
  {
   "cell_type": "code",
   "execution_count": null,
   "metadata": {
    "colab": {
     "base_uri": "https://localhost:8080/",
     "height": 51
    },
    "executionInfo": {
     "elapsed": 983,
     "status": "ok",
     "timestamp": 1601996988227,
     "user": {
      "displayName": "Даниил Русланович Махоткин",
      "photoUrl": "",
      "userId": "18336248573599285046"
     },
     "user_tz": -180
    },
    "id": "8fopwgjCmcES",
    "outputId": "09798eef-18e5-4dd3-917c-520f39fc8f39"
   },
   "outputs": [],
   "source": [
    "y_train_pred = predict(X_train, w)\n",
    "print(\"Train MSE: \", mean_squared_error(y_train, y_train_pred))\n",
    "print(\"Train R2: \", r2_score(y_train, y_train_pred))"
   ]
  },
  {
   "cell_type": "code",
   "execution_count": null,
   "metadata": {
    "colab": {
     "base_uri": "https://localhost:8080/",
     "height": 51
    },
    "executionInfo": {
     "elapsed": 1275,
     "status": "ok",
     "timestamp": 1601996989205,
     "user": {
      "displayName": "Даниил Русланович Махоткин",
      "photoUrl": "",
      "userId": "18336248573599285046"
     },
     "user_tz": -180
    },
    "id": "6yrdCHrOmcEV",
    "outputId": "40ba1dc2-8f11-4e9f-ec14-e322f55562ec"
   },
   "outputs": [],
   "source": [
    "y_test_pred = predict(X_test, w)\n",
    "print(\"Test MSE: \", mean_squared_error(y_test, y_test_pred))\n",
    "print(\"Test R2: \", r2_score(y_test, y_test_pred))"
   ]
  },
  {
   "cell_type": "markdown",
   "metadata": {
    "id": "JLCc_XbYmcEX"
   },
   "source": [
    "Юху! Получили алгоритм с хорошим качеством"
   ]
  },
  {
   "cell_type": "markdown",
   "metadata": {
    "id": "vCZ9iwxkmcEX"
   },
   "source": [
    "## Реализуем линейную регрессию с L2 регуляризацией"
   ]
  },
  {
   "cell_type": "code",
   "execution_count": null,
   "metadata": {
    "executionInfo": {
     "elapsed": 1476,
     "status": "ok",
     "timestamp": 1601997367243,
     "user": {
      "displayName": "Даниил Русланович Махоткин",
      "photoUrl": "",
      "userId": "18336248573599285046"
     },
     "user_tz": -180
    },
    "id": "vTfzSTdJmcEX"
   },
   "outputs": [],
   "source": [
    "def my_linear_regression(X_train, Y_train, l2=0):\n",
    "    # <Ваш код>\n",
    "    return 0."
   ]
  },
  {
   "cell_type": "markdown",
   "metadata": {
    "id": "g9t4X_HXmcEZ"
   },
   "source": [
    "Обучим регрессию с регуляризацией и посмотрим на качество"
   ]
  },
  {
   "cell_type": "code",
   "execution_count": null,
   "metadata": {
    "executionInfo": {
     "elapsed": 982,
     "status": "ok",
     "timestamp": 1601997367244,
     "user": {
      "displayName": "Даниил Русланович Махоткин",
      "photoUrl": "",
      "userId": "18336248573599285046"
     },
     "user_tz": -180
    },
    "id": "5Lw7b_GomcEZ"
   },
   "outputs": [],
   "source": [
    "X = data.drop(['Y1','Y2'], axis=1)\n",
    "y = data['Y1']"
   ]
  },
  {
   "cell_type": "code",
   "execution_count": null,
   "metadata": {
    "colab": {
     "base_uri": "https://localhost:8080/",
     "height": 34
    },
    "executionInfo": {
     "elapsed": 764,
     "status": "ok",
     "timestamp": 1601997367245,
     "user": {
      "displayName": "Даниил Русланович Махоткин",
      "photoUrl": "",
      "userId": "18336248573599285046"
     },
     "user_tz": -180
    },
    "id": "6wokJ1BZmcEc",
    "outputId": "0d53ea54-036b-426d-daa7-512058c1c49a"
   },
   "outputs": [],
   "source": [
    "X.shape, y.shape"
   ]
  },
  {
   "cell_type": "code",
   "execution_count": null,
   "metadata": {
    "executionInfo": {
     "elapsed": 627,
     "status": "ok",
     "timestamp": 1601997367247,
     "user": {
      "displayName": "Даниил Русланович Махоткин",
      "photoUrl": "",
      "userId": "18336248573599285046"
     },
     "user_tz": -180
    },
    "id": "NDTedTRGmcEe"
   },
   "outputs": [],
   "source": [
    "X_train, X_test, y_train, y_test = train_test_split(X, y, test_size=0.2, random_state=42)"
   ]
  },
  {
   "cell_type": "code",
   "execution_count": null,
   "metadata": {
    "executionInfo": {
     "elapsed": 1474,
     "status": "ok",
     "timestamp": 1601997387792,
     "user": {
      "displayName": "Даниил Русланович Махоткин",
      "photoUrl": "",
      "userId": "18336248573599285046"
     },
     "user_tz": -180
    },
    "id": "Th-SECWAmcEg"
   },
   "outputs": [],
   "source": [
    "w = my_linear_regression(X_train, y_train, l2=0.001)"
   ]
  },
  {
   "cell_type": "code",
   "execution_count": null,
   "metadata": {
    "colab": {
     "base_uri": "https://localhost:8080/",
     "height": 51
    },
    "executionInfo": {
     "elapsed": 1132,
     "status": "ok",
     "timestamp": 1601997387794,
     "user": {
      "displayName": "Даниил Русланович Махоткин",
      "photoUrl": "",
      "userId": "18336248573599285046"
     },
     "user_tz": -180
    },
    "id": "bgmUTNbhmcEj",
    "outputId": "f7c902ca-413b-4023-fd33-dc137a5f87ad"
   },
   "outputs": [],
   "source": [
    "y_train_pred = predict(X_train, w)\n",
    "print(\"Train MSE: \", mean_squared_error(y_train, y_train_pred))\n",
    "print(\"Train R2: \", r2_score(y_train, y_train_pred))"
   ]
  },
  {
   "cell_type": "code",
   "execution_count": null,
   "metadata": {
    "colab": {
     "base_uri": "https://localhost:8080/",
     "height": 51
    },
    "executionInfo": {
     "elapsed": 864,
     "status": "ok",
     "timestamp": 1601997387795,
     "user": {
      "displayName": "Даниил Русланович Махоткин",
      "photoUrl": "",
      "userId": "18336248573599285046"
     },
     "user_tz": -180
    },
    "id": "73tWbOfomcEl",
    "outputId": "d4b09785-063e-4661-a7d2-48ec32cd203f"
   },
   "outputs": [],
   "source": [
    "y_test_pred = predict(X_test, w)\n",
    "print(\"Test MSE: \", mean_squared_error(y_test, y_test_pred))\n",
    "print(\"Test R2: \", r2_score(y_test, y_test_pred))"
   ]
  },
  {
   "cell_type": "markdown",
   "metadata": {
    "id": "M_Zs8bUVmcEo"
   },
   "source": [
    "Этого же эффекта (отсутствие переобучения) мы добились, добавив регуляризацию."
   ]
  },
  {
   "cell_type": "code",
   "execution_count": null,
   "metadata": {},
   "outputs": [],
   "source": []
  }
 ],
 "metadata": {
  "colab": {
   "name": "Seminar 02 - liner regression.ipynb",
   "provenance": [],
   "toc_visible": true
  },
  "kernelspec": {
   "display_name": "Python 3 (ipykernel)",
   "language": "python",
   "name": "python3"
  },
  "language_info": {
   "codemirror_mode": {
    "name": "ipython",
    "version": 3
   },
   "file_extension": ".py",
   "mimetype": "text/x-python",
   "name": "python",
   "nbconvert_exporter": "python",
   "pygments_lexer": "ipython3",
   "version": "3.8.10"
  }
 },
 "nbformat": 4,
 "nbformat_minor": 4
}
