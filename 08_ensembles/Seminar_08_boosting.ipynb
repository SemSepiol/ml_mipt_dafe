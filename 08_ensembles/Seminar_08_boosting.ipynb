{
  "cells": [
    {
      "cell_type": "markdown",
      "metadata": {
        "id": "7TYNolcWcmmv"
      },
      "source": [
        "# Семинар 8 - Бустинг\n",
        "\n",
        "В качестве источника используется:\n",
        "- [Глава 7](https://github.com/ageron/handson-ml/blob/master/07_ensemble_learning_and_random_forests.ipynb) из Книги [Aurélien Geron](https://github.com/ageron)\n",
        "- материалы [mlcourse.ai](https://mlcourse.ai) от [Юрия Кашницкого](https://yorko.github.io) и [OpenDataScience](https://ods.ai)"
      ]
    },
    {
      "cell_type": "code",
      "execution_count": null,
      "metadata": {
        "id": "w2g-nSDILwUK"
      },
      "outputs": [],
      "source": [
        "import numpy as np\n",
        "import pandas as pd\n",
        "import seaborn as sns\n",
        "import matplotlib as mpl\n",
        "import matplotlib.pyplot as plt\n",
        "from matplotlib.colors import ListedColormap\n",
        "\n",
        "from sklearn.model_selection import train_test_split\n",
        "from sklearn.datasets import make_moons\n",
        "\n",
        "%matplotlib inline\n",
        "\n",
        "seed = 42\n",
        "np.random.seed(seed)"
      ]
    },
    {
      "cell_type": "code",
      "execution_count": null,
      "metadata": {
        "id": "07SGYNhycmmw"
      },
      "outputs": [],
      "source": [
        "def plot_decision_boundary(clf, X, y, axes=[-1.5, 2.5, -1, 1.5], alpha=0.5, contour=True):\n",
        "    x1s = np.linspace(axes[0], axes[1], 100)\n",
        "    x2s = np.linspace(axes[2], axes[3], 100)\n",
        "    x1, x2 = np.meshgrid(x1s, x2s)\n",
        "    X_new = np.c_[x1.ravel(), x2.ravel()]\n",
        "    y_pred = clf.predict(X_new).reshape(x1.shape)\n",
        "\n",
        "    custom_cmap = ListedColormap(['#fafab0','#9898ff','#a0faa0'])\n",
        "    plt.contourf(x1, x2, y_pred, alpha=0.3, cmap=custom_cmap)\n",
        "    if contour:\n",
        "        custom_cmap2 = ListedColormap(['#7d7d58','#4c4c7f','#507d50'])\n",
        "        plt.contour(x1, x2, y_pred, cmap=custom_cmap2, alpha=0.8)\n",
        "        \n",
        "    plt.plot(X[:, 0][y==0], X[:, 1][y==0], \"yo\", alpha=alpha)\n",
        "    plt.plot(X[:, 0][y==1], X[:, 1][y==1], \"bs\", alpha=alpha)\n",
        "\n",
        "    plt.axis(axes)\n",
        "    plt.xlabel(r\"$x_1$\", fontsize=18)\n",
        "    plt.ylabel(r\"$x_2$\", fontsize=18, rotation=0)"
      ]
    },
    {
      "cell_type": "markdown",
      "metadata": {
        "collapsed": true,
        "id": "QinUJztkcmm0"
      },
      "source": [
        " Загрузим синтетический набор данных \"Луны\""
      ]
    },
    {
      "cell_type": "code",
      "execution_count": null,
      "metadata": {
        "id": "GORXl_Mdcmm1"
      },
      "outputs": [],
      "source": [
        "X, y = make_moons(n_samples=500, noise=0.30, random_state=seed)\n",
        "\n",
        "X_train, X_test, y_train, y_test = train_test_split(X, y, random_state=seed)"
      ]
    },
    {
      "cell_type": "markdown",
      "metadata": {
        "id": "lahFvm05cmm4"
      },
      "source": [
        "# AdaBoost"
      ]
    },
    {
      "cell_type": "code",
      "execution_count": null,
      "metadata": {
        "id": "IG_Mbj9Gcmm4"
      },
      "outputs": [],
      "source": [
        "from sklearn.ensemble import AdaBoostClassifier\n",
        "from sklearn.tree import DecisionTreeClassifier"
      ]
    },
    {
      "cell_type": "code",
      "execution_count": null,
      "metadata": {
        "id": "5xKSw0kZcmm7"
      },
      "outputs": [],
      "source": [
        "# бустинг над решающим пнем \n",
        "ada_clf = AdaBoostClassifier(DecisionTreeClassifier(max_depth=1),\n",
        "                             n_estimators=200, algorithm=\"SAMME.R\",\n",
        "                             learning_rate=0.5, random_state=seed)\n",
        "ada_clf.fit(X_train, y_train)"
      ]
    },
    {
      "cell_type": "code",
      "execution_count": null,
      "metadata": {
        "id": "H62QXZdEcmm-"
      },
      "outputs": [],
      "source": [
        "plot_decision_boundary(ada_clf, X, y)\n",
        "plt.show()"
      ]
    },
    {
      "cell_type": "markdown",
      "metadata": {
        "id": "wFuXsamOcmnC"
      },
      "source": [
        "Давайте попробуем посмотреть что происходит по шагам. В качестве иллюстрации будем использовать SVM."
      ]
    },
    {
      "cell_type": "code",
      "execution_count": null,
      "metadata": {
        "id": "5OO6o9LqcmnD"
      },
      "outputs": [],
      "source": [
        "from sklearn.svm import SVC"
      ]
    },
    {
      "cell_type": "code",
      "execution_count": null,
      "metadata": {
        "id": "9EEyYsK2cmnF"
      },
      "outputs": [],
      "source": [
        "m = len(X_train)\n",
        "\n",
        "plt.figure(figsize=(20, 4))\n",
        "\n",
        "for subplot, learning_rate in ((121, 1), (122, 0.5)):\n",
        "    sample_weights = np.ones(m)\n",
        "    plt.subplot(subplot)\n",
        "\n",
        "    for i in range(5):\n",
        "        # init and fit\n",
        "        svm_clf = SVC(kernel=\"rbf\", C=0.05, gamma=\"auto\", random_state=seed)\n",
        "        svm_clf.fit(X_train, y_train, sample_weight=sample_weights)\n",
        "\n",
        "        # predict\n",
        "        y_pred = svm_clf.predict(X_train)\n",
        "        sample_weights[y_pred != y_train] *= (1 + learning_rate)\n",
        "\n",
        "        # plot\n",
        "        plot_decision_boundary(svm_clf, X, y, alpha=0.2)\n",
        "        plt.title(\"learning_rate = {}\".format(learning_rate), fontsize=16)\n",
        "\n",
        "    if subplot == 121:\n",
        "        plt.text(-0.7, -0.65, \"1\", fontsize=14)\n",
        "        plt.text(-0.6, -0.10, \"2\", fontsize=14)\n",
        "        plt.text(-0.5,  0.10, \"3\", fontsize=14)\n",
        "        plt.text(-0.4,  0.55, \"4\", fontsize=14)\n",
        "        plt.text(-0.3,  0.90, \"5\", fontsize=14)\n",
        "\n",
        "plt.show()"
      ]
    },
    {
      "cell_type": "markdown",
      "metadata": {
        "id": "Wn76rtQjcmnI"
      },
      "source": [
        "# Gradient Boosting\n",
        "Для начала посмотрим на игрушечных данных"
      ]
    },
    {
      "cell_type": "code",
      "execution_count": null,
      "metadata": {
        "id": "5gGti_EjcmnI"
      },
      "outputs": [],
      "source": [
        "X = np.random.rand(100, 1) - 0.5\n",
        "y = 3 * X[:, 0] ** 2 + 0.05 * np.random.randn(100)\n",
        "\n",
        "plt.scatter(X, y)\n",
        "plt.show()"
      ]
    },
    {
      "cell_type": "markdown",
      "metadata": {
        "id": "da2f1w_IOdWR"
      },
      "source": [
        "Построим решающее дерево"
      ]
    },
    {
      "cell_type": "code",
      "execution_count": null,
      "metadata": {
        "id": "sMHUpE2jOZ9K"
      },
      "outputs": [],
      "source": [
        "from sklearn.tree import DecisionTreeRegressor"
      ]
    },
    {
      "cell_type": "code",
      "execution_count": null,
      "metadata": {
        "id": "UcunQ0DocmnK"
      },
      "outputs": [],
      "source": [
        "tree_reg1 = DecisionTreeRegressor(max_depth=2, random_state=seed)\n",
        "tree_reg1.fit(X, y)"
      ]
    },
    {
      "cell_type": "code",
      "execution_count": null,
      "metadata": {
        "id": "cYEuc4DQcmnM"
      },
      "outputs": [],
      "source": [
        "# Найдем остатки от прогнозов и построим еще одно дерево\n",
        "# Ваш код"
      ]
    },
    {
      "cell_type": "code",
      "execution_count": null,
      "metadata": {
        "id": "8MP07-9ZcmnP"
      },
      "outputs": [],
      "source": [
        "# Найдем остатки от прогнозов и построим еще одно дерево\n",
        "# Ваш код"
      ]
    },
    {
      "cell_type": "code",
      "execution_count": null,
      "metadata": {
        "id": "ghJKe4HLcmnR"
      },
      "outputs": [],
      "source": [
        "# зададим новую точку не из обуающей выборки\n",
        "X_new = np.array([[0.8]])"
      ]
    },
    {
      "cell_type": "markdown",
      "metadata": {
        "id": "2_IIAnulQU-I"
      },
      "source": [
        "ошибка на i-ом объекте зависит от веса (ошибки всех предыдущих моделей в ансамбле) на ошибку последней модели ансамбля "
      ]
    },
    {
      "cell_type": "code",
      "execution_count": null,
      "metadata": {
        "id": "tcnznPd1cmnT"
      },
      "outputs": [],
      "source": [
        "# получим суммарное предсказание 3 деревьев по ансамблю\n",
        "y_pred = # Ваш код"
      ]
    },
    {
      "cell_type": "code",
      "execution_count": null,
      "metadata": {
        "id": "yi6r2th0PEEp"
      },
      "outputs": [],
      "source": [
        "def plot_predictions(regressors, X, y, axes, label=None, \n",
        "                     style=\"r-\", data_style=\"b.\", data_label=None):\n",
        "\n",
        "    # get predict\n",
        "    x1 = np.linspace(axes[0], axes[1], 500)\n",
        "    y_pred = sum(regressor.predict(x1.reshape(-1, 1))\n",
        "     for regressor in regressors)\n",
        "\n",
        "    # plot\n",
        "    plt.plot(X[:, 0], y, data_style, label=data_label)\n",
        "    plt.plot(x1, y_pred, style, linewidth=2, label=label)\n",
        "    if label or data_label:\n",
        "        plt.legend(loc=\"upper center\", fontsize=16)\n",
        "    plt.axis(axes)"
      ]
    },
    {
      "cell_type": "code",
      "execution_count": null,
      "metadata": {
        "id": "0hI92CepcmnV"
      },
      "outputs": [],
      "source": [
        "plt.figure(figsize=(11,11))\n",
        "\n",
        "plt.subplot(321)\n",
        "plot_predictions([tree_reg1], X, y, axes=[-0.5, 0.5, -0.1, 0.8], \n",
        "                 label=\"$h_1(x_1)$\", style=\"g-\", data_label=\"Training set\")\n",
        "plt.ylabel(\"$y$\", fontsize=16, rotation=0)\n",
        "plt.title(\"Residuals and tree predictions\", fontsize=16)\n",
        "\n",
        "plt.subplot(322)\n",
        "plot_predictions([tree_reg1], X, y, axes=[-0.5, 0.5, -0.1, 0.8], \n",
        "                 label=\"$h(x_1) = h_1(x_1)$\", data_label=\"Training set\")\n",
        "plt.ylabel(\"$y$\", fontsize=16, rotation=0)\n",
        "plt.title(\"Ensemble predictions\", fontsize=16)\n",
        "\n",
        "plt.subplot(323)\n",
        "plot_predictions([tree_reg2], X, y2, axes=[-0.5, 0.5, -0.5, 0.5], \n",
        "                 label=\"$h_2(x_1)$\", style=\"g-\", data_style=\"k+\", data_label=\"Residuals\")\n",
        "plt.ylabel(\"$y - h_1(x_1)$\", fontsize=16)\n",
        "\n",
        "plt.subplot(324)\n",
        "plot_predictions([tree_reg1, tree_reg2], X, y, axes=[-0.5, 0.5, -0.1, 0.8], \n",
        "                 label=\"$h(x_1) = h_1(x_1) + h_2(x_1)$\")\n",
        "plt.ylabel(\"$y$\", fontsize=16, rotation=0)\n",
        "\n",
        "plt.subplot(325)\n",
        "plot_predictions([tree_reg3], X, y3, axes=[-0.5, 0.5, -0.5, 0.5], \n",
        "                 label=\"$h_3(x_1)$\", style=\"g-\", data_style=\"k+\")\n",
        "plt.ylabel(\"$y - h_1(x_1) - h_2(x_1)$\", fontsize=16)\n",
        "plt.xlabel(\"$x_1$\", fontsize=16)\n",
        "\n",
        "plt.subplot(326)\n",
        "plot_predictions([tree_reg1, tree_reg2, tree_reg3], X, y, axes=[-0.5, 0.5, -0.1, 0.8], \n",
        "                 label=\"$h(x_1) = h_1(x_1) + h_2(x_1) + h_3(x_1)$\")\n",
        "plt.xlabel(\"$x_1$\", fontsize=16)\n",
        "plt.ylabel(\"$y$\", fontsize=16, rotation=0)\n",
        "\n",
        "plt.show()"
      ]
    },
    {
      "cell_type": "markdown",
      "metadata": {
        "id": "oKKJ-UeKcmnX"
      },
      "source": [
        "#### Попробуем реализацию градиентного бустинга из пакета sklearn"
      ]
    },
    {
      "cell_type": "code",
      "execution_count": null,
      "metadata": {
        "id": "mU84dGcPcmnY"
      },
      "outputs": [],
      "source": [
        "from sklearn.ensemble import GradientBoostingRegressor"
      ]
    },
    {
      "cell_type": "markdown",
      "metadata": {
        "id": "0qKz4kGmcmna"
      },
      "source": [
        "Посмотрим, как изменятся результаты при разном количестве базовых классификаторов"
      ]
    },
    {
      "cell_type": "code",
      "execution_count": null,
      "metadata": {
        "id": "Kg3KR33Xcmna"
      },
      "outputs": [],
      "source": [
        "gbrt = GradientBoostingRegressor(max_depth=2,\n",
        "                                 n_estimators=3,\n",
        "                                 learning_rate=1,\n",
        "                                 random_state=seed)\n",
        "gbrt.fit(X, y)"
      ]
    },
    {
      "cell_type": "code",
      "execution_count": null,
      "metadata": {
        "id": "ZQmyWc30cmnc"
      },
      "outputs": [],
      "source": [
        "gbrt_slow = GradientBoostingRegressor(max_depth=2, \n",
        "                                      n_estimators=200,\n",
        "                                      learning_rate=1,\n",
        "                                      random_state=seed)\n",
        "gbrt_slow.fit(X, y)"
      ]
    },
    {
      "cell_type": "code",
      "execution_count": null,
      "metadata": {
        "id": "l_GtunV7cmnf"
      },
      "outputs": [],
      "source": [
        "plt.figure(figsize=(18, 4))\n",
        "\n",
        "plt.subplot(121)\n",
        "plot_predictions([gbrt], X, y, axes=[-0.5, 0.5, -0.1, 0.8], \n",
        "                 label=\"Ensemble predictions\")\n",
        "plt.title(\"learning_rate={}, n_estimators={}\".format(gbrt.learning_rate, gbrt.n_estimators), fontsize=14)\n",
        "\n",
        "plt.subplot(122)\n",
        "plot_predictions([gbrt_slow], X, y, axes=[-0.5, 0.5, -0.1, 0.8],\n",
        "                 label=\"Ensemble predictions\")\n",
        "plt.title(\"learning_rate={}, n_estimators={}\".format(gbrt_slow.learning_rate, gbrt_slow.n_estimators), fontsize=14)\n",
        "\n",
        "plt.show()"
      ]
    },
    {
      "cell_type": "markdown",
      "metadata": {
        "id": "2Fv_wazecmnh"
      },
      "source": [
        "Посмотрим, как изменятся результаты при разной глубине базовых классификаторов "
      ]
    },
    {
      "cell_type": "code",
      "execution_count": null,
      "metadata": {
        "id": "hKLszsRMcmnh"
      },
      "outputs": [],
      "source": [
        "gbrt = GradientBoostingRegressor(max_depth=2, \n",
        "                                 n_estimators=3,\n",
        "                                 learning_rate=1.0,\n",
        "                                 random_state=seed)\n",
        "gbrt.fit(X, y)\n",
        "\n",
        "gbrt_slow = GradientBoostingRegressor(max_depth=10,\n",
        "                                      n_estimators=3,\n",
        "                                      learning_rate=1.0,\n",
        "                                      random_state=seed)\n",
        "gbrt_slow.fit(X, y)"
      ]
    },
    {
      "cell_type": "code",
      "execution_count": null,
      "metadata": {
        "id": "lz0h1Y8ccmnj"
      },
      "outputs": [],
      "source": [
        "plt.figure(figsize=(18, 4))\n",
        "\n",
        "plt.subplot(121)\n",
        "plot_predictions([gbrt], X, y, axes=[-0.5, 0.5, -0.1, 0.8], \n",
        "                 label=\"Ensemble predictions\")\n",
        "plt.title(\"learning_rate={}, max_depth={}\".format(gbrt.learning_rate, gbrt.max_depth), fontsize=14)\n",
        "\n",
        "plt.subplot(122)\n",
        "plot_predictions([gbrt_slow], X, y, axes=[-0.5, 0.5, -0.1, 0.8],\n",
        "                 label=\"Ensemble predictions\")\n",
        "plt.title(\"learning_rate={}, max_depth={}\".format(gbrt_slow.learning_rate, gbrt_slow.max_depth), fontsize=14)\n",
        "\n",
        "plt.show()"
      ]
    },
    {
      "cell_type": "markdown",
      "metadata": {
        "id": "MgSxNZiwcmnl"
      },
      "source": [
        "Рассмотрим методы борьбы с переобучением"
      ]
    },
    {
      "cell_type": "markdown",
      "metadata": {
        "id": "nGqz4jbucmnm"
      },
      "source": [
        "#### Посмотрим, как ведет себя ошибка на каждой итерации"
      ]
    },
    {
      "cell_type": "code",
      "execution_count": null,
      "metadata": {
        "id": "RhkEi_aDR0G4"
      },
      "outputs": [],
      "source": [
        "from sklearn.metrics import mean_squared_error"
      ]
    },
    {
      "cell_type": "code",
      "execution_count": null,
      "metadata": {
        "id": "eNv7qYU8cmnm"
      },
      "outputs": [],
      "source": [
        "# split data\n",
        "X_train, X_val, y_train, y_val = train_test_split(X, y, random_state=seed)\n",
        "\n",
        "# init and fit\n",
        "gbrt = GradientBoostingRegressor(max_depth=2, n_estimators=400, random_state=42)\n",
        "gbrt.fit(X_train, y_train)"
      ]
    },
    {
      "cell_type": "code",
      "execution_count": null,
      "metadata": {
        "id": "CS9mdRhsSCGQ"
      },
      "outputs": [],
      "source": [
        "# get errors on each model\n",
        "errors = [mean_squared_error(y_val, y_pred)\n",
        "          for y_pred in gbrt.staged_predict(X_val)]\n",
        "\n",
        "# определим дерево, на котором произошла минимальная ошибка\n",
        "best_n_estimators = np.argmin(errors)\n",
        "print(best_n_estimators)\n",
        "\n",
        "last_estimator = 400 - 1\n",
        "print(f'Error on {best_n_estimators} model - {errors[best_n_estimators]}')\n",
        "print(f'Error on {last_estimator} (last) model - {errors[last_estimator]}')\n",
        "print(f'Error difference - {errors[best_n_estimators] - errors[last_estimator]}')"
      ]
    },
    {
      "cell_type": "code",
      "execution_count": null,
      "metadata": {
        "id": "czUQXxs6SBxR"
      },
      "outputs": [],
      "source": [
        "# обучим ансамбль на \"оптимальном количестве\" моделей\n",
        "gbrt_best = GradientBoostingRegressor(max_depth=2,\n",
        "                                      n_estimators=best_n_estimators,\n",
        "                                      random_state=seed)\n",
        "gbrt_best.fit(X_train, y_train)\n",
        "min_error = np.min(errors)"
      ]
    },
    {
      "cell_type": "code",
      "execution_count": null,
      "metadata": {
        "id": "GpohK2CYcmno"
      },
      "outputs": [],
      "source": [
        "plt.figure(figsize=(20, 4))\n",
        "\n",
        "plt.subplot(121)\n",
        "plt.plot(errors, \"b.-\")\n",
        "plt.plot([best_n_estimators, best_n_estimators], [0, min_error], \"k--\")\n",
        "plt.plot([0, 400], [min_error, min_error], \"k--\")\n",
        "plt.plot(best_n_estimators, min_error, \"ko\")\n",
        "plt.text(best_n_estimators, min_error * 1.2, \"Minimum\", ha=\"center\", fontsize=14)\n",
        "plt.axis([0, 400, 0, 0.01])\n",
        "plt.xlabel(\"Number of trees\")\n",
        "plt.title(\"Validation error\", fontsize=14)\n",
        "\n",
        "plt.subplot(122)\n",
        "plot_predictions([gbrt_best], X, y, axes=[-0.5, 0.5, -0.1, 0.8])\n",
        "plt.title(\"Best model (%d trees)\" % best_n_estimators, fontsize=14)\n",
        "\n",
        "plt.show()"
      ]
    },
    {
      "cell_type": "markdown",
      "metadata": {
        "id": "4Iw1b3Ygcmnq"
      },
      "source": [
        "## LightGBM"
      ]
    },
    {
      "cell_type": "code",
      "execution_count": null,
      "metadata": {
        "id": "cHUUew8tcmnr"
      },
      "outputs": [],
      "source": [
        "import lightgbm as lgb"
      ]
    },
    {
      "cell_type": "code",
      "execution_count": null,
      "metadata": {
        "colab": {
          "base_uri": "https://localhost:8080/"
        },
        "id": "PdJPDBzEsm5N",
        "outputId": "d0591fec-8329-4116-d29b-e6a3c17c63f6"
      },
      "outputs": [
        {
          "output_type": "stream",
          "name": "stdout",
          "text": [
            "Mounted at /content/gdrive/\n"
          ]
        }
      ],
      "source": [
        "from google.colab import drive\n",
        "drive.mount('/content/gdrive/')"
      ]
    },
    {
      "cell_type": "code",
      "execution_count": null,
      "metadata": {
        "id": "UTuozQyHcmnt"
      },
      "outputs": [],
      "source": [
        "# Загрузим данные и проведем предобработки: \n",
        "data = pd.read_csv('./gdrive/My Drive/Colab Notebooks/Seminar_08/flight_delays_train.csv')\n",
        "data['dep_delayed_15min'] = data['dep_delayed_15min'].apply(lambda x: 1 if x == 'Y' else 0)\n",
        "data['Month'] = data['Month'].str.replace('c-', '').astype('int16')\n",
        "data['DayofMonth'] = data['DayofMonth'].str.replace('c-', '').astype('int16')\n",
        "data['DayOfWeek'] = data['DayOfWeek'].str.replace('c-', '').astype('int16')\n",
        "data['UniqueCarrier'] = pd.factorize(data['UniqueCarrier'])[0]\n",
        "data['Origin'] = pd.factorize(data['Origin'])[0]\n",
        "data['Dest'] = pd.factorize(data['Dest'])[0]\n",
        "\n",
        "# DepTime пусть бдет более вещественным числом (так как 60 минут в часах)\n",
        "data['DepTime_real'] = data['DepTime'].apply(lambda x: int(x/100)+((x/100-int(x/100))*100)/59)\n",
        "data.drop('DepTime', axis=1, inplace=True)\n",
        "\n",
        "x = data.drop('dep_delayed_15min', axis=1)\n",
        "y = data['dep_delayed_15min'].values\n",
        "\n",
        "data.head()"
      ]
    },
    {
      "cell_type": "markdown",
      "metadata": {
        "id": "A-OxY922cmnv"
      },
      "source": [
        "Разделим выборку на обучающую и тестовую"
      ]
    },
    {
      "cell_type": "code",
      "execution_count": null,
      "metadata": {
        "id": "890yR1ercmnw"
      },
      "outputs": [],
      "source": [
        "x_train, x_test, y_train, y_test = train_test_split(x, y, train_size=0.7,\n",
        "                                                    shuffle=True,\n",
        "                                                    random_state=seed)"
      ]
    },
    {
      "cell_type": "markdown",
      "metadata": {
        "id": "d_bjeHtxcmny"
      },
      "source": [
        "Создадим датасеты, как того требует библиотека"
      ]
    },
    {
      "cell_type": "code",
      "execution_count": null,
      "metadata": {
        "id": "Abcckqthcmny"
      },
      "outputs": [],
      "source": [
        "trn_data = lgb.Dataset(x_train, label=y_train)\n",
        "val_data = lgb.Dataset(x_test, label=y_test)"
      ]
    },
    {
      "cell_type": "markdown",
      "metadata": {
        "id": "pUGYF06-cmn0"
      },
      "source": [
        "Укажем параметры, для того чтобы бустинг решал задачу классификации"
      ]
    },
    {
      "cell_type": "code",
      "execution_count": null,
      "metadata": {
        "id": "T3lt6URqcmn0"
      },
      "outputs": [],
      "source": [
        "param = {\n",
        "    'boost': 'gbdt',\n",
        "    'metric':'auc',\n",
        "    'num_threads': 1,\n",
        "    'objective': 'binary', \n",
        "}"
      ]
    },
    {
      "cell_type": "markdown",
      "metadata": {
        "id": "hwElNKBicmn2"
      },
      "source": [
        "Обучим модель"
      ]
    },
    {
      "cell_type": "code",
      "execution_count": null,
      "metadata": {
        "id": "lB6WEfAGcmn2"
      },
      "outputs": [],
      "source": [
        "history = {}\n",
        "clf = lgb.train(param, trn_data, num_boost_round=1000, \n",
        "                valid_sets=[trn_data, val_data], \n",
        "                verbose_eval=100,  evals_result=history)"
      ]
    },
    {
      "cell_type": "code",
      "execution_count": null,
      "metadata": {
        "id": "ZCNZsFejcmn5"
      },
      "outputs": [],
      "source": [
        "plt.figure(figsize=(20, 4))\n",
        "\n",
        "plt.plot(history['training']['auc'], label='Train')\n",
        "plt.plot(history['valid_1']['auc'], label='Test')\n",
        "plt.xlabel('Iterations')\n",
        "plt.ylabel('AUC')\n",
        "plt.title('История обучения модели')\n",
        "plt.legend()\n",
        "\n",
        "plt.show()"
      ]
    },
    {
      "cell_type": "markdown",
      "metadata": {
        "id": "7B-9LsD7cmn7"
      },
      "source": [
        "В документации LightGBM есть целый [раздел](https://lightgbm.readthedocs.io/en/latest/Parameters-Tuning.html) о том, как тюнить параметры. \n",
        "Попробуем улучшить качество. "
      ]
    },
    {
      "cell_type": "code",
      "execution_count": null,
      "metadata": {
        "id": "VGXPd-n2cmn7"
      },
      "outputs": [],
      "source": [
        "c = {\n",
        "    'boost': 'gbdt',\n",
        "    'metric':'auc',\n",
        "    'num_threads': 12,\n",
        "    'objective': 'binary', \n",
        "    'bagging_fraction': 0.7, # Не больше 70% выборки\n",
        "    'feature_fraction': 0.7, # Не больше 70% фич\n",
        "    'learning_rate': 0.5, # Установим скорость обучения\n",
        "    'max_depth': 2, # Ограничим дерево\n",
        "    'min_data_in_leaf': 100, # Ограничим кол-во объектов в листе \n",
        "    'num_leaves': 2, # Ограничим кол-во листьев (Не совсем то, что max_depth)\n",
        "}"
      ]
    },
    {
      "cell_type": "code",
      "execution_count": null,
      "metadata": {
        "id": "V9th7YvHcmn9"
      },
      "outputs": [],
      "source": [
        "history = {}\n",
        "\n",
        "# Увеличим кол-во итераций num_boost_round и установим критерий останова early_stopping_rounds\n",
        "clf = lgb.train(param, trn_data, num_boost_round=3000, \n",
        "                valid_sets=[trn_data, val_data], \n",
        "                verbose_eval=200,  evals_result=history,\n",
        "                early_stopping_rounds=100)"
      ]
    },
    {
      "cell_type": "code",
      "execution_count": null,
      "metadata": {
        "id": "JDk4p0Whcmn_"
      },
      "outputs": [],
      "source": [
        "plt.figure(figsize=(20, 4))\n",
        "\n",
        "plt.plot(history['training']['auc'], label='Train')\n",
        "plt.plot(history['valid_1']['auc'], label='Test')\n",
        "plt.xlabel('Iterations')\n",
        "plt.ylabel('AUC')\n",
        "plt.title('История обучения модели')\n",
        "plt.legend()\n",
        "\n",
        "plt.show()"
      ]
    },
    {
      "cell_type": "markdown",
      "metadata": {
        "id": "xWDYkE-E1lQd"
      },
      "source": [
        "## XGboost"
      ]
    },
    {
      "cell_type": "code",
      "execution_count": null,
      "metadata": {
        "id": "BBYpWVAwcmoP"
      },
      "outputs": [],
      "source": [
        "!pip install xgboost\n",
        "from xgboost import XGBClassifier, DMatrix, train"
      ]
    },
    {
      "cell_type": "markdown",
      "metadata": {
        "id": "07Z8OaMhZdTI"
      },
      "source": [
        "Описание [XGBClassifier](https://xgboost.readthedocs.io/en/latest/python/python_api.html?highlight=train#xgboost.XGBClassifier)"
      ]
    },
    {
      "cell_type": "code",
      "execution_count": null,
      "metadata": {
        "id": "omDH6DPMYHr4"
      },
      "outputs": [],
      "source": [
        "params = {\n",
        "    'n_estimators': 450,\n",
        "    'colsample_bytree': 0.75,\n",
        "    'reg_alpha': 1,\n",
        "    'reg_lambda': 2,\n",
        "    'subsample': 0.55,\n",
        "    'learning_rate': 0.5,\n",
        "    'gamma': 0.5,\n",
        "    'min_child_weight': 0.01,\n",
        "    'sampling_method': 'uniform',\n",
        "    'n_jobs': -1,\n",
        "    'gpu_id ': 0,\n",
        "}\n",
        "\n",
        "xgb = XGBClassifier(**params, random_state=seed)"
      ]
    },
    {
      "cell_type": "code",
      "execution_count": null,
      "metadata": {
        "id": "dEHQRun4YlHY"
      },
      "outputs": [],
      "source": [
        "history = {}\n",
        "\n",
        "xgb.fit(x_train, y_train,\n",
        "        eval_metric=['auc'], eval_set=[(x_train, y_train), (x_test, y_test)], \n",
        "        verbose=True, early_stopping_rounds=100)"
      ]
    },
    {
      "cell_type": "code",
      "execution_count": null,
      "metadata": {
        "id": "A0w1sgEr3NGc"
      },
      "outputs": [],
      "source": [
        "preds = xgb.predict(x_test)\n",
        "preds"
      ]
    },
    {
      "cell_type": "code",
      "execution_count": null,
      "metadata": {
        "id": "qZkVKog5VY55"
      },
      "outputs": [],
      "source": [
        "from sklearn.metrics import roc_auc_score"
      ]
    },
    {
      "cell_type": "code",
      "execution_count": null,
      "metadata": {
        "id": "oRfwSsNl17E8"
      },
      "outputs": [],
      "source": [
        "roc_auc_score(y_test, preds)"
      ]
    },
    {
      "cell_type": "markdown",
      "metadata": {
        "id": "5HPsSvUrtkWT"
      },
      "source": [
        "## CatBoost"
      ]
    },
    {
      "cell_type": "code",
      "execution_count": null,
      "metadata": {
        "id": "NyouV-amcmoB"
      },
      "outputs": [],
      "source": [
        "!pip install catboost\n",
        "from catboost import CatBoostClassifier, Pool"
      ]
    },
    {
      "cell_type": "code",
      "execution_count": null,
      "metadata": {
        "id": "RAOW3n2xcmoD"
      },
      "outputs": [],
      "source": [
        "cbc = CatBoostClassifier(random_state=seed, \n",
        "                         early_stopping_rounds=100, \n",
        "                         task_type=\"GPU\", devices='0:1')"
      ]
    },
    {
      "cell_type": "code",
      "execution_count": null,
      "metadata": {
        "id": "tumurJRTcmoF"
      },
      "outputs": [],
      "source": [
        "# Загрузим данные и не проведем предобработки: \n",
        "data = pd.read_csv('./gdrive/My Drive/Colab Notebooks/Seminar_08/flight_delays_train.csv')\n",
        "data['dep_delayed_15min'] = data['dep_delayed_15min'].apply(lambda x: 1 if x == 'Y' else 0)\n",
        "\n",
        "data.drop('DepTime', axis=1, inplace=True)\n",
        "\n",
        "x = data.drop('dep_delayed_15min', axis=1)\n",
        "y = data['dep_delayed_15min'].values\n",
        "\n",
        "data.head()"
      ]
    },
    {
      "cell_type": "code",
      "execution_count": null,
      "metadata": {
        "id": "EEh0Fzrdu6Ga"
      },
      "outputs": [],
      "source": [
        "x_train, x_test, y_train, y_test = train_test_split(x, y, train_size=0.7,\n",
        "                                                    shuffle=True, \n",
        "                                                    random_state=seed)"
      ]
    },
    {
      "cell_type": "code",
      "execution_count": null,
      "metadata": {
        "id": "m1b7bMKmucbL"
      },
      "outputs": [],
      "source": [
        "x_train.head()"
      ]
    },
    {
      "cell_type": "code",
      "execution_count": null,
      "metadata": {
        "id": "vlNuxbbcbB6f"
      },
      "outputs": [],
      "source": [
        "from google.colab import output\n",
        "output.enable_custom_widget_manager()"
      ]
    },
    {
      "cell_type": "code",
      "execution_count": null,
      "metadata": {
        "id": "eynvMvz9cmoH"
      },
      "outputs": [],
      "source": [
        "valid_set = [x_test, y_test]\n",
        "\n",
        "eval_dataset = Pool(data=x_test,\n",
        "                    label=y_test,\n",
        "                    cat_features=[0, 1, 2, 3, 4, 5])\n",
        "\n",
        "cbc.fit(x_train, y_train, cat_features=[0, 1, 2, 3, 4, 5], eval_set=eval_dataset, \n",
        "        verbose=1, plot=True)"
      ]
    },
    {
      "cell_type": "code",
      "execution_count": null,
      "metadata": {
        "id": "fiVizCUJcmoK"
      },
      "outputs": [],
      "source": [
        "preds = cbc.predict(eval_dataset)"
      ]
    },
    {
      "cell_type": "code",
      "execution_count": null,
      "metadata": {
        "id": "osCMrOqS0gqX"
      },
      "outputs": [],
      "source": [
        "preds"
      ]
    },
    {
      "cell_type": "code",
      "execution_count": null,
      "metadata": {
        "id": "p9wT6slBcmoN"
      },
      "outputs": [],
      "source": [
        "roc_auc_score(y_test, preds)"
      ]
    }
  ],
  "metadata": {
    "accelerator": "GPU",
    "colab": {
      "collapsed_sections": [],
      "provenance": [],
      "toc_visible": true
    },
    "kernelspec": {
      "display_name": "Python 3",
      "language": "python",
      "name": "python3"
    },
    "language_info": {
      "codemirror_mode": {
        "name": "ipython",
        "version": 3
      },
      "file_extension": ".py",
      "mimetype": "text/x-python",
      "name": "python",
      "nbconvert_exporter": "python",
      "pygments_lexer": "ipython3",
      "version": "3.7.2"
    }
  },
  "nbformat": 4,
  "nbformat_minor": 0
}