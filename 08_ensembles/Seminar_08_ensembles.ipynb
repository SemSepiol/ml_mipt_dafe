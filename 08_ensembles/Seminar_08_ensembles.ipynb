{
  "nbformat": 4,
  "nbformat_minor": 0,
  "metadata": {
    "kernelspec": {
      "display_name": "Python 3",
      "language": "python",
      "name": "python3"
    },
    "language_info": {
      "codemirror_mode": {
        "name": "ipython",
        "version": 3
      },
      "file_extension": ".py",
      "mimetype": "text/x-python",
      "name": "python",
      "nbconvert_exporter": "python",
      "pygments_lexer": "ipython3",
      "version": "3.7.2"
    },
    "colab": {
      "provenance": [],
      "collapsed_sections": [],
      "toc_visible": true
    }
  },
  "cells": [
    {
      "cell_type": "markdown",
      "metadata": {
        "id": "PmZpt5cgDcPw"
      },
      "source": [
        "# Семинар 8 - Композиции алгоритмов"
      ]
    },
    {
      "cell_type": "markdown",
      "metadata": {
        "id": "ecjpqpMok8eh"
      },
      "source": [
        "## Bias-Variance decomposition"
      ]
    },
    {
      "cell_type": "code",
      "metadata": {
        "id": "fPtlnBa24uv8"
      },
      "source": [
        "import numpy as np\n",
        "import matplotlib.pyplot as plt"
      ],
      "execution_count": null,
      "outputs": []
    },
    {
      "cell_type": "code",
      "metadata": {
        "id": "TPl1NddU45kV"
      },
      "source": [
        "def true_dep(x):\n",
        "    return np.cos((x - 0.2)**2) + 0.2 / (1 + 50 * (x - 0.3)**2)\n",
        "\n",
        "x_true = np.linspace(0, 1, 100)\n",
        "y_true = true_dep(x_true)\n",
        "\n",
        "def generate_n_datasets(num_datasets, dataset_length, noise_power=0.02):\n",
        "    shape = (num_datasets, dataset_length, 1)\n",
        "    x = np.random.uniform(size=shape)\n",
        "    y = true_dep(x) + np.random.normal(scale=noise_power, size=shape)\n",
        "    return x, y"
      ],
      "execution_count": null,
      "outputs": []
    },
    {
      "cell_type": "code",
      "metadata": {
        "id": "AMq2dk0b7KAN"
      },
      "source": [
        "x, y = generate_n_datasets(1, 30)\n",
        "plt.scatter(x.squeeze(), y.squeeze(), s=20, c='orange')\n",
        "plt.plot(x_true, y_true, c='c', linewidth=1.5);"
      ],
      "execution_count": null,
      "outputs": []
    },
    {
      "cell_type": "code",
      "metadata": {
        "id": "XmhwKmCb9IGM"
      },
      "source": [
        "from copy import deepcopy\n",
        "from tqdm import tqdm, trange"
      ],
      "execution_count": null,
      "outputs": []
    },
    {
      "cell_type": "code",
      "metadata": {
        "id": "9rWsmqAu8NDm"
      },
      "source": [
        "def calc_bias2_variance(model, datasets_X, datasets_y):\n",
        "    preds = []\n",
        "    for X, y in tqdm(zip(datasets_X, datasets_y), total=len(datasets_X)):\n",
        "        m = deepcopy(model)\n",
        "        m.fit(X, y)\n",
        "        preds.append(m.predict(x_true[:,np.newaxis]).squeeze())\n",
        "    preds = np.array(preds)\n",
        "    mean_pred = preds.mean(axis=0)\n",
        "    bias2 = (y_true - mean_pred)**2\n",
        "    variance = ((preds - mean_pred[np.newaxis,...])**2).mean(axis=0)\n",
        "\n",
        "    return bias2, variance, preds"
      ],
      "execution_count": null,
      "outputs": []
    },
    {
      "cell_type": "code",
      "metadata": {
        "id": "mO6xg7VB-fg-"
      },
      "source": [
        "from sklearn.linear_model import LinearRegression\n",
        "from sklearn.pipeline import Pipeline\n",
        "from sklearn.preprocessing import PolynomialFeatures"
      ],
      "execution_count": null,
      "outputs": []
    },
    {
      "cell_type": "markdown",
      "metadata": {
        "id": "NbMn1f-T8WYY"
      },
      "source": [
        "As you can see, we are using the `Pipeline` once again to both preprocess the feature space and fit the model at once."
      ]
    },
    {
      "cell_type": "code",
      "metadata": {
        "id": "3zerleLK-pvJ"
      },
      "source": [
        "MAX_POWER = 6\n",
        "powers = np.arange(1, MAX_POWER+1)\n",
        "\n",
        "bias2, variance, preds = [], [], []\n",
        "for p in powers:\n",
        "    model = Pipeline([\n",
        "      ('poly', PolynomialFeatures(degree=p)),\n",
        "      ('linear', LinearRegression())\n",
        "    ])\n",
        "\n",
        "    b2, v, p = calc_bias2_variance(model, *generate_n_datasets(1000, 20))\n",
        "    bias2.append(b2)\n",
        "    variance.append(v)\n",
        "    preds.append(p)\n",
        "\n",
        "bias2 = np.array(bias2)\n",
        "variance = np.array(variance)"
      ],
      "execution_count": null,
      "outputs": []
    },
    {
      "cell_type": "code",
      "metadata": {
        "id": "LvTGdDn6hJ5n"
      },
      "source": [
        "ncols = 4\n",
        "nrows = int(np.ceil(len(powers) / ncols))\n",
        "\n",
        "plt.figure(figsize=(18, 3.5 * nrows))\n",
        "\n",
        "yrange = y_true.max() - y_true.min()\n",
        "\n",
        "for i, (pred, pow) in tqdm(enumerate(zip(preds, powers), 1)):\n",
        "    plt.subplot(nrows, ncols, i)\n",
        "    for p in pred[np.random.choice(len(pred), size=200, replace=False)]:\n",
        "        plt.plot(x_true, p, linewidth=0.05, c='b');\n",
        "    plt.plot(x_true, y_true, linewidth=3, label='Truth', c='r')\n",
        "    plt.ylim(y_true.min() - 0.5 * yrange, y_true.max() + 0.5 * yrange)\n",
        "    plt.title('power = {}'.format(pow))\n",
        "    plt.legend();"
      ],
      "execution_count": null,
      "outputs": []
    },
    {
      "cell_type": "code",
      "metadata": {
        "id": "FCYG8jE6fxf2"
      },
      "source": [
        "plt.plot(powers, bias2.mean(axis=1), label='bias^2')\n",
        "plt.plot(powers, variance.mean(axis=1), label='variance')\n",
        "plt.legend()\n",
        "plt.yscale('log')\n",
        "plt.xlabel('power');"
      ],
      "execution_count": null,
      "outputs": []
    },
    {
      "cell_type": "markdown",
      "metadata": {
        "id": "CHwVxiY8CMRM"
      },
      "source": [
        "## Data"
      ]
    },
    {
      "cell_type": "markdown",
      "metadata": {
        "id": "GVhFBvvMOcEr"
      },
      "source": [
        "[Данные](https://drive.google.com/uc?export=download&id=1MClDyojQWLWxQ6NLXbB9D8zB6dMImf1P)"
      ]
    },
    {
      "cell_type": "code",
      "metadata": {
        "id": "JIGKGua4DcPx"
      },
      "source": [
        "import pandas as pd\n",
        "import numpy as np\n",
        "%matplotlib inline\n",
        "import seaborn as sns\n",
        "import matplotlib.pyplot as plt\n",
        "sns.set(palette='deep', style='darkgrid', rc={\"figure.figsize\": (15, 4)})\n",
        "import scipy.stats as st\n",
        "\n",
        "import warnings\n",
        "warnings.simplefilter('ignore')"
      ],
      "execution_count": null,
      "outputs": []
    },
    {
      "cell_type": "code",
      "metadata": {
        "id": "6uwjcjtnFVyj",
        "colab": {
          "base_uri": "https://localhost:8080/"
        },
        "outputId": "e1a9ff0a-a4dd-4fb8-8e3e-31661d53ef46"
      },
      "source": [
        "from google.colab import drive\n",
        "drive.mount('/content/gdrive/')"
      ],
      "execution_count": null,
      "outputs": [
        {
          "output_type": "stream",
          "name": "stdout",
          "text": [
            "Mounted at /content/gdrive/\n"
          ]
        }
      ]
    },
    {
      "cell_type": "code",
      "metadata": {
        "id": "p1XUd6EaVVJj"
      },
      "source": [
        "data = pd.read_csv('./gdrive/My Drive/Colab Notebooks/Seminar_08/flight_delays_train.csv')"
      ],
      "execution_count": null,
      "outputs": []
    },
    {
      "cell_type": "code",
      "metadata": {
        "id": "GiD-CucpVVMD"
      },
      "source": [
        "data.head()"
      ],
      "execution_count": null,
      "outputs": []
    },
    {
      "cell_type": "code",
      "metadata": {
        "id": "X5Tp-zCMDcP0"
      },
      "source": [
        "# Загрузим данные и проведем предобработки: \n",
        "data['dep_delayed_15min'] = data['dep_delayed_15min'].apply(lambda x: 1 if x == 'Y' else 0)\n",
        "data['Month'] = data['Month'].str.replace('c-', '').astype('int16')\n",
        "data['DayofMonth'] = data['DayofMonth'].str.replace('c-', '').astype('int16')\n",
        "data['DayOfWeek'] = data['DayOfWeek'].str.replace('c-', '').astype('int16')\n",
        "\n",
        "data['UniqueCarrier'] = pd.factorize(data['UniqueCarrier'])[0]\n",
        "data['Origin'] = pd.factorize(data['Origin'])[0]\n",
        "data['Dest'] = pd.factorize(data['Dest'])[0]\n",
        "\n",
        "# DepTime пусть будет более вещественным числом (так как 60 минут в часах)\n",
        "data['DepTime_real'] = data['DepTime'].apply(lambda x: int(x/100)+((x/100-int(x/100))*100)/60)\n",
        "data.drop('DepTime', axis=1, inplace=True)\n",
        "\n",
        "\n",
        "x = data.drop('dep_delayed_15min', axis=1)\n",
        "y = data['dep_delayed_15min'].values\n",
        "\n",
        "\n",
        "data.head()"
      ],
      "execution_count": null,
      "outputs": []
    },
    {
      "cell_type": "markdown",
      "metadata": {
        "id": "uhY0kvEEDcP4"
      },
      "source": [
        "## Bootstrap\n",
        "Посмотрим плотности распредления переменной \"Время Вылета\" для задержки менее 15 минут и более"
      ]
    },
    {
      "cell_type": "code",
      "metadata": {
        "id": "8G0iPMgeDcP4"
      },
      "source": [
        "sns.kdeplot(data[data['dep_delayed_15min'] == 0]['DepTime_real'], label='Задержка рейса менее 15 мин')\n",
        "sns.kdeplot(data[data['dep_delayed_15min'] == 1]['DepTime_real'], label='Задержка рейса более 15 мин')\n",
        "plt.legend()\n",
        "plt.show()"
      ],
      "execution_count": null,
      "outputs": []
    },
    {
      "cell_type": "code",
      "metadata": {
        "id": "Ni5f8jnUDcP6"
      },
      "source": [
        "print('Среднее', data[data['dep_delayed_15min'] == 1]['DepTime_real'].mean())\n",
        "print('Среднее', data[data['dep_delayed_15min'] == 0]['DepTime_real'].mean())"
      ],
      "execution_count": null,
      "outputs": []
    },
    {
      "cell_type": "code",
      "metadata": {
        "id": "zm1UnOgCDcP9"
      },
      "source": [
        "def get_bootstrap_samples(data, n_samples):\n",
        "    # функция для генерации подвыборок с помощью бутстрэпа\n",
        "    samples =  # ваш код здесь\n",
        "    return samples\n",
        "\n",
        "def stat_intervals(stat, alpha):\n",
        "    # функция для интервальной оценки\n",
        "    boundaries = np.percentile(stat, [100 * alpha / 2., 100 * (1 - alpha / 2.)])\n",
        "    return boundaries"
      ],
      "execution_count": null,
      "outputs": []
    },
    {
      "cell_type": "code",
      "metadata": {
        "id": "eQjygPPXDcP_"
      },
      "source": [
        "# сохранение в отдельные numpy массивы данных по вылетам с задержками и без \n",
        "no_delayed = data[data['dep_delayed_15min'] == 0]['DepTime_real'].values\n",
        "delayed = data[data['dep_delayed_15min'] == 1]['DepTime_real'].values\n",
        "\n",
        "# ставим seed для воспроизводимости результатов\n",
        "np.random.seed(0)\n",
        "\n",
        "# генерируем 1000 выборок с помощью бутстрэпа и сразу считаем по каждой из них среднее\n",
        "no_delayed_mean_scores = [np.mean(sample) \n",
        "                       for sample in get_bootstrap_samples(no_delayed, 1000)]\n",
        "delayed_mean_scores = [np.mean(sample) \n",
        "                       for sample in get_bootstrap_samples(delayed, 1000)]"
      ],
      "execution_count": null,
      "outputs": []
    },
    {
      "cell_type": "code",
      "metadata": {
        "id": "ix2YHFwgDcQB"
      },
      "source": [
        "#  выводим интервальную оценку среднего\n",
        "print(\"Среднее время вылета по рейсам без задержек в интервале:\",  stat_intervals(no_delayed_mean_scores, 0.05))\n",
        "print(\"Среднее время вылета по рейсам с задержками в интервале:\",  stat_intervals(delayed_mean_scores, 0.05))"
      ],
      "execution_count": null,
      "outputs": []
    },
    {
      "cell_type": "markdown",
      "metadata": {
        "id": "c6UZYpmUDcQE"
      },
      "source": [
        "## Bagging (Bootstrap aggregating)"
      ]
    },
    {
      "cell_type": "code",
      "metadata": {
        "id": "OZ0PX9QVDcQE"
      },
      "source": [
        "from sklearn.ensemble import BaggingClassifier, BaggingRegressor, RandomForestClassifier\n",
        "from sklearn.model_selection import train_test_split, cross_val_score\n",
        "from sklearn.tree import DecisionTreeClassifier, DecisionTreeRegressor\n",
        "from sklearn.metrics import roc_auc_score, accuracy_score"
      ],
      "execution_count": null,
      "outputs": []
    },
    {
      "cell_type": "code",
      "metadata": {
        "id": "1u1g9LSoDcQG"
      },
      "source": [
        "tree = DecisionTreeClassifier()"
      ],
      "execution_count": null,
      "outputs": []
    },
    {
      "cell_type": "code",
      "metadata": {
        "id": "ev8vo4edDcQI"
      },
      "source": [
        "# Посчитаем значение метрики accuracy на кроссвалидаци для дерева\n",
        "np.mean(cross_val_score(tree, x, y, cv=3))"
      ],
      "execution_count": null,
      "outputs": []
    },
    {
      "cell_type": "code",
      "metadata": {
        "id": "KRKBm8swDcQK"
      },
      "source": [
        "# Посчитаем значение метрики accuracy на кроссвалидаци для композиции деревьев построенной на бутстрап выборке\n",
        "bag_of_trees = BaggingClassifier(tree)\n",
        "np.mean(cross_val_score(bag_of_trees, x, y, cv=3))"
      ],
      "execution_count": null,
      "outputs": []
    },
    {
      "cell_type": "code",
      "metadata": {
        "id": "usRhSmtiWrkZ"
      },
      "source": [
        "# Для ограниченного числа признаков\n",
        "tree = DecisionTreeClassifier(max_features=int(x.shape[1]**0.5))\n",
        "bag_of_trees = BaggingClassifier(tree)\n",
        "np.mean(cross_val_score(bag_of_trees, x, y, cv=3))"
      ],
      "execution_count": null,
      "outputs": []
    },
    {
      "cell_type": "markdown",
      "metadata": {
        "id": "fSyQSIEZDcQU"
      },
      "source": [
        "## Случайный лес"
      ]
    },
    {
      "cell_type": "markdown",
      "metadata": {
        "id": "HOni_VeMDcQS"
      },
      "source": [
        "### Как можно добавить случайности? \n",
        "\n",
        "Например: Ограничить кол-во признаков, по которым проводить разбиение"
      ]
    },
    {
      "cell_type": "code",
      "metadata": {
        "id": "qKF4ACXqY1zn"
      },
      "source": [
        "RandomForestClassifier()"
      ],
      "execution_count": null,
      "outputs": []
    },
    {
      "cell_type": "code",
      "metadata": {
        "id": "mlHFTWP0DcQV"
      },
      "source": [
        "forest = RandomForestClassifier(n_jobs=-1)\n",
        "np.mean(cross_val_score(forest, x,y, cv=3, n_jobs=-1))"
      ],
      "execution_count": null,
      "outputs": []
    },
    {
      "cell_type": "markdown",
      "metadata": {
        "id": "vYDftxrbDcQW"
      },
      "source": [
        "### Что будет, если ограничить глубину построенных деревьев? "
      ]
    },
    {
      "cell_type": "code",
      "metadata": {
        "id": "T7agKAapDcQX"
      },
      "source": [
        "#Разделим выборку на обущающую и тестовую\n",
        "x_train, x_test, y_train, y_test = train_test_split(x, y, train_size=0.7, test_size=0.3, \\\n",
        "                                                    shuffle=True, random_state=21)"
      ],
      "execution_count": null,
      "outputs": []
    },
    {
      "cell_type": "code",
      "metadata": {
        "id": "Po4cBKHADcQZ"
      },
      "source": [
        "train_score = []\n",
        "test_score = []\n",
        "\n",
        "# ваш код здесь\n",
        "for i in range(1,16):\n",
        "    # ваш код здесь\n"
      ],
      "execution_count": null,
      "outputs": []
    },
    {
      "cell_type": "code",
      "metadata": {
        "id": "gJ4u76bqDcQb"
      },
      "source": [
        "plt.title('Зависимость качества алгоритма в зависимости от глубины деревьев')\n",
        "plt.plot(range(1,16), train_score, label=\"Качетство на обучении\")\n",
        "plt.plot(range(1,16), test_score, label=\"Качетство на тесте\")\n",
        "plt.legend()\n",
        "plt.ylabel('Доля правильных ответов')\n",
        "plt.xlabel('Глубина деревьев')\n",
        "plt.show()"
      ],
      "execution_count": null,
      "outputs": []
    },
    {
      "cell_type": "markdown",
      "metadata": {
        "id": "LsMV5AswDcQN"
      },
      "source": [
        "## Out-of-bag error\n",
        "\n",
        "Какая часть выборки попадает в обучение при Bootstrap?"
      ]
    },
    {
      "cell_type": "code",
      "metadata": {
        "id": "HmTAi-OfDcQN"
      },
      "source": [
        "tree = DecisionTreeClassifier()\n",
        "bag_of_trees = BaggingClassifier(tree, n_estimators=20, oob_score=True, n_jobs=-1)"
      ],
      "execution_count": null,
      "outputs": []
    },
    {
      "cell_type": "code",
      "metadata": {
        "id": "U7MoIcp_DcQP"
      },
      "source": [
        "bag_of_trees.fit(x,y)\n",
        "bag_of_trees.oob_score_"
      ],
      "execution_count": null,
      "outputs": []
    },
    {
      "cell_type": "markdown",
      "metadata": {
        "id": "aIVY0q9YDcQd"
      },
      "source": [
        "## Важность признкаов\n",
        "Одно из замечательных свойств, возможность посмотреть важность каждого признака, оценив вклад\n",
        "\n",
        "**Как это работает?** (ваши предположения) "
      ]
    },
    {
      "cell_type": "code",
      "metadata": {
        "id": "7hM7Gxj6DcQd"
      },
      "source": [
        "feature_importances = pd.DataFrame(forest.feature_importances_, index=x_train.columns, columns=['Importance']\n",
        "            ).sort_values('Importance', ascending=False)\n",
        "\n",
        "sns.barplot(y=feature_importances['Importance'], x=feature_importances.index, palette=\"rocket\")\n",
        "plt.ylabel('Важность')\n",
        "plt.xlabel('Признак')\n",
        "plt.show()"
      ],
      "execution_count": null,
      "outputs": []
    },
    {
      "cell_type": "markdown",
      "metadata": {
        "id": "WCE_b2soDJeM"
      },
      "source": [
        "## Ensembles of algorithms of different classes"
      ]
    },
    {
      "cell_type": "markdown",
      "metadata": {
        "id": "lgN-ZEOehIsG"
      },
      "source": [
        "### Определим базовые алгоритмы"
      ]
    },
    {
      "cell_type": "code",
      "metadata": {
        "id": "F9ZJdn-8cdM1"
      },
      "source": [
        "from sklearn.model_selection import train_test_split\n",
        "x_train, x_test, y_train, y_test = train_test_split(x, y, test_size=0.25, shuffle=True, random_state=21)"
      ],
      "execution_count": null,
      "outputs": []
    },
    {
      "cell_type": "code",
      "metadata": {
        "id": "FJWueYU9DVFa"
      },
      "source": [
        "from sklearn import naive_bayes\n",
        "\n",
        "sklearn_nb = naive_bayes.GaussianNB()\n",
        "sklearn_nb.fit(x_train, y_train)\n",
        "sklearn_nb_pred = sklearn_nb.predict(x_test)\n",
        "sklearn_nb_pred_proba = sklearn_nb.predict_proba(x_test)\n",
        "accuracy_score(sklearn_nb_pred, y_test)"
      ],
      "execution_count": null,
      "outputs": []
    },
    {
      "cell_type": "code",
      "metadata": {
        "id": "sl3NP9soDVs7"
      },
      "source": [
        "from sklearn.neighbors import KNeighborsClassifier\n",
        "\n",
        "sklearn_knn = KNeighborsClassifier()\n",
        "sklearn_knn.fit(x_train, y_train)\n",
        "sklearn_knn_pred = sklearn_knn.predict(x_test)\n",
        "sklearn_knn_pred_proba = sklearn_knn.predict_proba(x_test)\n",
        "accuracy_score(sklearn_knn_pred, y_test)"
      ],
      "execution_count": null,
      "outputs": []
    },
    {
      "cell_type": "code",
      "metadata": {
        "id": "4Rc2gJCrDVvb"
      },
      "source": [
        "from sklearn.linear_model import LogisticRegression\n",
        "\n",
        "sklearn_lс = LogisticRegression()\n",
        "sklearn_lс.fit(x_train, y_train)\n",
        "sklearn_lс_pred = sklearn_lс.predict(x_test)\n",
        "sklearn_lс_pred_proba = sklearn_lс.predict_proba(x_test)\n",
        "accuracy_score(sklearn_lс_pred, y_test)"
      ],
      "execution_count": null,
      "outputs": []
    },
    {
      "cell_type": "code",
      "metadata": {
        "id": "EjdD5DBnf0yg"
      },
      "source": [
        "from sklearn.svm import SVC\n",
        "\n",
        "sklearn_svc = SVC(kernel='linear', C=1e5, max_iter=100, probability=True)\n",
        "sklearn_svc.fit(x_train, y_train)\n",
        "sklearn_svc_pred = sklearn_svc.predict(x_test)\n",
        "sklearn_svc_pred_proba = sklearn_svc.predict_proba(x_test)\n",
        "accuracy_score(sklearn_svc_pred, y_test)"
      ],
      "execution_count": null,
      "outputs": []
    },
    {
      "cell_type": "code",
      "metadata": {
        "id": "PDs8RpV4ekae"
      },
      "source": [
        "from sklearn.tree import DecisionTreeClassifier\n",
        "\n",
        "sklearn_tree = DecisionTreeClassifier()\n",
        "sklearn_tree.fit(x_train, y_train)\n",
        "sklearn_tree_pred = sklearn_tree.predict(x_test)\n",
        "sklearn_tree_pred_proba = sklearn_tree.predict_proba(x_test)\n",
        "accuracy_score(sklearn_tree_pred, y_test)"
      ],
      "execution_count": null,
      "outputs": []
    },
    {
      "cell_type": "markdown",
      "metadata": {
        "id": "4Kgdf8LhhL3m"
      },
      "source": [
        "### Выберем алгоритмы"
      ]
    },
    {
      "cell_type": "code",
      "metadata": {
        "id": "3kkFckaBe9W7"
      },
      "source": [
        "d = {'sklearn_nb': sklearn_nb_pred, 'sklearn_knn': sklearn_knn_pred, 'sklearn_knn': sklearn_knn_pred, 'sklearn_lс': sklearn_lс_pred, 'sklearn_svc': sklearn_svc_pred, 'sklearn_tree': sklearn_tree_pred}\n",
        "df = pd.DataFrame(data=d)\n",
        "df"
      ],
      "execution_count": null,
      "outputs": []
    },
    {
      "cell_type": "code",
      "metadata": {
        "id": "SkA0F-woe9Z3"
      },
      "source": [
        "f = plt.figure(figsize=(10, 9))\n",
        "plt.matshow(df.corr(), fignum=f.number)\n",
        "plt.xticks(range(df.select_dtypes(['number']).shape[1]), df.select_dtypes(['number']).columns, fontsize=14, rotation=45)\n",
        "plt.yticks(range(df.select_dtypes(['number']).shape[1]), df.select_dtypes(['number']).columns, fontsize=14)\n",
        "cb = plt.colorbar()\n",
        "cb.ax.tick_params(labelsize=14)\n",
        "plt.title('Correlation Matrix', fontsize=16);"
      ],
      "execution_count": null,
      "outputs": []
    },
    {
      "cell_type": "code",
      "metadata": {
        "id": "qtqLZDSMjh4t"
      },
      "source": [
        "df.corr()"
      ],
      "execution_count": null,
      "outputs": []
    },
    {
      "cell_type": "markdown",
      "metadata": {
        "id": "JuXyGGqahUSA"
      },
      "source": [
        "### Применим подход Blending"
      ]
    },
    {
      "cell_type": "code",
      "metadata": {
        "id": "9148rMImmccJ"
      },
      "source": [
        "blend_pred_proba = # ваш код"
      ],
      "execution_count": null,
      "outputs": []
    },
    {
      "cell_type": "code",
      "metadata": {
        "id": "DgfsW1CEmgKy"
      },
      "source": [
        "blend_pred = # ваш код"
      ],
      "execution_count": null,
      "outputs": []
    },
    {
      "cell_type": "code",
      "metadata": {
        "id": "faXySOxnhZb7"
      },
      "source": [
        "accuracy_score(blend_pred, y_test)"
      ],
      "execution_count": null,
      "outputs": []
    },
    {
      "cell_type": "markdown",
      "metadata": {
        "id": "VodphaaEhbDP"
      },
      "source": [
        "### Применим подход Stacking"
      ]
    },
    {
      "cell_type": "code",
      "metadata": {
        "id": "N4tLa6EZnnB4"
      },
      "source": [
        "x_train, x_test, y_train, y_test = train_test_split(x, y, test_size=0.25, shuffle=True, random_state=21)"
      ],
      "execution_count": null,
      "outputs": []
    },
    {
      "cell_type": "code",
      "metadata": {
        "id": "FMldEzWDnqMh"
      },
      "source": [
        "x_train, x_val, y_train, y_val = train_test_split(x_train, y_train, test_size=0.25, shuffle=True, random_state=21)"
      ],
      "execution_count": null,
      "outputs": []
    },
    {
      "cell_type": "code",
      "metadata": {
        "id": "nUDxd0hFn-BB"
      },
      "source": [
        "sklearn_nb.fit(x_train, y_train)\n",
        "sklearn_nb_pred = sklearn_nb.predict(x_val)"
      ],
      "execution_count": null,
      "outputs": []
    },
    {
      "cell_type": "code",
      "metadata": {
        "id": "OO29PJsFn-IQ"
      },
      "source": [
        "sklearn_knn.fit(x_train, y_train)\n",
        "sklearn_knn_pred = sklearn_knn.predict(x_val)"
      ],
      "execution_count": null,
      "outputs": []
    },
    {
      "cell_type": "code",
      "metadata": {
        "id": "XQbShK_ln-LH"
      },
      "source": [
        "sklearn_lс.fit(x_train, y_train)\n",
        "sklearn_lс_pred = sklearn_lс.predict(x_val)"
      ],
      "execution_count": null,
      "outputs": []
    },
    {
      "cell_type": "code",
      "metadata": {
        "id": "6wVCx1vUn-N4"
      },
      "source": [
        "sklearn_svc.fit(x_train, y_train)\n",
        "sklearn_svc_pred = sklearn_svc.predict(x_val)"
      ],
      "execution_count": null,
      "outputs": []
    },
    {
      "cell_type": "code",
      "metadata": {
        "id": "ZXwec_6Yn-Qw"
      },
      "source": [
        "sklearn_tree.fit(x_train, y_train)\n",
        "sklearn_tree_pred = sklearn_tree.predict(x_val)"
      ],
      "execution_count": null,
      "outputs": []
    },
    {
      "cell_type": "code",
      "metadata": {
        "id": "LG9guEmypa3O"
      },
      "source": [
        "d = {'sklearn_nb': sklearn_nb_pred, 'sklearn_knn': sklearn_knn_pred, 'sklearn_knn': sklearn_knn_pred, 'sklearn_lс': sklearn_lс_pred, 'sklearn_svc': sklearn_svc_pred, 'sklearn_tree': sklearn_tree_pred}\n",
        "df = pd.DataFrame(data=d)\n",
        "df"
      ],
      "execution_count": null,
      "outputs": []
    },
    {
      "cell_type": "code",
      "metadata": {
        "id": "H_naBjhGm7q5"
      },
      "source": [
        "import torch\n",
        "from torch import nn\n",
        "import torch.nn.functional as F"
      ],
      "execution_count": null,
      "outputs": []
    },
    {
      "cell_type": "code",
      "metadata": {
        "id": "ZxZ0A5i2he2j"
      },
      "source": [
        "# create a network that stacks layers on top of each other\n",
        "model = nn.Sequential()\n",
        "\n",
        "# add first \"dense\" layer with 64 input units and 1 output unit. \n",
        "model.add_module('l1', nn.Linear(5, 1))\n",
        "\n",
        "# add softmax activation for probabilities. Normalize over axis 1\n",
        "# note: layer names must be unique\n",
        "model.add_module('l2', nn.Sigmoid())"
      ],
      "execution_count": null,
      "outputs": []
    },
    {
      "cell_type": "code",
      "metadata": {
        "id": "ZjV09qMynNeh"
      },
      "source": [
        "opt = torch.optim.SGD(model.parameters(), lr=1e-3)"
      ],
      "execution_count": null,
      "outputs": []
    },
    {
      "cell_type": "code",
      "metadata": {
        "id": "UWwbGrr9qRcG"
      },
      "source": [
        "df.values[100]"
      ],
      "execution_count": null,
      "outputs": []
    },
    {
      "cell_type": "code",
      "metadata": {
        "id": "sVkDk8PenPHR"
      },
      "source": [
        "history = []\n",
        "\n",
        "for i in range(10000):\n",
        "    \n",
        "    # sample 256 random predicts\n",
        "    ix = np.random.randint(0, df.shape[0], 256)\n",
        "    x_batch = torch.tensor(df.values[ix], dtype=torch.float32)\n",
        "    y_batch = torch.tensor(y_val[ix], dtype=torch.float32)\n",
        "    \n",
        "    # predict probabilities\n",
        "    y_predicted = model(x_batch)[:, 0]\n",
        "        \n",
        "    # compute loss, just like before\n",
        "    loss = F.binary_cross_entropy(y_predicted, y_batch)\n",
        "    \n",
        "    loss.backward()\n",
        "    \n",
        "    opt.step()\n",
        "\n",
        "    opt.zero_grad()\n",
        "\n",
        "    history.append(loss.data.numpy())\n",
        "    \n",
        "    if i % 1000 == 0:\n",
        "        print(\"step #%i | mean loss = %.3f\" % (i, np.mean(history[-10:])))"
      ],
      "execution_count": null,
      "outputs": []
    },
    {
      "cell_type": "code",
      "metadata": {
        "id": "GLAZ5MHUrnNt"
      },
      "source": [
        "model.eval()"
      ],
      "execution_count": null,
      "outputs": []
    },
    {
      "cell_type": "code",
      "metadata": {
        "id": "sqZjOc06qwFk"
      },
      "source": [
        "sklearn_nb_pred = sklearn_nb.predict(x_test)\n",
        "sklearn_knn_pred = sklearn_knn.predict(x_test)\n",
        "sklearn_lс_pred = sklearn_lс.predict(x_test)\n",
        "sklearn_svc_pred = sklearn_svc.predict(x_test)\n",
        "sklearn_tree_pred = sklearn_tree.predict(x_test)"
      ],
      "execution_count": null,
      "outputs": []
    },
    {
      "cell_type": "code",
      "metadata": {
        "id": "bp6_yen6qwFl"
      },
      "source": [
        "d = {'sklearn_nb': sklearn_nb_pred, 'sklearn_knn': sklearn_knn_pred, 'sklearn_knn': sklearn_knn_pred, 'sklearn_lс': sklearn_lс_pred, 'sklearn_svc': sklearn_svc_pred, 'sklearn_tree': sklearn_tree_pred}\n",
        "df = pd.DataFrame(data=d)"
      ],
      "execution_count": null,
      "outputs": []
    },
    {
      "cell_type": "code",
      "metadata": {
        "id": "_puy4mp3rhMD"
      },
      "source": [
        "stacking_pred_proba = model(torch.tensor(df.values, dtype=torch.float32))"
      ],
      "execution_count": null,
      "outputs": []
    },
    {
      "cell_type": "code",
      "metadata": {
        "id": "BYokbMVwrkZE"
      },
      "source": [
        "stacking_pred = np.array(stacking_pred_proba.detach().numpy(), dtype=np.int)"
      ],
      "execution_count": null,
      "outputs": []
    },
    {
      "cell_type": "code",
      "metadata": {
        "id": "hgE2AoianPKf"
      },
      "source": [
        "accuracy_score(stacking_pred, y_test)"
      ],
      "execution_count": null,
      "outputs": []
    },
    {
      "cell_type": "markdown",
      "metadata": {
        "id": "a5q5VaClhogG"
      },
      "source": [
        "### Что будет, если среди наших алгоритмов будет 1 сильный"
      ]
    }
  ]
}