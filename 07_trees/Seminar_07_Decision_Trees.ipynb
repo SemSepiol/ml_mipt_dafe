{
  "nbformat": 4,
  "nbformat_minor": 0,
  "metadata": {
    "kernelspec": {
      "display_name": "Python 3",
      "language": "python",
      "name": "python3"
    },
    "language_info": {
      "codemirror_mode": {
        "name": "ipython",
        "version": 3
      },
      "file_extension": ".py",
      "mimetype": "text/x-python",
      "name": "python",
      "nbconvert_exporter": "python",
      "pygments_lexer": "ipython3",
      "version": "3.6.6"
    },
    "colab": {
      "provenance": [],
      "collapsed_sections": [],
      "toc_visible": true
    }
  },
  "cells": [
    {
      "cell_type": "markdown",
      "metadata": {
        "id": "eMVZVd_ZCOmh"
      },
      "source": [
        "# Семинар – Деревья решений"
      ]
    },
    {
      "cell_type": "code",
      "metadata": {
        "id": "2icce3YoCpRL",
        "colab": {
          "base_uri": "https://localhost:8080/"
        },
        "outputId": "f3a9a151-145b-4a74-b898-55b430c56696"
      },
      "source": [
        "# !pip install numpy\n",
        "# !pip install pandas\n",
        "# !pip install matplotlib\n",
        "# !pip install sklearn\n",
        "!pip install pydot"
      ],
      "execution_count": null,
      "outputs": [
        {
          "output_type": "stream",
          "name": "stdout",
          "text": [
            "Looking in indexes: https://pypi.org/simple, https://us-python.pkg.dev/colab-wheels/public/simple/\n",
            "Requirement already satisfied: pydot in /usr/local/lib/python3.7/dist-packages (1.3.0)\n",
            "Requirement already satisfied: pyparsing>=2.1.4 in /usr/local/lib/python3.7/dist-packages (from pydot) (3.0.9)\n"
          ]
        }
      ]
    },
    {
      "cell_type": "markdown",
      "metadata": {
        "id": "Ah6wur5stlFp"
      },
      "source": [
        "# 1 Построение дерева решений"
      ]
    },
    {
      "cell_type": "markdown",
      "metadata": {
        "id": "AvN4nZghtlFq"
      },
      "source": [
        "\n",
        "Источник: [mlcourse.ai](https://mlcourse.ai) от [Юрия Кашницкого](https://yorko.github.io) и [OpenDataScience](https://ods.ai)"
      ]
    },
    {
      "cell_type": "code",
      "metadata": {
        "id": "tsZ0BYr48VZE"
      },
      "source": [
        "import numpy as np\n",
        "import pandas as pd\n",
        "from matplotlib import pyplot as plt\n",
        "%matplotlib inline"
      ],
      "execution_count": null,
      "outputs": []
    },
    {
      "cell_type": "markdown",
      "metadata": {
        "id": "yWHzY54ttlFq"
      },
      "source": [
        "Рассмотрим следующую одномерную задачу восстановления регрессии. Неформально, нужно построить функцию $a(x)$, приближающую искомую зависимость $y = f(x)$ в терминах среднеквадратичной ошибки: $min \\sum_i {(a(x_i) - f(x_i))}^2$. "
      ]
    },
    {
      "cell_type": "code",
      "metadata": {
        "id": "F045LbuftlFq"
      },
      "source": [
        "X = np.linspace(-2, 2, 7)\n",
        "y = X ** 3\n",
        "\n",
        "plt.scatter(X, y)\n",
        "\n",
        "plt.xlabel(r'$x$')\n",
        "plt.ylabel(r'$y$')"
      ],
      "execution_count": null,
      "outputs": []
    },
    {
      "cell_type": "markdown",
      "metadata": {
        "id": "rvIi2vN7tlFu"
      },
      "source": [
        "Проделаем несколько шагов в построении дерева решений. Исходя из соображений симметрии, выберем пороги для разбиения равными соответственно 0, 1.5 и -1.5. Напомним, что в случае задачи восстановления регрессии листовая вершина выдает среднее значение ответа по всем объектам обучающей выборки, попавшим в эту вершину.\n",
        "\n",
        "Итак, начнём. Дерево глубины 0 состоит из одного корня, который содержит всю обучающую выборку."
      ]
    },
    {
      "cell_type": "code",
      "metadata": {
        "id": "Avb8CEKttlFu"
      },
      "source": [],
      "execution_count": null,
      "outputs": []
    },
    {
      "cell_type": "markdown",
      "metadata": {
        "id": "jtrNKiu8tlFw"
      },
      "source": [
        "Произведем первое разбиение выборки по предикату $[x < 0]$. Получим дерево глубины 1 с двумя листьями. Постройте аналогичный график предсказаний для этого дерева."
      ]
    },
    {
      "cell_type": "code",
      "metadata": {
        "id": "Hd7aQ5_KtlFx"
      },
      "source": [],
      "execution_count": null,
      "outputs": []
    },
    {
      "cell_type": "markdown",
      "metadata": {
        "id": "nV6uhjDDtlFz"
      },
      "source": [
        "В алгоритме построения дерева решений признак и значение порога, по которым происходит разбиение выборки, выбираются исходя из некоторого критерия. Для регрессии обычно используется дисперсионный критерий: $$Q(X, j, t) = D(X) - \\dfrac{|X_l|}{|X|} D(X_l) - \\dfrac{|X_r|}{|X|} D(X_r),$$ где $X$ – выборка, находящаяся в текущей вершине, $X_l$ и $X_r$ – разбиение выборки $X$ на две части по предикату $[xj < t]$ (то есть по $j$-ому признаку и порогу $t$), а $D(X)$ – дисперсия ответов на выборке $X$: $$D(X) = \\dfrac{1}{|X|} \\sum{x_j \\in X}(y_j – \\dfrac{1}{|X|}\\sum{x_i \\in X}y_i)^2,$$ где $y_i = y(x_i)$ – ответ на объекте $x_i$. При каждом разбиении вершины выбираются признак $j$ и значение порога $t$, максимизирующие значение функционала $Q(X, j, t)$.\n",
        "\n",
        "В нашем случае признак всего один, поэтому $Q$ зависит только от значения порога $t$ (и ответов выборки в данной вершине).\n",
        "\n",
        "Постройте график функции $Q(X, t)$ в корне в зависимости от значения порога $t$ на отрезке $[-1.9, 1.9]$."
      ]
    },
    {
      "cell_type": "code",
      "metadata": {
        "id": "7fbmInFBLccn"
      },
      "source": [
        "def D(y):"
      ],
      "execution_count": null,
      "outputs": []
    },
    {
      "cell_type": "code",
      "metadata": {
        "id": "ujFAyamJLccq"
      },
      "source": [
        "def Qc(X, y, t):"
      ],
      "execution_count": null,
      "outputs": []
    },
    {
      "cell_type": "code",
      "metadata": {
        "id": "z7kKWMAytlF0"
      },
      "source": [],
      "execution_count": null,
      "outputs": []
    },
    {
      "cell_type": "code",
      "metadata": {
        "id": "hbgOpgAK-28Q"
      },
      "source": [],
      "execution_count": null,
      "outputs": []
    },
    {
      "cell_type": "markdown",
      "metadata": {
        "id": "QjrFV-8RurHj"
      },
      "source": [
        "# 1. Деревья решений"
      ]
    },
    {
      "cell_type": "markdown",
      "metadata": {
        "id": "Q5BM-TUrvSgP"
      },
      "source": [
        "## 1.1 Деревья решений в sklearn"
      ]
    },
    {
      "cell_type": "code",
      "metadata": {
        "id": "_5GDvz-hCOmc"
      },
      "source": [
        "import pandas as pd\n",
        "import numpy as np\n",
        "\n",
        "from matplotlib import pyplot as plt\n",
        "\n",
        "\n",
        "\n",
        "from sklearn.model_selection import train_test_split, GridSearchCV\n",
        "from sklearn.metrics import accuracy_score, classification_report, classification, mean_squared_error, r2_score, roc_auc_score\n",
        "\n",
        "%matplotlib inline"
      ],
      "execution_count": null,
      "outputs": []
    },
    {
      "cell_type": "markdown",
      "metadata": {
        "id": "o9eCmXYfCOmi"
      },
      "source": [
        "Для нагляности в качестве простого примера, возьмем всем известные ирисы"
      ]
    },
    {
      "cell_type": "code",
      "metadata": {
        "id": "I7Ad3e3wEeba"
      },
      "source": [
        "from sklearn.datasets import load_iris\n",
        "\n",
        "iris = load_iris()\n",
        "X = iris.data[:, 2:] # petal length and width"
      ],
      "execution_count": null,
      "outputs": []
    },
    {
      "cell_type": "code",
      "metadata": {
        "id": "GX_CYPFdEiSR"
      },
      "source": [
        "target_names = iris.target_names\n",
        "feature_names = iris.feature_names[2:]\n",
        "\n",
        "y = iris.target"
      ],
      "execution_count": null,
      "outputs": []
    },
    {
      "cell_type": "code",
      "metadata": {
        "id": "ckC2y6yTWJkR"
      },
      "source": [
        "y"
      ],
      "execution_count": null,
      "outputs": []
    },
    {
      "cell_type": "code",
      "metadata": {
        "id": "0Rgz3-LrCOmi"
      },
      "source": [
        "from sklearn.tree import DecisionTreeClassifier\n",
        "\n",
        "tree_clf = DecisionTreeClassifier(max_depth=2, random_state=42)\n",
        "tree_clf.fit(X, y)"
      ],
      "execution_count": null,
      "outputs": []
    },
    {
      "cell_type": "markdown",
      "metadata": {
        "id": "VkAYcY8MCOmm"
      },
      "source": [
        "## 1.1 Визуализация обученного дерева"
      ]
    },
    {
      "cell_type": "code",
      "metadata": {
        "id": "Rl9Lu0I0Dk3b",
        "colab": {
          "base_uri": "https://localhost:8080/"
        },
        "outputId": "ea451467-5569-4a51-a45b-8932cfa7a4b9"
      },
      "source": [
        "from google.colab import drive\n",
        "drive.mount('/content/gdrive/')"
      ],
      "execution_count": null,
      "outputs": [
        {
          "output_type": "stream",
          "name": "stdout",
          "text": [
            "Mounted at /content/gdrive/\n"
          ]
        }
      ]
    },
    {
      "cell_type": "code",
      "metadata": {
        "id": "ubmR2geaCOmn"
      },
      "source": [
        "# Отрисуем дерево\n",
        "from sklearn.tree import export_graphviz\n",
        "\n",
        "export_graphviz(tree_clf, feature_names=feature_names,\n",
        "                      class_names=target_names,\n",
        "                \n",
        "out_file='iris_tree.dot', filled=True)\n",
        "\n",
        "# для этого понадобится библиотека pydot (pip install pydot)\n",
        "!dot -Tpng 'iris_tree.dot' -o 'iris_tree.png'"
      ],
      "execution_count": null,
      "outputs": []
    },
    {
      "cell_type": "markdown",
      "metadata": {
        "id": "Xtdvj-31COmp"
      },
      "source": [
        "![](https://drive.google.com/uc?export=view&id=1vbHl0PRg3kVOtJGuQmh5uuHCnW6t-uRR)"
      ]
    },
    {
      "cell_type": "code",
      "metadata": {
        "id": "uCj4XkrtCOmq"
      },
      "source": [
        "from matplotlib.colors import ListedColormap\n",
        "\n",
        "def plot_decision_boundary(clf, X, y, axes=[0, 7.5, 0, 3], iris=True, legend=False, plot_training=True):\n",
        "    x1s = np.linspace(axes[0], axes[1], 100)\n",
        "    x2s = np.linspace(axes[2], axes[3], 100)\n",
        "    x1, x2 = np.meshgrid(x1s, x2s)\n",
        "    X_new = np.c_[x1.ravel(), x2.ravel()]\n",
        "    y_pred = clf.predict(X_new).reshape(x1.shape)\n",
        "    custom_cmap = ListedColormap(['#fafab0','#9898ff','#a0faa0'])\n",
        "    plt.contourf(x1, x2, y_pred, alpha=0.3, cmap=custom_cmap)\n",
        "    if not iris:\n",
        "        custom_cmap2 = ListedColormap(['#7d7d58','#4c4c7f','#507d50'])\n",
        "        plt.contour(x1, x2, y_pred, cmap=custom_cmap2, alpha=0.8)\n",
        "    if plot_training:\n",
        "        plt.plot(X[:, 0][y==0], X[:, 1][y==0], \"yo\", label=\"Iris-Setosa\")\n",
        "        plt.plot(X[:, 0][y==1], X[:, 1][y==1], \"bs\", label=\"Iris-Versicolor\")\n",
        "        plt.plot(X[:, 0][y==2], X[:, 1][y==2], \"g^\", label=\"Iris-Virginica\")\n",
        "        plt.axis(axes)\n",
        "    if iris:\n",
        "        plt.xlabel(\"Petal length\", fontsize=14)\n",
        "        plt.ylabel(\"Petal width\", fontsize=14)\n",
        "    else:\n",
        "        plt.xlabel(r\"$x_1$\", fontsize=18)\n",
        "        plt.ylabel(r\"$x_2$\", fontsize=18, rotation=0)\n",
        "    if legend:\n",
        "        plt.legend(loc=\"lower right\", fontsize=14)\n",
        "\n",
        "plt.figure(figsize=(10, 4))\n",
        "plot_decision_boundary(tree_clf, X, y)\n",
        "plt.plot([2.45, 2.45], [0, 3], \"k-\", linewidth=2)\n",
        "plt.plot([2.45, 7.5], [1.75, 1.75], \"k--\", linewidth=2)\n",
        "plt.plot([4.95, 4.95], [0, 1.75], \"k:\", linewidth=2)\n",
        "plt.plot([4.85, 4.85], [1.75, 3], \"k:\", linewidth=2)\n",
        "plt.text(1.40, 1.0, \"Depth=0\", fontsize=15)\n",
        "plt.text(3.2, 1.80, \"Depth=1\", fontsize=13)\n",
        "plt.text(4.05, 0.5, \"(Depth=2)\", fontsize=11)\n",
        "\n",
        "plt.show()"
      ],
      "execution_count": null,
      "outputs": []
    },
    {
      "cell_type": "markdown",
      "metadata": {
        "id": "s1hOj4E9COms"
      },
      "source": [
        "## 1.2 Переобучение дерева\n",
        "Так как при построении дерева используется принцип жадной максимизации, то дерево достаточно легко переобучить"
      ]
    },
    {
      "cell_type": "code",
      "metadata": {
        "id": "84utvtPeCOmt"
      },
      "source": [
        "from sklearn.datasets import make_moons\n",
        "Xm, ym = make_moons(n_samples=100, noise=0.25, random_state=53)\n",
        "\n",
        "deep_tree_clf1 = DecisionTreeClassifier(random_state=42)\n",
        "deep_tree_clf2 = DecisionTreeClassifier(min_samples_leaf=4, random_state=42)\n",
        "deep_tree_clf1.fit(Xm, ym)\n",
        "deep_tree_clf2.fit(Xm, ym)\n",
        "\n",
        "plt.figure(figsize=(20, 4))\n",
        "plt.subplot(121)\n",
        "plot_decision_boundary(deep_tree_clf1, Xm, ym, axes=[-1.5, 2.5, -1, 1.5], iris=False)\n",
        "plt.title(\"No restrictions\", fontsize=16)\n",
        "plt.subplot(122)\n",
        "plot_decision_boundary(deep_tree_clf2, Xm, ym, axes=[-1.5, 2.5, -1, 1.5], iris=False)\n",
        "plt.title(\"min_samples_leaf = {}\".format(deep_tree_clf2.min_samples_leaf), fontsize=14)\n",
        "\n",
        "plt.show()"
      ],
      "execution_count": null,
      "outputs": []
    },
    {
      "cell_type": "markdown",
      "metadata": {
        "id": "7J18Hh_pCOmv"
      },
      "source": [
        "## 1.3 Чувствительность дерева к выборкам"
      ]
    },
    {
      "cell_type": "code",
      "metadata": {
        "id": "XE3FOknHCOmw"
      },
      "source": [
        "np.random.seed(6)\n",
        "Xs = np.random.rand(100, 2) - 0.5\n",
        "ys = (Xs[:, 0] > 0).astype(np.float32) * 2\n",
        "\n",
        "angle = np.pi / 4\n",
        "rotation_matrix = np.array([[np.cos(angle), -np.sin(angle)], [np.sin(angle), np.cos(angle)]])\n",
        "Xsr = Xs.dot(rotation_matrix)\n",
        "\n",
        "tree_clf_s = DecisionTreeClassifier(random_state=42)\n",
        "tree_clf_s.fit(Xs, ys)\n",
        "tree_clf_sr = DecisionTreeClassifier(random_state=42)\n",
        "tree_clf_sr.fit(Xsr, ys)\n",
        "\n",
        "plt.figure(figsize=(20, 4))\n",
        "plt.subplot(121)\n",
        "plot_decision_boundary(tree_clf_s, Xs, ys, axes=[-0.7, 0.7, -0.7, 0.7], iris=False)\n",
        "plt.subplot(122)\n",
        "plot_decision_boundary(tree_clf_sr, Xsr, ys, axes=[-0.7, 0.7, -0.7, 0.7], iris=False)\n",
        "\n",
        "plt.show()"
      ],
      "execution_count": null,
      "outputs": []
    },
    {
      "cell_type": "markdown",
      "metadata": {
        "id": "kDtfSm56COmz"
      },
      "source": [
        "## 1.4 Регрессионые решающие деревья"
      ]
    },
    {
      "cell_type": "code",
      "metadata": {
        "id": "jQKiPRTjCOmz"
      },
      "source": [
        "# Quadratic training set + noise\n",
        "np.random.seed(42)\n",
        "m = 200\n",
        "X = np.random.rand(m, 1)\n",
        "y = 4 * (X - 0.5) ** 2\n",
        "y = y + np.random.randn(m, 1) / 10"
      ],
      "execution_count": null,
      "outputs": []
    },
    {
      "cell_type": "code",
      "metadata": {
        "id": "KGX-Rq5ECOm2",
        "colab": {
          "base_uri": "https://localhost:8080/"
        },
        "outputId": "fe53fa63-39d0-4a03-efed-73c787b09483"
      },
      "source": [
        "from sklearn.tree import DecisionTreeRegressor\n",
        "\n",
        "tree_reg = DecisionTreeRegressor(max_depth=2, random_state=42)\n",
        "tree_reg.fit(X, y)"
      ],
      "execution_count": null,
      "outputs": [
        {
          "output_type": "execute_result",
          "data": {
            "text/plain": [
              "DecisionTreeRegressor(ccp_alpha=0.0, criterion='mse', max_depth=2,\n",
              "                      max_features=None, max_leaf_nodes=None,\n",
              "                      min_impurity_decrease=0.0, min_impurity_split=None,\n",
              "                      min_samples_leaf=1, min_samples_split=2,\n",
              "                      min_weight_fraction_leaf=0.0, presort='deprecated',\n",
              "                      random_state=42, splitter='best')"
            ]
          },
          "metadata": {},
          "execution_count": 16
        }
      ]
    },
    {
      "cell_type": "code",
      "metadata": {
        "id": "ozzLH2_-COm4"
      },
      "source": [
        "tree_reg1 = DecisionTreeRegressor(random_state=42, max_depth=2)\n",
        "tree_reg2 = DecisionTreeRegressor(random_state=42, max_depth=3)\n",
        "tree_reg1.fit(X, y)\n",
        "tree_reg2.fit(X, y)\n",
        "\n",
        "def plot_regression_predictions(tree_reg, X, y, axes=[0, 1, -0.2, 1], ylabel=\"$y$\"):\n",
        "    x1 = np.linspace(axes[0], axes[1], 500).reshape(-1, 1)\n",
        "    y_pred = tree_reg.predict(x1)\n",
        "    plt.axis(axes)\n",
        "    plt.xlabel(\"$x_1$\", fontsize=18)\n",
        "    if ylabel:\n",
        "        plt.ylabel(ylabel, fontsize=18, rotation=0)\n",
        "    plt.plot(X, y, \"b.\")\n",
        "    plt.plot(x1, y_pred, \"r.-\", linewidth=2, label=r\"$\\hat{y}$\")\n",
        "\n",
        "plt.figure(figsize=(20, 4))\n",
        "plt.subplot(121)\n",
        "plot_regression_predictions(tree_reg1, X, y)\n",
        "for split, style in ((0.1973, \"k-\"), (0.0917, \"k--\"), (0.7718, \"k--\")):\n",
        "    plt.plot([split, split], [-0.2, 1], style, linewidth=2)\n",
        "plt.text(0.21, 0.65, \"Depth=0\", fontsize=15)\n",
        "plt.text(0.01, 0.2, \"Depth=1\", fontsize=13)\n",
        "plt.text(0.65, 0.8, \"Depth=1\", fontsize=13)\n",
        "plt.legend(loc=\"upper center\", fontsize=18)\n",
        "plt.title(\"max_depth=2\", fontsize=14)\n",
        "\n",
        "plt.subplot(122)\n",
        "plot_regression_predictions(tree_reg2, X, y, ylabel=None)\n",
        "for split, style in ((0.1973, \"k-\"), (0.0917, \"k--\"), (0.7718, \"k--\")):\n",
        "    plt.plot([split, split], [-0.2, 1], style, linewidth=2)\n",
        "for split in (0.0458, 0.1298, 0.2873, 0.9040):\n",
        "    plt.plot([split, split], [-0.2, 1], \"k:\", linewidth=1)\n",
        "plt.text(0.3, 0.5, \"Depth=2\", fontsize=13)\n",
        "plt.title(\"max_depth=3\", fontsize=14)\n",
        "\n",
        "\n",
        "plt.show()"
      ],
      "execution_count": null,
      "outputs": []
    },
    {
      "cell_type": "code",
      "metadata": {
        "id": "r9GdI6TbCOm6"
      },
      "source": [
        "tree_reg1 = DecisionTreeRegressor(random_state=42)\n",
        "tree_reg2 = DecisionTreeRegressor(random_state=42, min_samples_leaf=10)\n",
        "tree_reg1.fit(X, y)\n",
        "tree_reg2.fit(X, y)\n",
        "\n",
        "x1 = np.linspace(0, 1, 500).reshape(-1, 1)\n",
        "y_pred1 = tree_reg1.predict(x1)\n",
        "y_pred2 = tree_reg2.predict(x1)\n",
        "\n",
        "plt.figure(figsize=(20, 4))\n",
        "\n",
        "plt.subplot(121)\n",
        "plt.plot(X, y, \"b.\")\n",
        "plt.plot(x1, y_pred1, \"r.-\", linewidth=2, label=r\"$\\hat{y}$\")\n",
        "plt.axis([0, 1, -0.2, 1.1])\n",
        "plt.xlabel(\"$x_1$\", fontsize=18)\n",
        "plt.ylabel(\"$y$\", fontsize=18, rotation=0)\n",
        "plt.legend(loc=\"upper center\", fontsize=18)\n",
        "plt.title(\"No restrictions\", fontsize=14)\n",
        "\n",
        "plt.subplot(122)\n",
        "plt.plot(X, y, \"b.\")\n",
        "plt.plot(x1, y_pred2, \"r.-\", linewidth=2, label=r\"$\\hat{y}$\")\n",
        "plt.axis([0, 1, -0.2, 1.1])\n",
        "plt.xlabel(\"$x_1$\", fontsize=18)\n",
        "plt.title(\"min_samples_leaf={}\".format(tree_reg2.min_samples_leaf), fontsize=14)\n",
        "\n",
        "plt.show()"
      ],
      "execution_count": null,
      "outputs": []
    },
    {
      "cell_type": "markdown",
      "metadata": {
        "id": "edw1z5LRCOm-"
      },
      "source": [
        "## 1.5 Применение на реальных данных"
      ]
    },
    {
      "cell_type": "markdown",
      "metadata": {
        "id": "qdD0904UFyVx"
      },
      "source": [
        "### 1.5.1 Платформа kaggle\n",
        "Будем использовать данныые с соревнования: [Прогнозирование задержек рейсов](https://www.kaggle.com/c/departure-delay2/leaderboard)   \n",
        "Начем с того, что загрузим данные:\n",
        "\n",
        "[x_train](https://drive.google.com/uc?export=download&id=1zHqX3NDXtUDm4VzhoIef8IrL7YQLAaxy)\n",
        "\n",
        "[x_test](https://drive.google.com/uc?export=download&id=15jJDI0bQ3S2pYYDT85gDOdpPKUhMtekj)\n",
        "\n",
        "[y_train](https://drive.google.com/uc?export=download&id=1i3_mb8tzzSKyjHPkBEKpQmcfHpe_Gn2I)"
      ]
    },
    {
      "cell_type": "code",
      "metadata": {
        "id": "OAG6sHOqCOm_"
      },
      "source": [
        "train = pd.read_csv('./gdrive/My Drive/Colab Notebooks/ML/семестр1/Семинар 6 - Trees/departure-delayed/x_train.csv').fillna(0)\n",
        "test = pd.read_csv('./gdrive/My Drive/Colab Notebooks/ML/семестр1/Семинар 6 - Trees/departure-delayed/x_test.csv').fillna(0)"
      ],
      "execution_count": null,
      "outputs": []
    },
    {
      "cell_type": "code",
      "metadata": {
        "id": "vKgkSYeCCOnB",
        "colab": {
          "base_uri": "https://localhost:8080/"
        },
        "outputId": "2fe1af50-1499-46eb-895a-ddfc97bb4838"
      },
      "source": [
        "y = pd.read_csv('./gdrive/My Drive/Colab Notebooks/ML/семестр1/Семинар 6 - Trees/departure-delayed/y_train.csv', index_col='id')"
      ],
      "execution_count": null,
      "outputs": [
        {
          "output_type": "stream",
          "name": "stderr",
          "text": [
            "/usr/local/lib/python3.7/dist-packages/numpy/lib/arraysetops.py:580: FutureWarning: elementwise comparison failed; returning scalar instead, but in the future will perform elementwise comparison\n",
            "  mask |= (ar1 == a)\n"
          ]
        }
      ]
    },
    {
      "cell_type": "markdown",
      "metadata": {
        "id": "PN6mEAlnCOnD"
      },
      "source": [
        "Посмотрим размеры выборок"
      ]
    },
    {
      "cell_type": "code",
      "metadata": {
        "id": "hAjwIYHOCOnD"
      },
      "source": [
        "train.shape, test.shape, y.shape"
      ],
      "execution_count": null,
      "outputs": []
    },
    {
      "cell_type": "markdown",
      "metadata": {
        "id": "yNdIUnOqCOnG"
      },
      "source": [
        "Посмотрим как выглядят данные"
      ]
    },
    {
      "cell_type": "code",
      "metadata": {
        "id": "lebvVKPWCOnG"
      },
      "source": [
        "train.head(5)"
      ],
      "execution_count": null,
      "outputs": []
    },
    {
      "cell_type": "markdown",
      "metadata": {
        "id": "xM33h2bdCOnI"
      },
      "source": [
        "Для начала, мы рассмотрим переменные, заданные числами"
      ]
    },
    {
      "cell_type": "code",
      "metadata": {
        "id": "O1IgyTmyCOnJ"
      },
      "source": [
        "train.describe()"
      ],
      "execution_count": null,
      "outputs": []
    },
    {
      "cell_type": "code",
      "metadata": {
        "id": "i-4lVZERCOnM",
        "colab": {
          "base_uri": "https://localhost:8080/"
        },
        "outputId": "0b5527cc-df68-44b7-a992-2063d28a13b9"
      },
      "source": [
        "# Проверим, прежде чем выкидывать признак:\n",
        "print(\"Значений признака 'year' в трейне \" ,  train['Year'].nunique())\n",
        "print(\"Значений признака 'year' в тесте \" ,  test['Year'].nunique())"
      ],
      "execution_count": null,
      "outputs": [
        {
          "output_type": "stream",
          "name": "stdout",
          "text": [
            "Значений признака 'year' в трейне  1\n",
            "Значений признака 'year' в тесте  1\n"
          ]
        }
      ]
    },
    {
      "cell_type": "markdown",
      "metadata": {
        "id": "l_Qfl9USCOnM"
      },
      "source": [
        "Итак, какие выводы мы можем сделать? \n",
        "1. Признак `year` не несет вариативности в данные - удалим его\n",
        "2. Признаки `Month`, `DayofMonth`, `DayOfWeek` скорее всего можно рассматривать как категориальные"
      ]
    },
    {
      "cell_type": "code",
      "metadata": {
        "id": "DCwqGsm8COnO"
      },
      "source": [
        "train.drop('Year', axis=1, inplace=True)\n",
        "test.drop('Year', axis=1, inplace=True)"
      ],
      "execution_count": null,
      "outputs": []
    },
    {
      "cell_type": "code",
      "metadata": {
        "id": "ZK2d_y1DCOnQ"
      },
      "source": [
        "types = train.dtypes\n",
        "real_cols = list(types[types != 'object'].index.values)\n",
        "cat_cols = list(types[types == 'object'].index.values)\n",
        "types"
      ],
      "execution_count": null,
      "outputs": []
    },
    {
      "cell_type": "markdown",
      "metadata": {
        "id": "lHubNvwGyf5w"
      },
      "source": [
        "Построим зависимость ошибки от максимальной глубины дерева"
      ]
    },
    {
      "cell_type": "code",
      "metadata": {
        "id": "i7PlLEQxCOnT"
      },
      "source": [
        "x_train, x_val, y_train, y_val = train_test_split(train, y, train_size=0.7, test_size=0.3, random_state=1)"
      ],
      "execution_count": null,
      "outputs": []
    },
    {
      "cell_type": "code",
      "metadata": {
        "id": "F5YfbWF4COnV"
      },
      "source": [
        "dt = DecisionTreeRegressor()\n",
        "dt.fit(x_train[real_cols], y_train)\n",
        "mse_train = mean_squared_error(dt.predict(x_train[real_cols]), y_train)\n",
        "mse_val = mean_squared_error(dt.predict(x_val[real_cols]), y_val)\n",
        "print(mse_train, mse_val)"
      ],
      "execution_count": null,
      "outputs": []
    },
    {
      "cell_type": "markdown",
      "metadata": {
        "id": "BQrDtP7Ay7Ao"
      },
      "source": [
        "А теперь с регуляризацией"
      ]
    },
    {
      "cell_type": "code",
      "metadata": {
        "id": "sktQrscFCOnY"
      },
      "source": [
        "mse_train = []\n",
        "mse_val = []\n",
        "\n",
        "for i in range(5):\n",
        "    dt = DecisionTreeRegressor(max_depth=i*5+1, min_samples_leaf=1000)\n",
        "    dt.fit(x_train[real_cols], y_train)\n",
        "    mse_train = np.append(mse_train, mean_squared_error(dt.predict(x_train[real_cols]), y_train))\n",
        "    mse_val = np.append(mse_val, mean_squared_error(dt.predict(x_val[real_cols]), y_val))"
      ],
      "execution_count": null,
      "outputs": []
    },
    {
      "cell_type": "code",
      "metadata": {
        "id": "rosQE8f9COna"
      },
      "source": [
        "plt.figure(figsize=(10, 4))\n",
        "plt.title('Изменение ошибки в зависимости от глубины дерева')\n",
        "\n",
        "plt.plot(mse_train, label='Train')\n",
        "plt.plot(mse_val, label='Test')\n",
        "plt.legend()\n",
        "plt.xlabel('Глубина дерева')\n",
        "plt.ylabel('MSE')\n",
        "plt.show()"
      ],
      "execution_count": null,
      "outputs": []
    },
    {
      "cell_type": "code",
      "metadata": {
        "id": "yQZxlVnbER2k"
      },
      "source": [
        "from sklearn.metrics import mean_squared_error\n",
        "# Обучим классификатор\n",
        "# dt = DecisionTreeRegressor(max_depth=10, min_samples_leaf=1000, min_samples_split=1000)\n",
        "# dt.fit(train[real_cols], y)\n",
        "mean_squared_error(dt.predict(x_val[real_cols]), y_val.values)"
      ],
      "execution_count": null,
      "outputs": []
    },
    {
      "cell_type": "code",
      "metadata": {
        "id": "7OP5DqkHHSED"
      },
      "source": [
        "y_val.values"
      ],
      "execution_count": null,
      "outputs": []
    },
    {
      "cell_type": "markdown",
      "metadata": {
        "id": "4TIPPSs4COnc"
      },
      "source": [
        "### 1.5.2 Работа с категориальными переменными"
      ]
    },
    {
      "cell_type": "markdown",
      "metadata": {
        "id": "WNFucJxZA7n9"
      },
      "source": [
        "#### One hot encoding\n",
        "\n",
        "Представим, что у нас есть признак, который принимает n значений, One hot encoding создает n признаков вместо изначального, при этом каждый новый признак принимает значения $\\{0,1\\}$, при этом все признаки каждого объекта будут равны 0, и только один 1\n",
        "\n",
        "Возможно использовать `OneHotEncoder` из sklearn.preprocessing, но мы будем испольовать `pandas`"
      ]
    },
    {
      "cell_type": "code",
      "metadata": {
        "id": "9v8-n1xzCOnd"
      },
      "source": [
        "print(train['UniqueCarrier'].unique())\n",
        "print(train['UniqueCarrier'].nunique())"
      ],
      "execution_count": null,
      "outputs": []
    },
    {
      "cell_type": "code",
      "metadata": {
        "id": "UINOwEzlCOnf"
      },
      "source": [
        "train = pd.get_dummies(train, drop_first=True, columns=['UniqueCarrier'])\n",
        "test = pd.get_dummies(test, drop_first=True, columns=['UniqueCarrier'])"
      ],
      "execution_count": null,
      "outputs": []
    },
    {
      "cell_type": "code",
      "metadata": {
        "id": "GsJHvyQ1COng"
      },
      "source": [
        "train.head()"
      ],
      "execution_count": null,
      "outputs": []
    },
    {
      "cell_type": "markdown",
      "metadata": {
        "id": "8uZhHHvwCOni"
      },
      "source": [
        "#### Кодирование переменных"
      ]
    },
    {
      "cell_type": "code",
      "metadata": {
        "id": "-rKj7xoCCOnj",
        "colab": {
          "base_uri": "https://localhost:8080/"
        },
        "outputId": "c6367499-15e1-48bf-c0bd-28394d6720a4"
      },
      "source": [
        "#Создадим новую фичу 'route', которая будет содержать информацию как о точке отправления, так и о месте назначения\n",
        "train['route'] = train['Origin'] + train['Dest']\n",
        "test['route'] = test['Origin'] + test['Dest']\n",
        "train['route'].nunique(), test['route'].nunique()"
      ],
      "execution_count": null,
      "outputs": [
        {
          "output_type": "execute_result",
          "data": {
            "text/plain": [
              "(5128, 4998)"
            ]
          },
          "metadata": {},
          "execution_count": 36
        }
      ]
    },
    {
      "cell_type": "markdown",
      "metadata": {
        "id": "_OpV54ztCOnk"
      },
      "source": [
        "Давайте закодируем каждое значение 'route' средним значением целевой переменной для этого значения"
      ]
    },
    {
      "cell_type": "code",
      "metadata": {
        "id": "1VXhhSoYCOnl"
      },
      "source": [
        "code_route = pd.pivot_table(pd.concat([pd.DataFrame(train), y],axis=1), \n",
        "                            index='route', values='DelayTime', aggfunc='mean')"
      ],
      "execution_count": null,
      "outputs": []
    },
    {
      "cell_type": "code",
      "metadata": {
        "id": "22Z34Nw2COnn"
      },
      "source": [
        "train['route'] = train['route'].apply(lambda x: code_route.loc[x][0] if x in code_route.index else 0)\n",
        "test['route'] = test['route'].apply(lambda x: code_route.loc[x][0] if x in code_route.index else 0)"
      ],
      "execution_count": null,
      "outputs": []
    },
    {
      "cell_type": "code",
      "metadata": {
        "id": "neZ5yCT3COnq"
      },
      "source": [
        "train.head()"
      ],
      "execution_count": null,
      "outputs": []
    },
    {
      "cell_type": "markdown",
      "metadata": {
        "id": "_oLkrArJCOns"
      },
      "source": [
        "### 1.5.3 Обучим классификатор и сделаем Submit "
      ]
    },
    {
      "cell_type": "code",
      "metadata": {
        "id": "pGnh8VEy9Vvv"
      },
      "source": [
        "# Обучим классификатор\n",
        "dt = DecisionTreeRegressor(max_depth=10, min_samples_leaf=10000, min_samples_split=10000)\n",
        "dt.fit(train[real_cols], y)"
      ],
      "execution_count": null,
      "outputs": []
    },
    {
      "cell_type": "code",
      "metadata": {
        "id": "h_1a4C4kCOnw"
      },
      "source": [
        "pd.Series(dt.predict(test[real_cols]), name='DelayTime').to_csv('predict.csv', index_label='id', header=True)"
      ],
      "execution_count": null,
      "outputs": []
    },
    {
      "cell_type": "code",
      "metadata": {
        "id": "ftGh4gJLtfYk"
      },
      "source": [
        "from google.colab import files\n",
        "files.download('predict.csv')"
      ],
      "execution_count": null,
      "outputs": []
    },
    {
      "cell_type": "markdown",
      "metadata": {
        "id": "tMngHf0nCOnw"
      },
      "source": [
        "И будем Валидирвоаться непосрелственно на лидерборде [соревнования](https://www.kaggle.com/c/departure-delay2/leaderboard)"
      ]
    }
  ]
}